{
 "cells": [
  {
   "cell_type": "code",
   "execution_count": 1,
   "metadata": {
    "edited": true,
    "gradable": true,
    "grader_id": "a8p6bbz8wpc",
    "udacity_user_query": ""
   },
   "outputs": [
    {
     "name": "stdout",
     "output_type": "stream",
     "text": [
      "1\n",
      "2\n",
      "6\n",
      "24\n",
      "120\n"
     ]
    }
   ],
   "source": [
    "def prod(a,b):\n",
    "    # TODO change output to the product of a and b\n",
    "    return a * b\n",
    "\n",
    "def fact_gen():\n",
    "    i = 1\n",
    "    n = i\n",
    "    while True:\n",
    "        output = prod(n, i)\n",
    "        yield output\n",
    "        # TODO: update i and n\n",
    "        # Hint: i is a successive integer and n is the previous product\n",
    "        i+= 1\n",
    "        n = output\n",
    "\n",
    "# Test cases\n",
    "my_gen = fact_gen()\n",
    "num = 5\n",
    "for i in range(num):\n",
    "    print(next(my_gen))\n",
    "\n",
    "# Correct result when num = 5:\n",
    "# 1\n",
    "# 2\n",
    "# 6\n",
    "# 24\n",
    "# 120"
   ]
  },
  {
   "cell_type": "code",
   "execution_count": 22,
   "metadata": {
    "edited": false,
    "gradable": true,
    "grader_id": "askv2pcxpnb",
    "udacity_user_query": ""
   },
   "outputs": [
    {
     "name": "stdout",
     "output_type": "stream",
     "text": [
      "False\n",
      "True\n",
      "False\n",
      "False\n",
      "False\n",
      "False\n"
     ]
    }
   ],
   "source": [
    "# Define a function check_sudoku() here:\n",
    "def check_sudoku(square):\n",
    "    n = len(square)\n",
    "    \n",
    "    lst_check = list(range(1,n+1))\n",
    "    for row in square:\n",
    "        for i in lst_check:\n",
    "            if i not in row:\n",
    "                return False\n",
    "            lst_check.remove(i)\n",
    "    \n",
    "    lst_check = list(range(1,(n+1)))\n",
    "    for i in lst_check:\n",
    "        for row in square:\n",
    "            if row[n-1] not in lst_check:\n",
    "                return False\n",
    "            lst_check.remove(row[n-1])\n",
    "    \n",
    "    return True\n",
    "    \n",
    "# Test cases\n",
    "correct = [[1,2,3],\n",
    "           [2,3,1],\n",
    "           [3,1,2]]\n",
    "incorrect = [[1,2,3,4],\n",
    "             [2,3,1,3],\n",
    "             [3,1,2,3],\n",
    "             [4,4,4,4]]\n",
    "incorrect2 = [[1,2,3,4],\n",
    "             [2,3,1,4],\n",
    "             [4,1,2,3],\n",
    "             [3,4,1,2]]\n",
    "incorrect3 = [[1,2,3,4,5],\n",
    "              [2,3,1,5,6],\n",
    "              [4,5,2,1,3],\n",
    "              [3,4,5,2,1],\n",
    "              [5,6,4,3,2]]\n",
    "incorrect4 = [['a','b','c'],\n",
    "              ['b','c','a'],\n",
    "              ['c','a','b']]\n",
    "incorrect5 = [ [1, 1.5],\n",
    "               [1.5, 1]]\n",
    "\n",
    "    \n",
    "print(check_sudoku(incorrect))\n",
    "#>>> False\n",
    "print(check_sudoku(correct))\n",
    "#>>> True\n",
    "print(check_sudoku(incorrect2))\n",
    "#>>> False\n",
    "print(check_sudoku(incorrect3))\n",
    "#>>> False\n",
    "print(check_sudoku(incorrect4))\n",
    "#>>> False\n",
    "print(check_sudoku(incorrect5))\n",
    "#>>> False"
   ]
  },
  {
   "cell_type": "code",
   "execution_count": null,
   "metadata": {},
   "outputs": [],
   "source": []
  }
 ],
 "metadata": {
  "grader_mode": "",
  "kernelspec": {
   "display_name": "Python 3 (ipykernel)",
   "language": "python",
   "name": "python3"
  },
  "language_info": {
   "codemirror_mode": {
    "name": "ipython",
    "version": 3
   },
   "file_extension": ".py",
   "mimetype": "text/x-python",
   "name": "python",
   "nbconvert_exporter": "python",
   "pygments_lexer": "ipython3",
   "version": "3.7.13"
  },
  "showGradeBtn": true
 },
 "nbformat": 4,
 "nbformat_minor": 2
}
