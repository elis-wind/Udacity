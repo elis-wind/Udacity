{
 "cells": [
  {
   "cell_type": "code",
   "execution_count": 1,
   "id": "12073461",
   "metadata": {},
   "outputs": [],
   "source": [
    "import numpy as np\n",
    "import torch"
   ]
  },
  {
   "cell_type": "code",
   "execution_count": 4,
   "id": "a86e8dc6",
   "metadata": {},
   "outputs": [
    {
     "name": "stdout",
     "output_type": "stream",
     "text": [
      "[[1, 2], [3, 4]] <class 'list'>\n",
      "tensor([[1, 2],\n",
      "        [3, 4]]) <class 'torch.Tensor'>\n"
     ]
    }
   ],
   "source": [
    "data = [[1,2],[3,4]]\n",
    "data_tensor = torch.tensor(data)\n",
    "print(data, type(data))\n",
    "print(data_tensor, type(data_tensor))"
   ]
  },
  {
   "cell_type": "code",
   "execution_count": 3,
   "id": "7bbdfd89",
   "metadata": {},
   "outputs": [
    {
     "name": "stdout",
     "output_type": "stream",
     "text": [
      "[[1 2]\n",
      " [3 4]\n",
      " [5 6]] <class 'numpy.ndarray'>\n",
      "tensor([[1, 2],\n",
      "        [3, 4],\n",
      "        [5, 6]]) <class 'torch.Tensor'>\n"
     ]
    }
   ],
   "source": [
    "data = [[1,2],[3,4],[5,6]]\n",
    "np_data = np.array(data)\n",
    "print(np_data, type(np_data))\n",
    "np_data_tensor = torch.from_numpy(np_data)\n",
    "print(np_data_tensor, type(np_data_tensor))"
   ]
  },
  {
   "cell_type": "code",
   "execution_count": 5,
   "id": "a8ef0d3c",
   "metadata": {},
   "outputs": [
    {
     "data": {
      "text/plain": [
       "tensor([0., 0., 0., 0., 0.])"
      ]
     },
     "execution_count": 5,
     "metadata": {},
     "output_type": "execute_result"
    }
   ],
   "source": [
    "torch.zeros(5)"
   ]
  },
  {
   "cell_type": "code",
   "execution_count": 6,
   "id": "e24e9a11",
   "metadata": {},
   "outputs": [
    {
     "data": {
      "text/plain": [
       "tensor([[1., 1.],\n",
       "        [1., 1.]])"
      ]
     },
     "execution_count": 6,
     "metadata": {},
     "output_type": "execute_result"
    }
   ],
   "source": [
    "torch.ones(2,2)"
   ]
  },
  {
   "cell_type": "code",
   "execution_count": 11,
   "id": "4b126630",
   "metadata": {},
   "outputs": [
    {
     "data": {
      "text/plain": [
       "tensor([[[0.6418, 0.0201, 0.8284, 0.7265, 0.1945],\n",
       "         [0.4629, 0.1228, 0.4321, 0.3722, 0.1647],\n",
       "         [0.6573, 0.4516, 0.7172, 0.3044, 0.0434],\n",
       "         [0.9305, 0.6740, 0.3352, 0.3030, 0.5063]],\n",
       "\n",
       "        [[0.2776, 0.9571, 0.6311, 0.8931, 0.9123],\n",
       "         [0.3689, 0.8993, 0.3627, 0.7342, 0.1456],\n",
       "         [0.4310, 0.3680, 0.2311, 0.0096, 0.3824],\n",
       "         [0.2775, 0.0749, 0.2761, 0.9329, 0.0941]],\n",
       "\n",
       "        [[0.0121, 0.1008, 0.3266, 0.8738, 0.0712],\n",
       "         [0.7653, 0.8295, 0.5083, 0.5273, 0.8029],\n",
       "         [0.6561, 0.1950, 0.3236, 0.8100, 0.7557],\n",
       "         [0.1459, 0.4602, 0.0489, 0.6679, 0.7645]]])"
      ]
     },
     "execution_count": 11,
     "metadata": {},
     "output_type": "execute_result"
    }
   ],
   "source": [
    "rand = torch.rand(3,4,5)\n",
    "rand"
   ]
  },
  {
   "cell_type": "code",
   "execution_count": 10,
   "id": "b7061954",
   "metadata": {},
   "outputs": [
    {
     "name": "stdout",
     "output_type": "stream",
     "text": [
      "tensor([[0., 0., 0.],\n",
      "        [0., 0., 0.],\n",
      "        [0., 0., 0.]]) torch.Size([3, 3])\n",
      "tensor([[1., 1., 1.],\n",
      "        [1., 1., 1.],\n",
      "        [1., 1., 1.]]) torch.Size([3, 3])\n"
     ]
    }
   ],
   "source": [
    "zero_tensor = torch.zeros(3,3)\n",
    "ones_like_zeros = torch.ones_like(zero_tensor)\n",
    "print(zero_tensor, zero_tensor.shape)\n",
    "print(ones_like_zeros, ones_like_zeros.shape)"
   ]
  },
  {
   "cell_type": "code",
   "execution_count": null,
   "id": "c9db44c3",
   "metadata": {},
   "outputs": [],
   "source": []
  },
  {
   "cell_type": "code",
   "execution_count": 13,
   "id": "8fcffb45",
   "metadata": {},
   "outputs": [
    {
     "data": {
      "text/plain": [
       "tensor([0.6418, 0.0201, 0.8284, 0.7265, 0.1945])"
      ]
     },
     "execution_count": 13,
     "metadata": {},
     "output_type": "execute_result"
    }
   ],
   "source": [
    "rand[0,0]"
   ]
  },
  {
   "cell_type": "code",
   "execution_count": 15,
   "id": "9ccaff3b",
   "metadata": {},
   "outputs": [
    {
     "data": {
      "text/plain": [
       "tensor([[0.6418, 0.0201, 0.8284, 0.7265, 0.1945],\n",
       "        [0.4629, 0.1228, 0.4321, 0.3722, 0.1647],\n",
       "        [0.6573, 0.4516, 0.7172, 0.3044, 0.0434],\n",
       "        [0.9305, 0.6740, 0.3352, 0.3030, 0.5063]])"
      ]
     },
     "execution_count": 15,
     "metadata": {},
     "output_type": "execute_result"
    }
   ],
   "source": [
    "rand[0]"
   ]
  },
  {
   "cell_type": "code",
   "execution_count": 14,
   "id": "447674f4",
   "metadata": {},
   "outputs": [
    {
     "data": {
      "text/plain": [
       "tensor([[0.6418, 0.0201, 0.8284, 0.7265, 0.1945],\n",
       "        [0.2776, 0.9571, 0.6311, 0.8931, 0.9123],\n",
       "        [0.0121, 0.1008, 0.3266, 0.8738, 0.0712]])"
      ]
     },
     "execution_count": 14,
     "metadata": {},
     "output_type": "execute_result"
    }
   ],
   "source": [
    "rand[:,0]"
   ]
  },
  {
   "cell_type": "code",
   "execution_count": null,
   "id": "6f248951",
   "metadata": {},
   "outputs": [],
   "source": []
  },
  {
   "cell_type": "code",
   "execution_count": 16,
   "id": "b2bcc146",
   "metadata": {},
   "outputs": [
    {
     "data": {
      "text/plain": [
       "tensor([[[0.6418, 0.0201, 0.8284, 0.7265, 0.1945],\n",
       "         [0.4629, 0.1228, 0.4321, 0.3722, 0.1647],\n",
       "         [0.6573, 0.4516, 0.7172, 0.3044, 0.0434],\n",
       "         [0.9305, 0.6740, 0.3352, 0.3030, 0.5063]],\n",
       "\n",
       "        [[0.2776, 0.9571, 0.6311, 0.8931, 0.9123],\n",
       "         [0.3689, 0.8993, 0.3627, 0.7342, 0.1456],\n",
       "         [0.4310, 0.3680, 0.2311, 0.0096, 0.3824],\n",
       "         [0.2775, 0.0749, 0.2761, 0.9329, 0.0941]],\n",
       "\n",
       "        [[0.0121, 0.1008, 0.3266, 0.8738, 0.0712],\n",
       "         [0.7653, 0.8295, 0.5083, 0.5273, 0.8029],\n",
       "         [0.6561, 0.1950, 0.3236, 0.8100, 0.7557],\n",
       "         [0.1459, 0.4602, 0.0489, 0.6679, 0.7645]]])"
      ]
     },
     "execution_count": 16,
     "metadata": {},
     "output_type": "execute_result"
    }
   ],
   "source": [
    "x = rand.detach()\n",
    "x"
   ]
  },
  {
   "cell_type": "code",
   "execution_count": 17,
   "id": "e239603a",
   "metadata": {},
   "outputs": [
    {
     "name": "stdout",
     "output_type": "stream",
     "text": [
      "tensor([0.8405, 0.8787, 0.0250, 0.5215, 0.9813])\n",
      "tensor([0.7020, 0.3430, 0.6118, 0.2212, 0.5976])\n"
     ]
    },
    {
     "data": {
      "text/plain": [
       "tensor(1.6084)"
      ]
     },
     "execution_count": 17,
     "metadata": {},
     "output_type": "execute_result"
    }
   ],
   "source": [
    "rand1 = torch.rand(5)\n",
    "rand2 = torch.rand(5)\n",
    "print(rand1)\n",
    "print(rand2)\n",
    "torch.matmul(rand1,rand2)"
   ]
  },
  {
   "cell_type": "code",
   "execution_count": 18,
   "id": "4e9306c2",
   "metadata": {},
   "outputs": [
    {
     "name": "stdout",
     "output_type": "stream",
     "text": [
      "tensor([[0.5543, 0.1033, 0.2247, 0.7767, 0.5889],\n",
      "        [0.7814, 0.1214, 0.0625, 0.7766, 0.9022],\n",
      "        [0.0385, 0.2596, 0.3917, 0.4641, 0.6748],\n",
      "        [0.6808, 0.2408, 0.5362, 0.7695, 0.5026],\n",
      "        [0.5335, 0.9519, 0.7008, 0.1688, 0.4424]])\n",
      "tensor([[0.8105, 0.0056, 0.1918, 0.5199, 0.9639],\n",
      "        [0.0039, 0.2544, 0.2182, 0.8946, 0.6763],\n",
      "        [0.2741, 0.8053, 0.7335, 0.0835, 0.3746],\n",
      "        [0.1092, 0.7228, 0.6986, 0.6586, 0.8445],\n",
      "        [0.3403, 0.9025, 0.0581, 0.5023, 0.4027]])\n"
     ]
    },
    {
     "data": {
      "text/plain": [
       "tensor([[0.7965, 1.3032, 0.8704, 1.2067, 1.5814],\n",
       "        [1.0428, 1.4612, 0.8171, 1.4848, 1.8779],\n",
       "        [0.4199, 1.3260, 0.7147, 0.9296, 1.0231],\n",
       "        [0.9548, 1.5067, 1.1431, 1.3734, 1.8722],\n",
       "        [0.7972, 1.3307, 0.9676, 1.5208, 1.7412]])"
      ]
     },
     "execution_count": 18,
     "metadata": {},
     "output_type": "execute_result"
    }
   ],
   "source": [
    "rand1 = torch.rand(5,5)\n",
    "rand2 = torch.rand(5,5)\n",
    "print(rand1)\n",
    "print(rand2)\n",
    "torch.matmul(rand1,rand2)"
   ]
  },
  {
   "cell_type": "code",
   "execution_count": null,
   "id": "91f65c9a",
   "metadata": {},
   "outputs": [],
   "source": []
  }
 ],
 "metadata": {
  "kernelspec": {
   "display_name": "Python 3 (ipykernel)",
   "language": "python",
   "name": "python3"
  },
  "language_info": {
   "codemirror_mode": {
    "name": "ipython",
    "version": 3
   },
   "file_extension": ".py",
   "mimetype": "text/x-python",
   "name": "python",
   "nbconvert_exporter": "python",
   "pygments_lexer": "ipython3",
   "version": "3.7.13"
  }
 },
 "nbformat": 4,
 "nbformat_minor": 5
}
