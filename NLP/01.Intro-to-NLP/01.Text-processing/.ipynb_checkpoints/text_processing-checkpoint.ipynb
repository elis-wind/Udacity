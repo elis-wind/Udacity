{
 "cells": [
  {
   "cell_type": "markdown",
   "metadata": {},
   "source": [
    "# Text Processing\n",
    "\n",
    "## Capturing Text Data\n",
    "\n",
    "### Plain Text"
   ]
  },
  {
   "cell_type": "code",
   "execution_count": 1,
   "metadata": {},
   "outputs": [
    {
     "name": "stdout",
     "output_type": "stream",
     "text": [
      "Hieroglyphic writing dates from c. 3000 BC, and is composed of hundreds of symbols. A hieroglyph can represent a word, a sound, or a silent determinative; and the same symbol can serve different purposes in different contexts. Hieroglyphs were a formal script, used on stone monuments and in tombs, that could be as detailed as individual works of art.\n",
      "\n"
     ]
    }
   ],
   "source": [
    "import os\n",
    "\n",
    "# Read in a plain text file\n",
    "with open(os.path.join(\"data\", \"hieroglyph.txt\"), \"r\") as f:\n",
    "    text = f.read()\n",
    "    print(text)"
   ]
  },
  {
   "cell_type": "markdown",
   "metadata": {},
   "source": [
    "### Tabular Data"
   ]
  },
  {
   "cell_type": "code",
   "execution_count": 2,
   "metadata": {
    "scrolled": true
   },
   "outputs": [
    {
     "data": {
      "text/html": [
       "<div>\n",
       "<style scoped>\n",
       "    .dataframe tbody tr th:only-of-type {\n",
       "        vertical-align: middle;\n",
       "    }\n",
       "\n",
       "    .dataframe tbody tr th {\n",
       "        vertical-align: top;\n",
       "    }\n",
       "\n",
       "    .dataframe thead th {\n",
       "        text-align: right;\n",
       "    }\n",
       "</style>\n",
       "<table border=\"1\" class=\"dataframe\">\n",
       "  <thead>\n",
       "    <tr style=\"text-align: right;\">\n",
       "      <th></th>\n",
       "      <th>publisher</th>\n",
       "      <th>title</th>\n",
       "    </tr>\n",
       "  </thead>\n",
       "  <tbody>\n",
       "    <tr>\n",
       "      <th>0</th>\n",
       "      <td>Livemint</td>\n",
       "      <td>fed's charles plosser sees high bar for change...</td>\n",
       "    </tr>\n",
       "    <tr>\n",
       "      <th>1</th>\n",
       "      <td>IFA Magazine</td>\n",
       "      <td>us open: stocks fall after fed official hints ...</td>\n",
       "    </tr>\n",
       "    <tr>\n",
       "      <th>2</th>\n",
       "      <td>IFA Magazine</td>\n",
       "      <td>fed risks falling 'behind the curve', charles ...</td>\n",
       "    </tr>\n",
       "    <tr>\n",
       "      <th>3</th>\n",
       "      <td>Moneynews</td>\n",
       "      <td>fed's plosser: nasty weather has curbed job gr...</td>\n",
       "    </tr>\n",
       "    <tr>\n",
       "      <th>4</th>\n",
       "      <td>NASDAQ</td>\n",
       "      <td>plosser: fed may have to accelerate tapering pace</td>\n",
       "    </tr>\n",
       "  </tbody>\n",
       "</table>\n",
       "</div>"
      ],
      "text/plain": [
       "      publisher                                              title\n",
       "0      Livemint  fed's charles plosser sees high bar for change...\n",
       "1  IFA Magazine  us open: stocks fall after fed official hints ...\n",
       "2  IFA Magazine  fed risks falling 'behind the curve', charles ...\n",
       "3     Moneynews  fed's plosser: nasty weather has curbed job gr...\n",
       "4        NASDAQ  plosser: fed may have to accelerate tapering pace"
      ]
     },
     "execution_count": 2,
     "metadata": {},
     "output_type": "execute_result"
    }
   ],
   "source": [
    "import pandas as pd\n",
    "\n",
    "# Extract text column from a dataframe\n",
    "df = pd.read_csv(os.path.join(\"data\", \"news.csv\"))\n",
    "df.head()[['publisher', 'title']]\n",
    "\n",
    "# Convert text column to lowercase\n",
    "df['title'] = df['title'].str.lower()\n",
    "df.head()[['publisher', 'title']]"
   ]
  },
  {
   "cell_type": "markdown",
   "metadata": {},
   "source": [
    "### Online Resource"
   ]
  },
  {
   "cell_type": "code",
   "execution_count": 3,
   "metadata": {},
   "outputs": [
    {
     "name": "stdout",
     "output_type": "stream",
     "text": [
      "{\n",
      "    \"quoteText\": \"No garden is without its weeds. \",\n",
      "    \"quoteAuthor\": \"Thomas Fuller\",\n",
      "    \"senderName\": \"\",\n",
      "    \"senderLink\": \"\",\n",
      "    \"quoteLink\": \"http://forismatic.com/en/fbdccfd060/\"\n",
      "}\n",
      "\"No garden is without its weeds. \" - Thomas Fuller\n"
     ]
    }
   ],
   "source": [
    "import requests\n",
    "import json\n",
    "\n",
    "# Fetch data from a REST API (note- in production avoid setting verify to False)\n",
    "url = 'http://api.forismatic.com/api/1.0/'\n",
    "params = {\n",
    "    'method': 'getQuote',\n",
    "    'format': 'json',\n",
    "    'lang': 'en',  # Change this to get quotes in a different language\n",
    "}\n",
    "response = requests.get(url, params=params)\n",
    "\n",
    "# print(response.json(), \"\\n\")\n",
    "\n",
    "if response.status_code == 200:\n",
    "    data = response.json()\n",
    "    print(json.dumps(data, indent=4))\n",
    "\n",
    "    # Extract relevant object and field\n",
    "    quote = data['quoteText']\n",
    "    author = data['quoteAuthor']\n",
    "\n",
    "    print(f'\"{quote}\" - {author}')\n",
    "else:\n",
    "    print(\"Failed to fetch data.\")"
   ]
  },
  {
   "cell_type": "markdown",
   "metadata": {},
   "source": [
    "## Cleaning"
   ]
  },
  {
   "cell_type": "code",
   "execution_count": 4,
   "metadata": {
    "scrolled": false
   },
   "outputs": [
    {
     "name": "stdout",
     "output_type": "stream",
     "text": [
      "<html lang=\"en\" op=\"news\"><head><meta name=\"referrer\" content=\"origin\"><meta name=\"viewport\" content=\"width=device-width, initial-scale=1.0\"><link rel=\"stylesheet\" type=\"text/css\" href=\"news.css?GWsUy5KGFqx1M9UIO0dq\">\n",
      "        <link rel=\"shortcut icon\" href=\"favicon.ico\">\n",
      "          <link rel=\"alternate\" type=\"application/rss+xml\" title=\"RSS\" href=\"rss\">\n",
      "        <title>Hacker News</title></head><body><center><table id=\"hnmain\" border=\"0\" cellpadding=\"0\" cellspacing=\"0\" width=\"85%\" bgcolor=\"#f6f6ef\">\n",
      "        <tr><td bgcolor=\"#ff6600\"><table border=\"0\" cellpadding=\"0\" cellspacing=\"0\" width=\"100%\" style=\"padding:2px\"><tr><td style=\"width:18px;padding-right:4px\"><a href=\"https://news.ycombinator.com\"><img src=\"y18.svg\" width=\"18\" height=\"18\" style=\"border:1px white solid; display:block\"></a></td>\n",
      "                  <td style=\"line-height:12pt; height:10px;\"><span class=\"pagetop\"><b class=\"hnname\"><a href=\"news\">Hacker News</a></b>\n",
      "                            <a href=\"newest\">new</a> | <a href=\"front\">past</a> | <a href=\"newcomments\">comments</a> | <a href=\"ask\">ask</a> | <a href=\"show\">show</a> | <a href=\"jobs\">jobs</a> | <a href=\"submit\">submit</a>            </span></td><td style=\"text-align:right;padding-right:4px;\"><span class=\"pagetop\">\n",
      "                              <a href=\"login?goto=news\">login</a>\n",
      "                          </span></td>\n",
      "              </tr></table></td></tr>\n",
      "<tr id=\"pagespace\" title=\"\" style=\"height:10px\"></tr><tr><td><table border=\"0\" cellpadding=\"0\" cellspacing=\"0\">\n",
      "            <tr class='athing' id='38431482'>\n",
      "      <td align=\"right\" valign=\"top\" class=\"title\"><span class=\"rank\">1.</span></td>      <td valign=\"top\" class=\"votelinks\"><center><a id='up_38431482'href='vote?id=38431482&amp;how=up&amp;goto=news'><div class='votearrow' title='upvote'></div></a></center></td><td class=\"title\"><span class=\"titleline\"><a href=\"https://aimoprize.com/\" rel=\"noreferrer\">$10M AI Mathematical Olympiad Prize</a><span class=\"sitebit comhead\"> (<a href=\"from?site=aimoprize.com\"><span class=\"sitestr\">aimoprize.com</span></a>)</span></span></td></tr><tr><td colspan=\"2\"></td><td class=\"subtext\"><span class=\"subline\">\n",
      "          <span class=\"score\" id=\"score_38431482\">137 points</span> by <a href=\"user?id=jasondavies\" class=\"hnuser\">jasondavies</a> <span class=\"age\" title=\"2023-11-27T12:25:06\"><a href=\"item?id=38431482\">2 hours ago</a></span> <span id=\"unv_38431482\"></span> | <a href=\"hide?id=38431482&amp;goto=news\">hide</a> | <a href=\"item?id=38431482\">63&nbsp;comments</a>        </span>\n",
      "              </td></tr>\n",
      "      <tr class=\"spacer\" style=\"height:5px\"></tr>\n",
      "                <tr class='athing' id='38432451'>\n",
      "      <td align=\"right\" valign=\"top\" class=\"title\"><span class=\"rank\">2.</span></td>      <td valign=\"top\" class=\"votelinks\"><center><a id='up_38432451'href='vote?id=38432451&amp;how=up&amp;goto=news'><div class='votearrow' title='upvote'></div></a></center></td><td class=\"title\"><span class=\"titleline\"><a href=\"https://onlinelibrary.wiley.com/doi/10.1111/ssqu.13320\" rel=\"noreferrer\">Physical attractiveness and intergenerational social mobility</a><span class=\"sitebit comhead\"> (<a href=\"from?site=wiley.com\"><span class=\"sitestr\">wiley.com</span></a>)</span></span></td></tr><tr><td colspan=\"2\"></td><td class=\"subtext\"><span class=\"subline\">\n",
      "          <span class=\"score\" id=\"score_38432451\">33 points</span> by <a href=\"user?id=PaulHoule\" class=\"hnuser\">PaulHoule</a> <span class=\"age\" title=\"2023-11-27T14:15:26\"><a href=\"item?id=38432451\">23 minutes ago</a></span> <span id=\"unv_38432451\"></span> | <a href=\"hide?id=38432451&amp;goto=news\">hide</a> | <a href=\"item?id=38432451\">7&nbsp;comments</a>        </span>\n",
      "              </td></tr>\n",
      "      <tr class=\"spacer\" style=\"height:5px\"></tr>\n",
      "                <tr class='athing' id='38432134'>\n",
      "      <td align=\"right\" valign=\"top\" class=\"title\"><span class=\"rank\">3.</span></td>      <td valign=\"top\" class=\"votelinks\"><center><a id='up_38432134'href='vote?id=38432134&amp;how=up&amp;goto=news'><div class='votearrow' title='upvote'></div></a></center></td><td class=\"title\"><span class=\"titleline\"><a href=\"https://arxiv.org/abs/1609.01421\" rel=\"noreferrer\">Struggles with the Continuum</a><span class=\"sitebit comhead\"> (<a href=\"from?site=arxiv.org\"><span class=\"sitestr\">arxiv.org</span></a>)</span></span></td></tr><tr><td colspan=\"2\"></td><td class=\"subtext\"><span class=\"subline\">\n",
      "          <span class=\"score\" id=\"score_38432134\">23 points</span> by <a href=\"user?id=hackandthink\" class=\"hnuser\">hackandthink</a> <span class=\"age\" title=\"2023-11-27T13:40:06\"><a href=\"item?id=38432134\">58 minutes ago</a></span> <span id=\"unv_38432134\"></span> | <a href=\"hide?id=38432134&amp;goto=news\">hide</a> | <a href=\"item?id=38432134\">1&nbsp;comment</a>        </span>\n",
      "              </td></tr>\n",
      "      <tr class=\"spacer\" style=\"height:5px\"></tr>\n",
      "                <tr class='athing' id='38430074'>\n",
      "      <td align=\"right\" valign=\"top\" class=\"title\"><span class=\"rank\">4.</span></td>      <td valign=\"top\" class=\"votelinks\"><center><a id='up_38430074'href='vote?id=38430074&amp;how=up&amp;goto=news'><div class='votearrow' title='upvote'></div></a></center></td><td class=\"title\"><span class=\"titleline\"><a href=\"https://opencv.org/blog/where-is-opencv-5/\" rel=\"noreferrer\">Where Is OpenCV 5?</a><span class=\"sitebit comhead\"> (<a href=\"from?site=opencv.org\"><span class=\"sitestr\">opencv.org</span></a>)</span></span></td></tr><tr><td colspan=\"2\"></td><td class=\"subtext\"><span class=\"subline\">\n",
      "          <span class=\"score\" id=\"score_38430074\">156 points</span> by <a href=\"user?id=Tycho87\" class=\"hnuser\">Tycho87</a> <span class=\"age\" title=\"2023-11-27T09:18:52\"><a href=\"item?id=38430074\">5 hours ago</a></span> <span id=\"unv_38430074\"></span> | <a href=\"hide?id=38430074&amp;goto=news\">hide</a> | <a href=\"item?id=38430074\">68&nbsp;comments</a>        </span>\n",
      "              </td></tr>\n",
      "      <tr class=\"spacer\" style=\"height:5px\"></tr>\n",
      "                <tr class='athing' id='38431402'>\n",
      "      <td align=\"right\" valign=\"top\" class=\"title\"><span class=\"rank\">5.</span></td>      <td valign=\"top\" class=\"votelinks\"><center><a id='up_38431402'href='vote?id=38431402&amp;how=up&amp;goto=news'><div class='votearrow' title='upvote'></div></a></center></td><td class=\"title\"><span class=\"titleline\"><a href=\"https://troypress.com/wealth-systems-in-rpgs/\" rel=\"noreferrer\">Wealth Systems in RPGs</a><span class=\"sitebit comhead\"> (<a href=\"from?site=troypress.com\"><span class=\"sitestr\">troypress.com</span></a>)</span></span></td></tr><tr><td colspan=\"2\"></td><td class=\"subtext\"><span class=\"subline\">\n",
      "          <span class=\"score\" id=\"score_38431402\">33 points</span> by <a href=\"user?id=surprisetalk\" class=\"hnuser\">surprisetalk</a> <span class=\"age\" title=\"2023-11-27T12:16:28\"><a href=\"item?id=38431402\">1 hour ago</a></span> <span id=\"unv_38431402\"></span> | <a href=\"hide?id=38431402&amp;goto=news\">hide</a> | <a href=\"item?id=38431402\">5&nbsp;comments</a>        </span>\n",
      "              </td></tr>\n",
      "      <tr class=\"spacer\" style=\"height:5px\"></tr>\n",
      "                <tr class='athing' id='38429460'>\n",
      "      <td align=\"right\" valign=\"top\" class=\"title\"><span class=\"rank\">6.</span></td>      <td valign=\"top\" class=\"votelinks\"><center><a id='up_38429460'href='vote?id=38429460&amp;how=up&amp;goto=news'><div class='votearrow' title='upvote'></div></a></center></td><td class=\"title\"><span class=\"titleline\"><a href=\"https://www.downtowndougbrown.com/2023/11/how-apples-developers-reflashed-mac-roms-in-the-90s/\" rel=\"noreferrer\">Apple&#x27;s developers reflashed Mac ROMs in the &#x27;90s</a><span class=\"sitebit comhead\"> (<a href=\"from?site=downtowndougbrown.com\"><span class=\"sitestr\">downtowndougbrown.com</span></a>)</span></span></td></tr><tr><td colspan=\"2\"></td><td class=\"subtext\"><span class=\"subline\">\n",
      "          <span class=\"score\" id=\"score_38429460\">95 points</span> by <a href=\"user?id=SerCe\" class=\"hnuser\">SerCe</a> <span class=\"age\" title=\"2023-11-27T08:11:42\"><a href=\"item?id=38429460\">6 hours ago</a></span> <span id=\"unv_38429460\"></span> | <a href=\"hide?id=38429460&amp;goto=news\">hide</a> | <a href=\"item?id=38429460\">32&nbsp;comments</a>        </span>\n",
      "              </td></tr>\n",
      "      <tr class=\"spacer\" style=\"height:5px\"></tr>\n",
      "                <tr class='athing' id='38429291'>\n",
      "      <td align=\"right\" valign=\"top\" class=\"title\"><span class=\"rank\">7.</span></td>      <td valign=\"top\" class=\"votelinks\"><center><a id='up_38429291'href='vote?id=38429291&amp;how=up&amp;goto=news'><div class='votearrow' title='upvote'></div></a></center></td><td class=\"title\"><span class=\"titleline\"><a href=\"https://retro.social/@ifixcoinops/111480744130939877\" rel=\"noreferrer\">Brother have gotten to where they are now, by not innovating</a><span class=\"sitebit comhead\"> (<a href=\"from?site=retro.social\"><span class=\"sitestr\">retro.social</span></a>)</span></span></td></tr><tr><td colspan=\"2\"></td><td class=\"subtext\"><span class=\"subline\">\n",
      "          <span class=\"score\" id=\"score_38429291\">524 points</span> by <a href=\"user?id=anotherevan\" class=\"hnuser\">anotherevan</a> <span class=\"age\" title=\"2023-11-27T07:43:06\"><a href=\"item?id=38429291\">6 hours ago</a></span> <span id=\"unv_38429291\"></span> | <a href=\"hide?id=38429291&amp;goto=news\">hide</a> | <a href=\"item?id=38429291\">433&nbsp;comments</a>        </span>\n",
      "              </td></tr>\n",
      "      <tr class=\"spacer\" style=\"height:5px\"></tr>\n",
      "                <tr class='athing' id='38418865'>\n",
      "      <td align=\"right\" valign=\"top\" class=\"title\"><span class=\"rank\">8.</span></td>      <td valign=\"top\" class=\"votelinks\"><center><a id='up_38418865'href='vote?id=38418865&amp;how=up&amp;goto=news'><div class='votearrow' title='upvote'></div></a></center></td><td class=\"title\"><span class=\"titleline\"><a href=\"https://lcamtuf.substack.com/p/signal-reflections-in-electronic\" rel=\"noreferrer\">Signal reflections in electronic circuits</a><span class=\"sitebit comhead\"> (<a href=\"from?site=lcamtuf.substack.com\"><span class=\"sitestr\">lcamtuf.substack.com</span></a>)</span></span></td></tr><tr><td colspan=\"2\"></td><td class=\"subtext\"><span class=\"subline\">\n",
      "          <span class=\"score\" id=\"score_38418865\">71 points</span> by <a href=\"user?id=zdw\" class=\"hnuser\">zdw</a> <span class=\"age\" title=\"2023-11-26T03:18:24\"><a href=\"item?id=38418865\">7 hours ago</a></span> <span id=\"unv_38418865\"></span> | <a href=\"hide?id=38418865&amp;goto=news\">hide</a> | <a href=\"item?id=38418865\">20&nbsp;comments</a>        </span>\n",
      "              </td></tr>\n",
      "      <tr class=\"spacer\" style=\"height:5px\"></tr>\n",
      "                <tr class='athing' id='38402368'>\n",
      "      <td align=\"right\" valign=\"top\" class=\"title\"><span class=\"rank\">9.</span></td>      <td valign=\"top\" class=\"votelinks\"><center><a id='up_38402368'href='vote?id=38402368&amp;how=up&amp;goto=news'><div class='votearrow' title='upvote'></div></a></center></td><td class=\"title\"><span class=\"titleline\"><a href=\"https://pqvst.com/2023/11/21/web-push-notifications/\" rel=\"noreferrer\">Demystifying Web Push Notifications</a><span class=\"sitebit comhead\"> (<a href=\"from?site=pqvst.com\"><span class=\"sitestr\">pqvst.com</span></a>)</span></span></td></tr><tr><td colspan=\"2\"></td><td class=\"subtext\"><span class=\"subline\">\n",
      "          <span class=\"score\" id=\"score_38402368\">144 points</span> by <a href=\"user?id=daco\" class=\"hnuser\">daco</a> <span class=\"age\" title=\"2023-11-24T10:19:38\"><a href=\"item?id=38402368\">8 hours ago</a></span> <span id=\"unv_38402368\"></span> | <a href=\"hide?id=38402368&amp;goto=news\">hide</a> | <a href=\"item?id=38402368\">53&nbsp;comments</a>        </span>\n",
      "              </td></tr>\n",
      "      <tr class=\"spacer\" style=\"height:5px\"></tr>\n",
      "                <tr class='athing' id='38431743'>\n",
      "      <td align=\"right\" valign=\"top\" class=\"title\"><span class=\"rank\">10.</span></td>      <td valign=\"top\" class=\"votelinks\"><center><a id='up_38431743'href='vote?id=38431743&amp;how=up&amp;goto=news'><div class='votearrow' title='upvote'></div></a></center></td><td class=\"title\"><span class=\"titleline\"><a href=\"https://www.theregister.com/2023/11/27/google_drive_files_disappearing/\" rel=\"noreferrer\">Google Drive misplaces months&#x27; worth of customer data</a><span class=\"sitebit comhead\"> (<a href=\"from?site=theregister.com\"><span class=\"sitestr\">theregister.com</span></a>)</span></span></td></tr><tr><td colspan=\"2\"></td><td class=\"subtext\"><span class=\"subline\">\n",
      "          <span class=\"score\" id=\"score_38431743\">92 points</span> by <a href=\"user?id=ubutler\" class=\"hnuser\">ubutler</a> <span class=\"age\" title=\"2023-11-27T12:54:42\"><a href=\"item?id=38431743\">1 hour ago</a></span> <span id=\"unv_38431743\"></span> | <a href=\"hide?id=38431743&amp;goto=news\">hide</a> | <a href=\"item?id=38431743\">21&nbsp;comments</a>        </span>\n",
      "              </td></tr>\n",
      "      <tr class=\"spacer\" style=\"height:5px\"></tr>\n",
      "                <tr class='athing' id='38431273'>\n",
      "      <td align=\"right\" valign=\"top\" class=\"title\"><span class=\"rank\">11.</span></td>      <td><img src=\"s.gif\" height=\"1\" width=\"14\"></td>       <td class=\"title\"><span class=\"titleline\"><a href=\"https://onesignal.com/careers\" rel=\"nofollow noreferrer\">OneSignal (YC S11) Is Hiring Engineers</a><span class=\"sitebit comhead\"> (<a href=\"from?site=onesignal.com\"><span class=\"sitestr\">onesignal.com</span></a>)</span></span></td></tr><tr><td colspan=\"2\"></td><td class=\"subtext\">\n",
      "        <span class=\"age\" title=\"2023-11-27T12:00:26\"><a href=\"item?id=38431273\">2 hours ago</a></span> | <a href=\"hide?id=38431273&amp;goto=news\">hide</a>      </td></tr>\n",
      "      <tr class=\"spacer\" style=\"height:5px\"></tr>\n",
      "                <tr class='athing' id='38401794'>\n",
      "      <td align=\"right\" valign=\"top\" class=\"title\"><span class=\"rank\">12.</span></td>      <td valign=\"top\" class=\"votelinks\"><center><a id='up_38401794'href='vote?id=38401794&amp;how=up&amp;goto=news'><div class='votearrow' title='upvote'></div></a></center></td><td class=\"title\"><span class=\"titleline\"><a href=\"https://classnames.paulrobertlloyd.com\" rel=\"noreferrer\">Classnames – a site that provides thematically grouped lists of words</a><span class=\"sitebit comhead\"> (<a href=\"from?site=paulrobertlloyd.com\"><span class=\"sitestr\">paulrobertlloyd.com</span></a>)</span></span></td></tr><tr><td colspan=\"2\"></td><td class=\"subtext\"><span class=\"subline\">\n",
      "          <span class=\"score\" id=\"score_38401794\">57 points</span> by <a href=\"user?id=surprisetalk\" class=\"hnuser\">surprisetalk</a> <span class=\"age\" title=\"2023-11-24T08:39:31\"><a href=\"item?id=38401794\">6 hours ago</a></span> <span id=\"unv_38401794\"></span> | <a href=\"hide?id=38401794&amp;goto=news\">hide</a> | <a href=\"item?id=38401794\">15&nbsp;comments</a>        </span>\n",
      "              </td></tr>\n",
      "      <tr class=\"spacer\" style=\"height:5px\"></tr>\n",
      "                <tr class='athing' id='38432261'>\n",
      "      <td align=\"right\" valign=\"top\" class=\"title\"><span class=\"rank\">13.</span></td>      <td valign=\"top\" class=\"votelinks\"><center><a id='up_38432261'href='vote?id=38432261&amp;how=up&amp;goto=news'><div class='votearrow' title='upvote'></div></a></center></td><td class=\"title\"><span class=\"titleline\"><a href=\"https://github.com/orgs/community/discussions/77046\">GitHub: Can no longer search code without being logged in</a><span class=\"sitebit comhead\"> (<a href=\"from?site=github.com/orgs\"><span class=\"sitestr\">github.com/orgs</span></a>)</span></span></td></tr><tr><td colspan=\"2\"></td><td class=\"subtext\"><span class=\"subline\">\n",
      "          <span class=\"score\" id=\"score_38432261\">26 points</span> by <a href=\"user?id=6581\" class=\"hnuser\">6581</a> <span class=\"age\" title=\"2023-11-27T13:56:50\"><a href=\"item?id=38432261\">41 minutes ago</a></span> <span id=\"unv_38432261\"></span> | <a href=\"hide?id=38432261&amp;goto=news\">hide</a> | <a href=\"item?id=38432261\">18&nbsp;comments</a>        </span>\n",
      "              </td></tr>\n",
      "      <tr class=\"spacer\" style=\"height:5px\"></tr>\n",
      "                <tr class='athing' id='38431792'>\n",
      "      <td align=\"right\" valign=\"top\" class=\"title\"><span class=\"rank\">14.</span></td>      <td valign=\"top\" class=\"votelinks\"><center><a id='up_38431792'href='vote?id=38431792&amp;how=up&amp;goto=news'><div class='votearrow' title='upvote'></div></a></center></td><td class=\"title\"><span class=\"titleline\"><a href=\"https://www.phoronix.com/review/freebsd-14-epyc\" rel=\"noreferrer\">FreeBSD 14.0 Delivering Great Performance Uplift</a><span class=\"sitebit comhead\"> (<a href=\"from?site=phoronix.com\"><span class=\"sitestr\">phoronix.com</span></a>)</span></span></td></tr><tr><td colspan=\"2\"></td><td class=\"subtext\"><span class=\"subline\">\n",
      "          <span class=\"score\" id=\"score_38431792\">41 points</span> by <a href=\"user?id=vermaden\" class=\"hnuser\">vermaden</a> <span class=\"age\" title=\"2023-11-27T13:01:30\"><a href=\"item?id=38431792\">1 hour ago</a></span> <span id=\"unv_38431792\"></span> | <a href=\"hide?id=38431792&amp;goto=news\">hide</a> | <a href=\"item?id=38431792\">4&nbsp;comments</a>        </span>\n",
      "              </td></tr>\n",
      "      <tr class=\"spacer\" style=\"height:5px\"></tr>\n",
      "                <tr class='athing' id='38430974'>\n",
      "      <td align=\"right\" valign=\"top\" class=\"title\"><span class=\"rank\">15.</span></td>      <td valign=\"top\" class=\"votelinks\"><center><a id='up_38430974'href='vote?id=38430974&amp;how=up&amp;goto=news'><div class='votearrow' title='upvote'></div></a></center></td><td class=\"title\"><span class=\"titleline\"><a href=\"https://www.theregister.com/2023/11/24/tata_210m_code_theft/\" rel=\"noreferrer\">Tata Consultancy Services ordered to cough up $210M in code theft trial</a><span class=\"sitebit comhead\"> (<a href=\"from?site=theregister.com\"><span class=\"sitestr\">theregister.com</span></a>)</span></span></td></tr><tr><td colspan=\"2\"></td><td class=\"subtext\"><span class=\"subline\">\n",
      "          <span class=\"score\" id=\"score_38430974\">91 points</span> by <a href=\"user?id=pseudolus\" class=\"hnuser\">pseudolus</a> <span class=\"age\" title=\"2023-11-27T11:18:11\"><a href=\"item?id=38430974\">3 hours ago</a></span> <span id=\"unv_38430974\"></span> | <a href=\"hide?id=38430974&amp;goto=news\">hide</a> | <a href=\"item?id=38430974\">23&nbsp;comments</a>        </span>\n",
      "              </td></tr>\n",
      "      <tr class=\"spacer\" style=\"height:5px\"></tr>\n",
      "                <tr class='athing' id='38401750'>\n",
      "      <td align=\"right\" valign=\"top\" class=\"title\"><span class=\"rank\">16.</span></td>      <td valign=\"top\" class=\"votelinks\"><center><a id='up_38401750'href='vote?id=38401750&amp;how=up&amp;goto=news'><div class='votearrow' title='upvote'></div></a></center></td><td class=\"title\"><span class=\"titleline\"><a href=\"https://mictests.com/\" rel=\"noreferrer\">Mic Test</a><span class=\"sitebit comhead\"> (<a href=\"from?site=mictests.com\"><span class=\"sitestr\">mictests.com</span></a>)</span></span></td></tr><tr><td colspan=\"2\"></td><td class=\"subtext\"><span class=\"subline\">\n",
      "          <span class=\"score\" id=\"score_38401750\">66 points</span> by <a href=\"user?id=nitinreddy88\" class=\"hnuser\">nitinreddy88</a> <span class=\"age\" title=\"2023-11-24T08:32:25\"><a href=\"item?id=38401750\">7 hours ago</a></span> <span id=\"unv_38401750\"></span> | <a href=\"hide?id=38401750&amp;goto=news\">hide</a> | <a href=\"item?id=38401750\">23&nbsp;comments</a>        </span>\n",
      "              </td></tr>\n",
      "      <tr class=\"spacer\" style=\"height:5px\"></tr>\n",
      "                <tr class='athing' id='38432127'>\n",
      "      <td align=\"right\" valign=\"top\" class=\"title\"><span class=\"rank\">17.</span></td>      <td valign=\"top\" class=\"votelinks\"><center><a id='up_38432127'href='vote?id=38432127&amp;how=up&amp;goto=news'><div class='votearrow' title='upvote'></div></a></center></td><td class=\"title\"><span class=\"titleline\"><a href=\"https://stackoverflow.com/questions/20762094/how-are-zlib-gzip-and-zip-related-what-do-they-have-in-common-and-how-are-they\" rel=\"noreferrer\">How are zlib, gzip and zip related?</a><span class=\"sitebit comhead\"> (<a href=\"from?site=stackoverflow.com\"><span class=\"sitestr\">stackoverflow.com</span></a>)</span></span></td></tr><tr><td colspan=\"2\"></td><td class=\"subtext\"><span class=\"subline\">\n",
      "          <span class=\"score\" id=\"score_38432127\">25 points</span> by <a href=\"user?id=damagednoob\" class=\"hnuser\">damagednoob</a> <span class=\"age\" title=\"2023-11-27T13:39:15\"><a href=\"item?id=38432127\">59 minutes ago</a></span> <span id=\"unv_38432127\"></span> | <a href=\"hide?id=38432127&amp;goto=news\">hide</a> | <a href=\"item?id=38432127\">4&nbsp;comments</a>        </span>\n",
      "              </td></tr>\n",
      "      <tr class=\"spacer\" style=\"height:5px\"></tr>\n",
      "                <tr class='athing' id='38431308'>\n",
      "      <td align=\"right\" valign=\"top\" class=\"title\"><span class=\"rank\">18.</span></td>      <td valign=\"top\" class=\"votelinks\"><center><a id='up_38431308'href='vote?id=38431308&amp;how=up&amp;goto=news'><div class='votearrow' title='upvote'></div></a></center></td><td class=\"title\"><span class=\"titleline\"><a href=\"https://bugzilla.mozilla.org/show_bug.cgi?id=1688774\" rel=\"noreferrer\">Support HTTP over Unix domain sockets</a><span class=\"sitebit comhead\"> (<a href=\"from?site=bugzilla.mozilla.org\"><span class=\"sitestr\">bugzilla.mozilla.org</span></a>)</span></span></td></tr><tr><td colspan=\"2\"></td><td class=\"subtext\"><span class=\"subline\">\n",
      "          <span class=\"score\" id=\"score_38431308\">36 points</span> by <a href=\"user?id=denysonique\" class=\"hnuser\">denysonique</a> <span class=\"age\" title=\"2023-11-27T12:05:14\"><a href=\"item?id=38431308\">2 hours ago</a></span> <span id=\"unv_38431308\"></span> | <a href=\"hide?id=38431308&amp;goto=news\">hide</a> | <a href=\"item?id=38431308\">22&nbsp;comments</a>        </span>\n",
      "              </td></tr>\n",
      "      <tr class=\"spacer\" style=\"height:5px\"></tr>\n",
      "                <tr class='athing' id='38421454'>\n",
      "      <td align=\"right\" valign=\"top\" class=\"title\"><span class=\"rank\">19.</span></td>      <td valign=\"top\" class=\"votelinks\"><center><a id='up_38421454'href='vote?id=38421454&amp;how=up&amp;goto=news'><div class='votearrow' title='upvote'></div></a></center></td><td class=\"title\"><span class=\"titleline\"><a href=\"https://agupubs.onlinelibrary.wiley.com/doi/10.1029/2022EF003465\" rel=\"noreferrer\">The Weight of New York City: Subsidence from Anthropogenic Sources</a><span class=\"sitebit comhead\"> (<a href=\"from?site=wiley.com\"><span class=\"sitestr\">wiley.com</span></a>)</span></span></td></tr><tr><td colspan=\"2\"></td><td class=\"subtext\"><span class=\"subline\">\n",
      "          <span class=\"score\" id=\"score_38421454\">21 points</span> by <a href=\"user?id=jaboutboul\" class=\"hnuser\">jaboutboul</a> <span class=\"age\" title=\"2023-11-26T13:31:56\"><a href=\"item?id=38421454\">5 hours ago</a></span> <span id=\"unv_38421454\"></span> | <a href=\"hide?id=38421454&amp;goto=news\">hide</a> | <a href=\"item?id=38421454\">8&nbsp;comments</a>        </span>\n",
      "              </td></tr>\n",
      "      <tr class=\"spacer\" style=\"height:5px\"></tr>\n",
      "                <tr class='athing' id='38432211'>\n",
      "      <td align=\"right\" valign=\"top\" class=\"title\"><span class=\"rank\">20.</span></td>      <td valign=\"top\" class=\"votelinks\"><center><a id='up_38432211'href='vote?id=38432211&amp;how=up&amp;goto=news'><div class='votearrow' title='upvote'></div></a></center></td><td class=\"title\"><span class=\"titleline\"><a href=\"https://influencermagazine.uk/2023/11/allegations-of-quid-pro-quo-behavior-tech-community-scrutinizing-satya-nadella-and-sam-altmans-high-stakes-friendship/\" rel=\"noreferrer\">Allegations of Quid Pro Quo Behavior: Satya Nadella and Sam Altman&#x27;s Friendship</a><span class=\"sitebit comhead\"> (<a href=\"from?site=influencermagazine.uk\"><span class=\"sitestr\">influencermagazine.uk</span></a>)</span></span></td></tr><tr><td colspan=\"2\"></td><td class=\"subtext\"><span class=\"subline\">\n",
      "          <span class=\"score\" id=\"score_38432211\">11 points</span> by <a href=\"user?id=upwardbound\" class=\"hnuser\">upwardbound</a> <span class=\"age\" title=\"2023-11-27T13:51:05\"><a href=\"item?id=38432211\">47 minutes ago</a></span> <span id=\"unv_38432211\"></span> | <a href=\"hide?id=38432211&amp;goto=news\">hide</a> | <a href=\"item?id=38432211\">3&nbsp;comments</a>        </span>\n",
      "              </td></tr>\n",
      "      <tr class=\"spacer\" style=\"height:5px\"></tr>\n",
      "                <tr class='athing' id='38419890'>\n",
      "      <td align=\"right\" valign=\"top\" class=\"title\"><span class=\"rank\">21.</span></td>      <td valign=\"top\" class=\"votelinks\"><center><a id='up_38419890'href='vote?id=38419890&amp;how=up&amp;goto=news'><div class='votearrow' title='upvote'></div></a></center></td><td class=\"title\"><span class=\"titleline\"><a href=\"https://karthinks.com/software/different-strokes-for-different-folks/\" rel=\"noreferrer\">Emacs and the mouse: A modest defense of the rodent</a><span class=\"sitebit comhead\"> (<a href=\"from?site=karthinks.com\"><span class=\"sitestr\">karthinks.com</span></a>)</span></span></td></tr><tr><td colspan=\"2\"></td><td class=\"subtext\"><span class=\"subline\">\n",
      "          <span class=\"score\" id=\"score_38419890\">104 points</span> by <a href=\"user?id=signa11\" class=\"hnuser\">signa11</a> <span class=\"age\" title=\"2023-11-26T07:36:19\"><a href=\"item?id=38419890\">12 hours ago</a></span> <span id=\"unv_38419890\"></span> | <a href=\"hide?id=38419890&amp;goto=news\">hide</a> | <a href=\"item?id=38419890\">52&nbsp;comments</a>        </span>\n",
      "              </td></tr>\n",
      "      <tr class=\"spacer\" style=\"height:5px\"></tr>\n",
      "                <tr class='athing' id='38425932'>\n",
      "      <td align=\"right\" valign=\"top\" class=\"title\"><span class=\"rank\">22.</span></td>      <td valign=\"top\" class=\"votelinks\"><center><a id='up_38425932'href='vote?id=38425932&amp;how=up&amp;goto=news'><div class='votearrow' title='upvote'></div></a></center></td><td class=\"title\"><span class=\"titleline\"><a href=\"https://www.cnn.com/style/article/ice-stupa-sonam-wangchuk/index.html\" rel=\"noreferrer\">Artificial glacier growing in the desert (2017)</a><span class=\"sitebit comhead\"> (<a href=\"from?site=cnn.com\"><span class=\"sitestr\">cnn.com</span></a>)</span></span></td></tr><tr><td colspan=\"2\"></td><td class=\"subtext\"><span class=\"subline\">\n",
      "          <span class=\"score\" id=\"score_38425932\">124 points</span> by <a href=\"user?id=wjb3\" class=\"hnuser\">wjb3</a> <span class=\"age\" title=\"2023-11-26T22:53:13\"><a href=\"item?id=38425932\">14 hours ago</a></span> <span id=\"unv_38425932\"></span> | <a href=\"hide?id=38425932&amp;goto=news\">hide</a> | <a href=\"item?id=38425932\">36&nbsp;comments</a>        </span>\n",
      "              </td></tr>\n",
      "      <tr class=\"spacer\" style=\"height:5px\"></tr>\n",
      "                <tr class='athing' id='38429370'>\n",
      "      <td align=\"right\" valign=\"top\" class=\"title\"><span class=\"rank\">23.</span></td>      <td valign=\"top\" class=\"votelinks\"><center><a id='up_38429370'href='vote?id=38429370&amp;how=up&amp;goto=news'><div class='votearrow' title='upvote'></div></a></center></td><td class=\"title\"><span class=\"titleline\"><a href=\"https://tuta.com/blog/best-private-browsers\" rel=\"noreferrer\">Choose the browser that best suits your privacy needs</a><span class=\"sitebit comhead\"> (<a href=\"from?site=tuta.com\"><span class=\"sitestr\">tuta.com</span></a>)</span></span></td></tr><tr><td colspan=\"2\"></td><td class=\"subtext\"><span class=\"subline\">\n",
      "          <span class=\"score\" id=\"score_38429370\">864 points</span> by <a href=\"user?id=grammers\" class=\"hnuser\">grammers</a> <span class=\"age\" title=\"2023-11-27T07:57:20\"><a href=\"item?id=38429370\">6 hours ago</a></span> <span id=\"unv_38429370\"></span> | <a href=\"hide?id=38429370&amp;goto=news\">hide</a> | <a href=\"item?id=38429370\">547&nbsp;comments</a>        </span>\n",
      "              </td></tr>\n",
      "      <tr class=\"spacer\" style=\"height:5px\"></tr>\n",
      "                <tr class='athing' id='38421044'>\n",
      "      <td align=\"right\" valign=\"top\" class=\"title\"><span class=\"rank\">24.</span></td>      <td valign=\"top\" class=\"votelinks\"><center><a id='up_38421044'href='vote?id=38421044&amp;how=up&amp;goto=news'><div class='votearrow' title='upvote'></div></a></center></td><td class=\"title\"><span class=\"titleline\"><a href=\"https://periodictableoftools.com/index.html\" rel=\"noreferrer\">The Periodic Table of Tools</a><span class=\"sitebit comhead\"> (<a href=\"from?site=periodictableoftools.com\"><span class=\"sitestr\">periodictableoftools.com</span></a>)</span></span></td></tr><tr><td colspan=\"2\"></td><td class=\"subtext\"><span class=\"subline\">\n",
      "          <span class=\"score\" id=\"score_38421044\">343 points</span> by <a href=\"user?id=andyjohnson0\" class=\"hnuser\">andyjohnson0</a> <span class=\"age\" title=\"2023-11-26T12:14:27\"><a href=\"item?id=38421044\">1 day ago</a></span> <span id=\"unv_38421044\"></span> | <a href=\"hide?id=38421044&amp;goto=news\">hide</a> | <a href=\"item?id=38421044\">101&nbsp;comments</a>        </span>\n",
      "              </td></tr>\n",
      "      <tr class=\"spacer\" style=\"height:5px\"></tr>\n",
      "                <tr class='athing' id='38401188'>\n",
      "      <td align=\"right\" valign=\"top\" class=\"title\"><span class=\"rank\">25.</span></td>      <td valign=\"top\" class=\"votelinks\"><center><a id='up_38401188'href='vote?id=38401188&amp;how=up&amp;goto=news'><div class='votearrow' title='upvote'></div></a></center></td><td class=\"title\"><span class=\"titleline\"><a href=\"https://github.com/yairm210/Unciv\">Unciv</a><span class=\"sitebit comhead\"> (<a href=\"from?site=github.com/yairm210\"><span class=\"sitestr\">github.com/yairm210</span></a>)</span></span></td></tr><tr><td colspan=\"2\"></td><td class=\"subtext\"><span class=\"subline\">\n",
      "          <span class=\"score\" id=\"score_38401188\">477 points</span> by <a href=\"user?id=jcalve\" class=\"hnuser\">jcalve</a> <span class=\"age\" title=\"2023-11-24T06:37:06\"><a href=\"item?id=38401188\">15 hours ago</a></span> <span id=\"unv_38401188\"></span> | <a href=\"hide?id=38401188&amp;goto=news\">hide</a> | <a href=\"item?id=38401188\">102&nbsp;comments</a>        </span>\n",
      "              </td></tr>\n",
      "      <tr class=\"spacer\" style=\"height:5px\"></tr>\n",
      "                <tr class='athing' id='38432445'>\n",
      "      <td align=\"right\" valign=\"top\" class=\"title\"><span class=\"rank\">26.</span></td>      <td valign=\"top\" class=\"votelinks\"><center><a id='up_38432445'href='vote?id=38432445&amp;how=up&amp;goto=news'><div class='votearrow' title='upvote'></div></a></center></td><td class=\"title\"><span class=\"titleline\"><a href=\"https://practicalbetterments.com/download-all-of-wikipedia-on-your-phone/\" rel=\"nofollow noreferrer\">Download all of Wikipedia on your phone</a><span class=\"sitebit comhead\"> (<a href=\"from?site=practicalbetterments.com\"><span class=\"sitestr\">practicalbetterments.com</span></a>)</span></span></td></tr><tr><td colspan=\"2\"></td><td class=\"subtext\"><span class=\"subline\">\n",
      "          <span class=\"score\" id=\"score_38432445\">5 points</span> by <a href=\"user?id=DitheringIdiot\" class=\"hnuser\">DitheringIdiot</a> <span class=\"age\" title=\"2023-11-27T14:15:08\"><a href=\"item?id=38432445\">23 minutes ago</a></span> <span id=\"unv_38432445\"></span> | <a href=\"hide?id=38432445&amp;goto=news\">hide</a> | <a href=\"item?id=38432445\">1&nbsp;comment</a>        </span>\n",
      "              </td></tr>\n",
      "      <tr class=\"spacer\" style=\"height:5px\"></tr>\n",
      "                <tr class='athing' id='38424390'>\n",
      "      <td align=\"right\" valign=\"top\" class=\"title\"><span class=\"rank\">27.</span></td>      <td valign=\"top\" class=\"votelinks\"><center><a id='up_38424390'href='vote?id=38424390&amp;how=up&amp;goto=news'><div class='votearrow' title='upvote'></div></a></center></td><td class=\"title\"><span class=\"titleline\"><a href=\"https://marcthorpe.com/about/\" rel=\"noreferrer\">Marc Thorpe, Robot Wars founder, has died</a><span class=\"sitebit comhead\"> (<a href=\"from?site=marcthorpe.com\"><span class=\"sitestr\">marcthorpe.com</span></a>)</span></span></td></tr><tr><td colspan=\"2\"></td><td class=\"subtext\"><span class=\"subline\">\n",
      "          <span class=\"score\" id=\"score_38424390\">60 points</span> by <a href=\"user?id=batguano\" class=\"hnuser\">batguano</a> <span class=\"age\" title=\"2023-11-26T19:51:54\"><a href=\"item?id=38424390\">6 hours ago</a></span> <span id=\"unv_38424390\"></span> | <a href=\"hide?id=38424390&amp;goto=news\">hide</a> | <a href=\"item?id=38424390\">13&nbsp;comments</a>        </span>\n",
      "              </td></tr>\n",
      "      <tr class=\"spacer\" style=\"height:5px\"></tr>\n",
      "                <tr class='athing' id='38427448'>\n",
      "      <td align=\"right\" valign=\"top\" class=\"title\"><span class=\"rank\">28.</span></td>      <td valign=\"top\" class=\"votelinks\"><center><a id='up_38427448'href='vote?id=38427448&amp;how=up&amp;goto=news'><div class='votearrow' title='upvote'></div></a></center></td><td class=\"title\"><span class=\"titleline\"><a href=\"https://beej.us/guide/bgipc/html/\" rel=\"noreferrer\">Beej&#x27;s Guide to Interprocess Communication</a><span class=\"sitebit comhead\"> (<a href=\"from?site=beej.us\"><span class=\"sitestr\">beej.us</span></a>)</span></span></td></tr><tr><td colspan=\"2\"></td><td class=\"subtext\"><span class=\"subline\">\n",
      "          <span class=\"score\" id=\"score_38427448\">236 points</span> by <a href=\"user?id=tentacleuno\" class=\"hnuser\">tentacleuno</a> <span class=\"age\" title=\"2023-11-27T02:36:18\"><a href=\"item?id=38427448\">12 hours ago</a></span> <span id=\"unv_38427448\"></span> | <a href=\"hide?id=38427448&amp;goto=news\">hide</a> | <a href=\"item?id=38427448\">33&nbsp;comments</a>        </span>\n",
      "              </td></tr>\n",
      "      <tr class=\"spacer\" style=\"height:5px\"></tr>\n",
      "                <tr class='athing' id='38429080'>\n",
      "      <td align=\"right\" valign=\"top\" class=\"title\"><span class=\"rank\">29.</span></td>      <td valign=\"top\" class=\"votelinks\"><center><a id='up_38429080'href='vote?id=38429080&amp;how=up&amp;goto=news'><div class='votearrow' title='upvote'></div></a></center></td><td class=\"title\"><span class=\"titleline\"><a href=\"https://nobsgames.stavros.io/\" rel=\"noreferrer\">No-Bullshit Games</a><span class=\"sitebit comhead\"> (<a href=\"from?site=stavros.io\"><span class=\"sitestr\">stavros.io</span></a>)</span></span></td></tr><tr><td colspan=\"2\"></td><td class=\"subtext\"><span class=\"subline\">\n",
      "          <span class=\"score\" id=\"score_38429080\">264 points</span> by <a href=\"user?id=doener\" class=\"hnuser\">doener</a> <span class=\"age\" title=\"2023-11-27T06:59:49\"><a href=\"item?id=38429080\">7 hours ago</a></span> <span id=\"unv_38429080\"></span> | <a href=\"hide?id=38429080&amp;goto=news\">hide</a> | <a href=\"item?id=38429080\">90&nbsp;comments</a>        </span>\n",
      "              </td></tr>\n",
      "      <tr class=\"spacer\" style=\"height:5px\"></tr>\n",
      "                <tr class='athing' id='38421452'>\n",
      "      <td align=\"right\" valign=\"top\" class=\"title\"><span class=\"rank\">30.</span></td>      <td valign=\"top\" class=\"votelinks\"><center><a id='up_38421452'href='vote?id=38421452&amp;how=up&amp;goto=news'><div class='votearrow' title='upvote'></div></a></center></td><td class=\"title\"><span class=\"titleline\"><a href=\"https://kokorobot.ca/site/making_a_font.html\" rel=\"noreferrer\">Making a font</a><span class=\"sitebit comhead\"> (<a href=\"from?site=kokorobot.ca\"><span class=\"sitestr\">kokorobot.ca</span></a>)</span></span></td></tr><tr><td colspan=\"2\"></td><td class=\"subtext\"><span class=\"subline\">\n",
      "          <span class=\"score\" id=\"score_38421452\">297 points</span> by <a href=\"user?id=todsacerdoti\" class=\"hnuser\">todsacerdoti</a> <span class=\"age\" title=\"2023-11-26T13:31:39\"><a href=\"item?id=38421452\">18 hours ago</a></span> <span id=\"unv_38421452\"></span> | <a href=\"hide?id=38421452&amp;goto=news\">hide</a> | <a href=\"item?id=38421452\">24&nbsp;comments</a>        </span>\n",
      "              </td></tr>\n",
      "      <tr class=\"spacer\" style=\"height:5px\"></tr>\n",
      "            <tr class=\"morespace\" style=\"height:10px\"></tr><tr><td colspan=\"2\"></td>\n",
      "      <td class='title'><a href='?p=2' class='morelink' rel='next'>More</a></td>    </tr>\n",
      "  </table>\n",
      "</td></tr>\n",
      "<tr><td><img src=\"s.gif\" height=\"10\" width=\"0\"><table width=\"100%\" cellspacing=\"0\" cellpadding=\"1\"><tr><td bgcolor=\"#ff6600\"></td></tr></table><br>\n",
      "<center><span class=\"yclinks\"><a href=\"newsguidelines.html\">Guidelines</a> | <a href=\"newsfaq.html\">FAQ</a> | <a href=\"lists\">Lists</a> | <a href=\"https://github.com/HackerNews/API\">API</a> | <a href=\"security.html\">Security</a> | <a href=\"https://www.ycombinator.com/legal/\">Legal</a> | <a href=\"https://www.ycombinator.com/apply/\">Apply to YC</a> | <a href=\"mailto:hn@ycombinator.com\">Contact</a></span><br><br>\n",
      "<form method=\"get\" action=\"//hn.algolia.com/\">Search: <input type=\"text\" name=\"q\" size=\"17\" autocorrect=\"off\" spellcheck=\"false\" autocapitalize=\"off\" autocomplete=\"false\"></form></center></td></tr>      </table></center></body>\n",
      "      <script type='text/javascript' src='hn.js?GWsUy5KGFqx1M9UIO0dq'></script>\n",
      "  </html>\n",
      "\n"
     ]
    }
   ],
   "source": [
    "import requests\n",
    "\n",
    "# Fetch a web page\n",
    "r = requests.get(\"https://news.ycombinator.com\")\n",
    "print(r.text)"
   ]
  },
  {
   "cell_type": "code",
   "execution_count": 5,
   "metadata": {
    "scrolled": false
   },
   "outputs": [
    {
     "name": "stdout",
     "output_type": "stream",
     "text": [
      "\n",
      "        \n",
      "          \n",
      "        Hacker News\n",
      "        \n",
      "                  Hacker News\n",
      "                            new | past | comments | ask | show | jobs | submit            \n",
      "                              login\n",
      "                          \n",
      "              \n",
      "\n",
      "            \n",
      "      1.      $10M AI Mathematical Olympiad Prize (aimoprize.com)\n",
      "          137 points by jasondavies 2 hours ago  | hide | 63&nbsp;comments        \n",
      "              \n",
      "      \n",
      "                \n",
      "      2.      Physical attractiveness and intergenerational social mobility (wiley.com)\n",
      "          33 points by PaulHoule 23 minutes ago  | hide | 7&nbsp;comments        \n",
      "              \n",
      "      \n",
      "                \n",
      "      3.      Struggles with the Continuum (arxiv.org)\n",
      "          23 points by hackandthink 58 minutes ago  | hide | 1&nbsp;comment        \n",
      "              \n",
      "      \n",
      "                \n",
      "      4.      Where Is OpenCV 5? (opencv.org)\n",
      "          156 points by Tycho87 5 hours ago  | hide | 68&nbsp;comments        \n",
      "              \n",
      "      \n",
      "                \n",
      "      5.      Wealth Systems in RPGs (troypress.com)\n",
      "          33 points by surprisetalk 1 hour ago  | hide | 5&nbsp;comments        \n",
      "              \n",
      "      \n",
      "                \n",
      "      6.      Apple&#x27;s developers reflashed Mac ROMs in the &#x27;90s (downtowndougbrown.com)\n",
      "          95 points by SerCe 6 hours ago  | hide | 32&nbsp;comments        \n",
      "              \n",
      "      \n",
      "                \n",
      "      7.      Brother have gotten to where they are now, by not innovating (retro.social)\n",
      "          524 points by anotherevan 6 hours ago  | hide | 433&nbsp;comments        \n",
      "              \n",
      "      \n",
      "                \n",
      "      8.      Signal reflections in electronic circuits (lcamtuf.substack.com)\n",
      "          71 points by zdw 7 hours ago  | hide | 20&nbsp;comments        \n",
      "              \n",
      "      \n",
      "                \n",
      "      9.      Demystifying Web Push Notifications (pqvst.com)\n",
      "          144 points by daco 8 hours ago  | hide | 53&nbsp;comments        \n",
      "              \n",
      "      \n",
      "                \n",
      "      10.      Google Drive misplaces months&#x27; worth of customer data (theregister.com)\n",
      "          92 points by ubutler 1 hour ago  | hide | 21&nbsp;comments        \n",
      "              \n",
      "      \n",
      "                \n",
      "      11.             OneSignal (YC S11) Is Hiring Engineers (onesignal.com)\n",
      "        2 hours ago | hide      \n",
      "      \n",
      "                \n",
      "      12.      Classnames – a site that provides thematically grouped lists of words (paulrobertlloyd.com)\n",
      "          57 points by surprisetalk 6 hours ago  | hide | 15&nbsp;comments        \n",
      "              \n",
      "      \n",
      "                \n",
      "      13.      GitHub: Can no longer search code without being logged in (github.com/orgs)\n",
      "          26 points by 6581 41 minutes ago  | hide | 18&nbsp;comments        \n",
      "              \n",
      "      \n",
      "                \n",
      "      14.      FreeBSD 14.0 Delivering Great Performance Uplift (phoronix.com)\n",
      "          41 points by vermaden 1 hour ago  | hide | 4&nbsp;comments        \n",
      "              \n",
      "      \n",
      "                \n",
      "      15.      Tata Consultancy Services ordered to cough up $210M in code theft trial (theregister.com)\n",
      "          91 points by pseudolus 3 hours ago  | hide | 23&nbsp;comments        \n",
      "              \n",
      "      \n",
      "                \n",
      "      16.      Mic Test (mictests.com)\n",
      "          66 points by nitinreddy88 7 hours ago  | hide | 23&nbsp;comments        \n",
      "              \n",
      "      \n",
      "                \n",
      "      17.      How are zlib, gzip and zip related? (stackoverflow.com)\n",
      "          25 points by damagednoob 59 minutes ago  | hide | 4&nbsp;comments        \n",
      "              \n",
      "      \n",
      "                \n",
      "      18.      Support HTTP over Unix domain sockets (bugzilla.mozilla.org)\n",
      "          36 points by denysonique 2 hours ago  | hide | 22&nbsp;comments        \n",
      "              \n",
      "      \n",
      "                \n",
      "      19.      The Weight of New York City: Subsidence from Anthropogenic Sources (wiley.com)\n",
      "          21 points by jaboutboul 5 hours ago  | hide | 8&nbsp;comments        \n",
      "              \n",
      "      \n",
      "                \n",
      "      20.      Allegations of Quid Pro Quo Behavior: Satya Nadella and Sam Altman&#x27;s Friendship (influencermagazine.uk)\n",
      "          11 points by upwardbound 47 minutes ago  | hide | 3&nbsp;comments        \n",
      "              \n",
      "      \n",
      "                \n",
      "      21.      Emacs and the mouse: A modest defense of the rodent (karthinks.com)\n",
      "          104 points by signa11 12 hours ago  | hide | 52&nbsp;comments        \n",
      "              \n",
      "      \n",
      "                \n",
      "      22.      Artificial glacier growing in the desert (2017) (cnn.com)\n",
      "          124 points by wjb3 14 hours ago  | hide | 36&nbsp;comments        \n",
      "              \n",
      "      \n",
      "                \n",
      "      23.      Choose the browser that best suits your privacy needs (tuta.com)\n",
      "          864 points by grammers 6 hours ago  | hide | 547&nbsp;comments        \n",
      "              \n",
      "      \n",
      "                \n",
      "      24.      The Periodic Table of Tools (periodictableoftools.com)\n",
      "          343 points by andyjohnson0 1 day ago  | hide | 101&nbsp;comments        \n",
      "              \n",
      "      \n",
      "                \n",
      "      25.      Unciv (github.com/yairm210)\n",
      "          477 points by jcalve 15 hours ago  | hide | 102&nbsp;comments        \n",
      "              \n",
      "      \n",
      "                \n",
      "      26.      Download all of Wikipedia on your phone (practicalbetterments.com)\n",
      "          5 points by DitheringIdiot 23 minutes ago  | hide | 1&nbsp;comment        \n",
      "              \n",
      "      \n",
      "                \n",
      "      27.      Marc Thorpe, Robot Wars founder, has died (marcthorpe.com)\n",
      "          60 points by batguano 6 hours ago  | hide | 13&nbsp;comments        \n",
      "              \n",
      "      \n",
      "                \n",
      "      28.      Beej&#x27;s Guide to Interprocess Communication (beej.us)\n",
      "          236 points by tentacleuno 12 hours ago  | hide | 33&nbsp;comments        \n",
      "              \n",
      "      \n",
      "                \n",
      "      29.      No-Bullshit Games (stavros.io)\n",
      "          264 points by doener 7 hours ago  | hide | 90&nbsp;comments        \n",
      "              \n",
      "      \n",
      "                \n",
      "      30.      Making a font (kokorobot.ca)\n",
      "          297 points by todsacerdoti 18 hours ago  | hide | 24&nbsp;comments        \n",
      "              \n",
      "      \n",
      "            \n",
      "      More    \n",
      "  \n",
      "\n",
      "\n",
      "Guidelines | FAQ | Lists | API | Security | Legal | Apply to YC | Contact\n",
      "Search:       \n",
      "      \n",
      "  \n",
      "\n"
     ]
    }
   ],
   "source": [
    "import re\n",
    "\n",
    "# Remove HTML tags using RegEx\n",
    "pattern = re.compile(r'<.*?>')  # tags look like <...>\n",
    "print(pattern.sub('', r.text))  # replace them with blank"
   ]
  },
  {
   "cell_type": "code",
   "execution_count": 10,
   "metadata": {
    "scrolled": false
   },
   "outputs": [
    {
     "name": "stdout",
     "output_type": "stream",
     "text": [
      "<html lang=\"en\" op=\"news\"><head><meta content=\"origin\" name=\"referrer\"/><meta content=\"width=device-width, initial-scale=1.0\" name=\"viewport\"/><link href=\"news.css?GWsUy5KGFqx1M9UIO0dq\" rel=\"stylesheet\" type=\"text/css\"/>\n",
      "        <link href=\"favicon.ico\" rel=\"shortcut icon\"/>\n",
      "          <link href=\"rss\" rel=\"alternate\" title=\"RSS\" type=\"application/rss+xml\"/>\n",
      "        <title>Hacker News</title></head><body><center><table bgcolor=\"#f6f6ef\" border=\"0\" cellpadding=\"0\" cellspacing=\"0\" id=\"hnmain\" width=\"85%\">\n",
      "        <tbody><tr><td bgcolor=\"#ff6600\"><table border=\"0\" cellpadding=\"0\" cellspacing=\"0\" style=\"padding:2px\" width=\"100%\"><tbody><tr><td style=\"width:18px;padding-right:4px\"><a href=\"https://news.ycombinator.com\"><img height=\"18\" src=\"y18.svg\" style=\"border:1px white solid; display:block\" width=\"18\"/></a></td>\n",
      "                  <td style=\"line-height:12pt; height:10px;\"><span class=\"pagetop\"><b class=\"hnname\"><a href=\"news\">Hacker News</a></b>\n",
      "                            <a href=\"newest\">new</a> | <a href=\"front\">past</a> | <a href=\"newcomments\">comments</a> | <a href=\"ask\">ask</a> | <a href=\"show\">show</a> | <a href=\"jobs\">jobs</a> | <a href=\"submit\">submit</a>            </span></td><td style=\"text-align:right;padding-right:4px;\"><span class=\"pagetop\">\n",
      "                              <a href=\"login?goto=news\">login</a>\n",
      "                          </span></td>\n",
      "              </tr></tbody></table></td></tr>\n",
      "<tr id=\"pagespace\" style=\"height:10px\" title=\"\"></tr><tr><td><table border=\"0\" cellpadding=\"0\" cellspacing=\"0\">\n",
      "            <tbody><tr class=\"athing\" id=\"38431482\">\n",
      "      <td align=\"right\" class=\"title\" valign=\"top\"><span class=\"rank\">1.</span></td>      <td class=\"votelinks\" valign=\"top\"><center><a href=\"vote?id=38431482&amp;how=up&amp;goto=news\" id=\"up_38431482\"><div class=\"votearrow\" title=\"upvote\"></div></a></center></td><td class=\"title\"><span class=\"titleline\"><a href=\"https://aimoprize.com/\" rel=\"noreferrer\">$10M AI Mathematical Olympiad Prize</a><span class=\"sitebit comhead\"> (<a href=\"from?site=aimoprize.com\"><span class=\"sitestr\">aimoprize.com</span></a>)</span></span></td></tr><tr><td colspan=\"2\"></td><td class=\"subtext\"><span class=\"subline\">\n",
      "          <span class=\"score\" id=\"score_38431482\">137 points</span> by <a class=\"hnuser\" href=\"user?id=jasondavies\">jasondavies</a> <span class=\"age\" title=\"2023-11-27T12:25:06\"><a href=\"item?id=38431482\">2 hours ago</a></span> <span id=\"unv_38431482\"></span> | <a href=\"hide?id=38431482&amp;goto=news\">hide</a> | <a href=\"item?id=38431482\">63 comments</a>        </span>\n",
      "              </td></tr>\n",
      "      <tr class=\"spacer\" style=\"height:5px\"></tr>\n",
      "                <tr class=\"athing\" id=\"38432451\">\n",
      "      <td align=\"right\" class=\"title\" valign=\"top\"><span class=\"rank\">2.</span></td>      <td class=\"votelinks\" valign=\"top\"><center><a href=\"vote?id=38432451&amp;how=up&amp;goto=news\" id=\"up_38432451\"><div class=\"votearrow\" title=\"upvote\"></div></a></center></td><td class=\"title\"><span class=\"titleline\"><a href=\"https://onlinelibrary.wiley.com/doi/10.1111/ssqu.13320\" rel=\"noreferrer\">Physical attractiveness and intergenerational social mobility</a><span class=\"sitebit comhead\"> (<a href=\"from?site=wiley.com\"><span class=\"sitestr\">wiley.com</span></a>)</span></span></td></tr><tr><td colspan=\"2\"></td><td class=\"subtext\"><span class=\"subline\">\n",
      "          <span class=\"score\" id=\"score_38432451\">33 points</span> by <a class=\"hnuser\" href=\"user?id=PaulHoule\">PaulHoule</a> <span class=\"age\" title=\"2023-11-27T14:15:26\"><a href=\"item?id=38432451\">23 minutes ago</a></span> <span id=\"unv_38432451\"></span> | <a href=\"hide?id=38432451&amp;goto=news\">hide</a> | <a href=\"item?id=38432451\">7 comments</a>        </span>\n",
      "              </td></tr>\n",
      "      <tr class=\"spacer\" style=\"height:5px\"></tr>\n",
      "                <tr class=\"athing\" id=\"38432134\">\n",
      "      <td align=\"right\" class=\"title\" valign=\"top\"><span class=\"rank\">3.</span></td>      <td class=\"votelinks\" valign=\"top\"><center><a href=\"vote?id=38432134&amp;how=up&amp;goto=news\" id=\"up_38432134\"><div class=\"votearrow\" title=\"upvote\"></div></a></center></td><td class=\"title\"><span class=\"titleline\"><a href=\"https://arxiv.org/abs/1609.01421\" rel=\"noreferrer\">Struggles with the Continuum</a><span class=\"sitebit comhead\"> (<a href=\"from?site=arxiv.org\"><span class=\"sitestr\">arxiv.org</span></a>)</span></span></td></tr><tr><td colspan=\"2\"></td><td class=\"subtext\"><span class=\"subline\">\n",
      "          <span class=\"score\" id=\"score_38432134\">23 points</span> by <a class=\"hnuser\" href=\"user?id=hackandthink\">hackandthink</a> <span class=\"age\" title=\"2023-11-27T13:40:06\"><a href=\"item?id=38432134\">58 minutes ago</a></span> <span id=\"unv_38432134\"></span> | <a href=\"hide?id=38432134&amp;goto=news\">hide</a> | <a href=\"item?id=38432134\">1 comment</a>        </span>\n",
      "              </td></tr>\n",
      "      <tr class=\"spacer\" style=\"height:5px\"></tr>\n",
      "                <tr class=\"athing\" id=\"38430074\">\n",
      "      <td align=\"right\" class=\"title\" valign=\"top\"><span class=\"rank\">4.</span></td>      <td class=\"votelinks\" valign=\"top\"><center><a href=\"vote?id=38430074&amp;how=up&amp;goto=news\" id=\"up_38430074\"><div class=\"votearrow\" title=\"upvote\"></div></a></center></td><td class=\"title\"><span class=\"titleline\"><a href=\"https://opencv.org/blog/where-is-opencv-5/\" rel=\"noreferrer\">Where Is OpenCV 5?</a><span class=\"sitebit comhead\"> (<a href=\"from?site=opencv.org\"><span class=\"sitestr\">opencv.org</span></a>)</span></span></td></tr><tr><td colspan=\"2\"></td><td class=\"subtext\"><span class=\"subline\">\n",
      "          <span class=\"score\" id=\"score_38430074\">156 points</span> by <a class=\"hnuser\" href=\"user?id=Tycho87\">Tycho87</a> <span class=\"age\" title=\"2023-11-27T09:18:52\"><a href=\"item?id=38430074\">5 hours ago</a></span> <span id=\"unv_38430074\"></span> | <a href=\"hide?id=38430074&amp;goto=news\">hide</a> | <a href=\"item?id=38430074\">68 comments</a>        </span>\n",
      "              </td></tr>\n",
      "      <tr class=\"spacer\" style=\"height:5px\"></tr>\n",
      "                <tr class=\"athing\" id=\"38431402\">\n",
      "      <td align=\"right\" class=\"title\" valign=\"top\"><span class=\"rank\">5.</span></td>      <td class=\"votelinks\" valign=\"top\"><center><a href=\"vote?id=38431402&amp;how=up&amp;goto=news\" id=\"up_38431402\"><div class=\"votearrow\" title=\"upvote\"></div></a></center></td><td class=\"title\"><span class=\"titleline\"><a href=\"https://troypress.com/wealth-systems-in-rpgs/\" rel=\"noreferrer\">Wealth Systems in RPGs</a><span class=\"sitebit comhead\"> (<a href=\"from?site=troypress.com\"><span class=\"sitestr\">troypress.com</span></a>)</span></span></td></tr><tr><td colspan=\"2\"></td><td class=\"subtext\"><span class=\"subline\">\n",
      "          <span class=\"score\" id=\"score_38431402\">33 points</span> by <a class=\"hnuser\" href=\"user?id=surprisetalk\">surprisetalk</a> <span class=\"age\" title=\"2023-11-27T12:16:28\"><a href=\"item?id=38431402\">1 hour ago</a></span> <span id=\"unv_38431402\"></span> | <a href=\"hide?id=38431402&amp;goto=news\">hide</a> | <a href=\"item?id=38431402\">5 comments</a>        </span>\n",
      "              </td></tr>\n",
      "      <tr class=\"spacer\" style=\"height:5px\"></tr>\n",
      "                <tr class=\"athing\" id=\"38429460\">\n",
      "      <td align=\"right\" class=\"title\" valign=\"top\"><span class=\"rank\">6.</span></td>      <td class=\"votelinks\" valign=\"top\"><center><a href=\"vote?id=38429460&amp;how=up&amp;goto=news\" id=\"up_38429460\"><div class=\"votearrow\" title=\"upvote\"></div></a></center></td><td class=\"title\"><span class=\"titleline\"><a href=\"https://www.downtowndougbrown.com/2023/11/how-apples-developers-reflashed-mac-roms-in-the-90s/\" rel=\"noreferrer\">Apple's developers reflashed Mac ROMs in the '90s</a><span class=\"sitebit comhead\"> (<a href=\"from?site=downtowndougbrown.com\"><span class=\"sitestr\">downtowndougbrown.com</span></a>)</span></span></td></tr><tr><td colspan=\"2\"></td><td class=\"subtext\"><span class=\"subline\">\n",
      "          <span class=\"score\" id=\"score_38429460\">95 points</span> by <a class=\"hnuser\" href=\"user?id=SerCe\">SerCe</a> <span class=\"age\" title=\"2023-11-27T08:11:42\"><a href=\"item?id=38429460\">6 hours ago</a></span> <span id=\"unv_38429460\"></span> | <a href=\"hide?id=38429460&amp;goto=news\">hide</a> | <a href=\"item?id=38429460\">32 comments</a>        </span>\n",
      "              </td></tr>\n",
      "      <tr class=\"spacer\" style=\"height:5px\"></tr>\n",
      "                <tr class=\"athing\" id=\"38429291\">\n",
      "      <td align=\"right\" class=\"title\" valign=\"top\"><span class=\"rank\">7.</span></td>      <td class=\"votelinks\" valign=\"top\"><center><a href=\"vote?id=38429291&amp;how=up&amp;goto=news\" id=\"up_38429291\"><div class=\"votearrow\" title=\"upvote\"></div></a></center></td><td class=\"title\"><span class=\"titleline\"><a href=\"https://retro.social/@ifixcoinops/111480744130939877\" rel=\"noreferrer\">Brother have gotten to where they are now, by not innovating</a><span class=\"sitebit comhead\"> (<a href=\"from?site=retro.social\"><span class=\"sitestr\">retro.social</span></a>)</span></span></td></tr><tr><td colspan=\"2\"></td><td class=\"subtext\"><span class=\"subline\">\n",
      "          <span class=\"score\" id=\"score_38429291\">524 points</span> by <a class=\"hnuser\" href=\"user?id=anotherevan\">anotherevan</a> <span class=\"age\" title=\"2023-11-27T07:43:06\"><a href=\"item?id=38429291\">6 hours ago</a></span> <span id=\"unv_38429291\"></span> | <a href=\"hide?id=38429291&amp;goto=news\">hide</a> | <a href=\"item?id=38429291\">433 comments</a>        </span>\n",
      "              </td></tr>\n",
      "      <tr class=\"spacer\" style=\"height:5px\"></tr>\n",
      "                <tr class=\"athing\" id=\"38418865\">\n",
      "      <td align=\"right\" class=\"title\" valign=\"top\"><span class=\"rank\">8.</span></td>      <td class=\"votelinks\" valign=\"top\"><center><a href=\"vote?id=38418865&amp;how=up&amp;goto=news\" id=\"up_38418865\"><div class=\"votearrow\" title=\"upvote\"></div></a></center></td><td class=\"title\"><span class=\"titleline\"><a href=\"https://lcamtuf.substack.com/p/signal-reflections-in-electronic\" rel=\"noreferrer\">Signal reflections in electronic circuits</a><span class=\"sitebit comhead\"> (<a href=\"from?site=lcamtuf.substack.com\"><span class=\"sitestr\">lcamtuf.substack.com</span></a>)</span></span></td></tr><tr><td colspan=\"2\"></td><td class=\"subtext\"><span class=\"subline\">\n",
      "          <span class=\"score\" id=\"score_38418865\">71 points</span> by <a class=\"hnuser\" href=\"user?id=zdw\">zdw</a> <span class=\"age\" title=\"2023-11-26T03:18:24\"><a href=\"item?id=38418865\">7 hours ago</a></span> <span id=\"unv_38418865\"></span> | <a href=\"hide?id=38418865&amp;goto=news\">hide</a> | <a href=\"item?id=38418865\">20 comments</a>        </span>\n",
      "              </td></tr>\n",
      "      <tr class=\"spacer\" style=\"height:5px\"></tr>\n",
      "                <tr class=\"athing\" id=\"38402368\">\n",
      "      <td align=\"right\" class=\"title\" valign=\"top\"><span class=\"rank\">9.</span></td>      <td class=\"votelinks\" valign=\"top\"><center><a href=\"vote?id=38402368&amp;how=up&amp;goto=news\" id=\"up_38402368\"><div class=\"votearrow\" title=\"upvote\"></div></a></center></td><td class=\"title\"><span class=\"titleline\"><a href=\"https://pqvst.com/2023/11/21/web-push-notifications/\" rel=\"noreferrer\">Demystifying Web Push Notifications</a><span class=\"sitebit comhead\"> (<a href=\"from?site=pqvst.com\"><span class=\"sitestr\">pqvst.com</span></a>)</span></span></td></tr><tr><td colspan=\"2\"></td><td class=\"subtext\"><span class=\"subline\">\n",
      "          <span class=\"score\" id=\"score_38402368\">144 points</span> by <a class=\"hnuser\" href=\"user?id=daco\">daco</a> <span class=\"age\" title=\"2023-11-24T10:19:38\"><a href=\"item?id=38402368\">8 hours ago</a></span> <span id=\"unv_38402368\"></span> | <a href=\"hide?id=38402368&amp;goto=news\">hide</a> | <a href=\"item?id=38402368\">53 comments</a>        </span>\n",
      "              </td></tr>\n",
      "      <tr class=\"spacer\" style=\"height:5px\"></tr>\n",
      "                <tr class=\"athing\" id=\"38431743\">\n",
      "      <td align=\"right\" class=\"title\" valign=\"top\"><span class=\"rank\">10.</span></td>      <td class=\"votelinks\" valign=\"top\"><center><a href=\"vote?id=38431743&amp;how=up&amp;goto=news\" id=\"up_38431743\"><div class=\"votearrow\" title=\"upvote\"></div></a></center></td><td class=\"title\"><span class=\"titleline\"><a href=\"https://www.theregister.com/2023/11/27/google_drive_files_disappearing/\" rel=\"noreferrer\">Google Drive misplaces months' worth of customer data</a><span class=\"sitebit comhead\"> (<a href=\"from?site=theregister.com\"><span class=\"sitestr\">theregister.com</span></a>)</span></span></td></tr><tr><td colspan=\"2\"></td><td class=\"subtext\"><span class=\"subline\">\n",
      "          <span class=\"score\" id=\"score_38431743\">92 points</span> by <a class=\"hnuser\" href=\"user?id=ubutler\">ubutler</a> <span class=\"age\" title=\"2023-11-27T12:54:42\"><a href=\"item?id=38431743\">1 hour ago</a></span> <span id=\"unv_38431743\"></span> | <a href=\"hide?id=38431743&amp;goto=news\">hide</a> | <a href=\"item?id=38431743\">21 comments</a>        </span>\n",
      "              </td></tr>\n",
      "      <tr class=\"spacer\" style=\"height:5px\"></tr>\n",
      "                <tr class=\"athing\" id=\"38431273\">\n",
      "      <td align=\"right\" class=\"title\" valign=\"top\"><span class=\"rank\">11.</span></td>      <td><img height=\"1\" src=\"s.gif\" width=\"14\"/></td>       <td class=\"title\"><span class=\"titleline\"><a href=\"https://onesignal.com/careers\" rel=\"nofollow noreferrer\">OneSignal (YC S11) Is Hiring Engineers</a><span class=\"sitebit comhead\"> (<a href=\"from?site=onesignal.com\"><span class=\"sitestr\">onesignal.com</span></a>)</span></span></td></tr><tr><td colspan=\"2\"></td><td class=\"subtext\">\n",
      "        <span class=\"age\" title=\"2023-11-27T12:00:26\"><a href=\"item?id=38431273\">2 hours ago</a></span> | <a href=\"hide?id=38431273&amp;goto=news\">hide</a>      </td></tr>\n",
      "      <tr class=\"spacer\" style=\"height:5px\"></tr>\n",
      "                <tr class=\"athing\" id=\"38401794\">\n",
      "      <td align=\"right\" class=\"title\" valign=\"top\"><span class=\"rank\">12.</span></td>      <td class=\"votelinks\" valign=\"top\"><center><a href=\"vote?id=38401794&amp;how=up&amp;goto=news\" id=\"up_38401794\"><div class=\"votearrow\" title=\"upvote\"></div></a></center></td><td class=\"title\"><span class=\"titleline\"><a href=\"https://classnames.paulrobertlloyd.com\" rel=\"noreferrer\">Classnames – a site that provides thematically grouped lists of words</a><span class=\"sitebit comhead\"> (<a href=\"from?site=paulrobertlloyd.com\"><span class=\"sitestr\">paulrobertlloyd.com</span></a>)</span></span></td></tr><tr><td colspan=\"2\"></td><td class=\"subtext\"><span class=\"subline\">\n",
      "          <span class=\"score\" id=\"score_38401794\">57 points</span> by <a class=\"hnuser\" href=\"user?id=surprisetalk\">surprisetalk</a> <span class=\"age\" title=\"2023-11-24T08:39:31\"><a href=\"item?id=38401794\">6 hours ago</a></span> <span id=\"unv_38401794\"></span> | <a href=\"hide?id=38401794&amp;goto=news\">hide</a> | <a href=\"item?id=38401794\">15 comments</a>        </span>\n",
      "              </td></tr>\n",
      "      <tr class=\"spacer\" style=\"height:5px\"></tr>\n",
      "                <tr class=\"athing\" id=\"38432261\">\n",
      "      <td align=\"right\" class=\"title\" valign=\"top\"><span class=\"rank\">13.</span></td>      <td class=\"votelinks\" valign=\"top\"><center><a href=\"vote?id=38432261&amp;how=up&amp;goto=news\" id=\"up_38432261\"><div class=\"votearrow\" title=\"upvote\"></div></a></center></td><td class=\"title\"><span class=\"titleline\"><a href=\"https://github.com/orgs/community/discussions/77046\">GitHub: Can no longer search code without being logged in</a><span class=\"sitebit comhead\"> (<a href=\"from?site=github.com/orgs\"><span class=\"sitestr\">github.com/orgs</span></a>)</span></span></td></tr><tr><td colspan=\"2\"></td><td class=\"subtext\"><span class=\"subline\">\n",
      "          <span class=\"score\" id=\"score_38432261\">26 points</span> by <a class=\"hnuser\" href=\"user?id=6581\">6581</a> <span class=\"age\" title=\"2023-11-27T13:56:50\"><a href=\"item?id=38432261\">41 minutes ago</a></span> <span id=\"unv_38432261\"></span> | <a href=\"hide?id=38432261&amp;goto=news\">hide</a> | <a href=\"item?id=38432261\">18 comments</a>        </span>\n",
      "              </td></tr>\n",
      "      <tr class=\"spacer\" style=\"height:5px\"></tr>\n",
      "                <tr class=\"athing\" id=\"38431792\">\n",
      "      <td align=\"right\" class=\"title\" valign=\"top\"><span class=\"rank\">14.</span></td>      <td class=\"votelinks\" valign=\"top\"><center><a href=\"vote?id=38431792&amp;how=up&amp;goto=news\" id=\"up_38431792\"><div class=\"votearrow\" title=\"upvote\"></div></a></center></td><td class=\"title\"><span class=\"titleline\"><a href=\"https://www.phoronix.com/review/freebsd-14-epyc\" rel=\"noreferrer\">FreeBSD 14.0 Delivering Great Performance Uplift</a><span class=\"sitebit comhead\"> (<a href=\"from?site=phoronix.com\"><span class=\"sitestr\">phoronix.com</span></a>)</span></span></td></tr><tr><td colspan=\"2\"></td><td class=\"subtext\"><span class=\"subline\">\n",
      "          <span class=\"score\" id=\"score_38431792\">41 points</span> by <a class=\"hnuser\" href=\"user?id=vermaden\">vermaden</a> <span class=\"age\" title=\"2023-11-27T13:01:30\"><a href=\"item?id=38431792\">1 hour ago</a></span> <span id=\"unv_38431792\"></span> | <a href=\"hide?id=38431792&amp;goto=news\">hide</a> | <a href=\"item?id=38431792\">4 comments</a>        </span>\n",
      "              </td></tr>\n",
      "      <tr class=\"spacer\" style=\"height:5px\"></tr>\n",
      "                <tr class=\"athing\" id=\"38430974\">\n",
      "      <td align=\"right\" class=\"title\" valign=\"top\"><span class=\"rank\">15.</span></td>      <td class=\"votelinks\" valign=\"top\"><center><a href=\"vote?id=38430974&amp;how=up&amp;goto=news\" id=\"up_38430974\"><div class=\"votearrow\" title=\"upvote\"></div></a></center></td><td class=\"title\"><span class=\"titleline\"><a href=\"https://www.theregister.com/2023/11/24/tata_210m_code_theft/\" rel=\"noreferrer\">Tata Consultancy Services ordered to cough up $210M in code theft trial</a><span class=\"sitebit comhead\"> (<a href=\"from?site=theregister.com\"><span class=\"sitestr\">theregister.com</span></a>)</span></span></td></tr><tr><td colspan=\"2\"></td><td class=\"subtext\"><span class=\"subline\">\n",
      "          <span class=\"score\" id=\"score_38430974\">91 points</span> by <a class=\"hnuser\" href=\"user?id=pseudolus\">pseudolus</a> <span class=\"age\" title=\"2023-11-27T11:18:11\"><a href=\"item?id=38430974\">3 hours ago</a></span> <span id=\"unv_38430974\"></span> | <a href=\"hide?id=38430974&amp;goto=news\">hide</a> | <a href=\"item?id=38430974\">23 comments</a>        </span>\n",
      "              </td></tr>\n",
      "      <tr class=\"spacer\" style=\"height:5px\"></tr>\n",
      "                <tr class=\"athing\" id=\"38401750\">\n",
      "      <td align=\"right\" class=\"title\" valign=\"top\"><span class=\"rank\">16.</span></td>      <td class=\"votelinks\" valign=\"top\"><center><a href=\"vote?id=38401750&amp;how=up&amp;goto=news\" id=\"up_38401750\"><div class=\"votearrow\" title=\"upvote\"></div></a></center></td><td class=\"title\"><span class=\"titleline\"><a href=\"https://mictests.com/\" rel=\"noreferrer\">Mic Test</a><span class=\"sitebit comhead\"> (<a href=\"from?site=mictests.com\"><span class=\"sitestr\">mictests.com</span></a>)</span></span></td></tr><tr><td colspan=\"2\"></td><td class=\"subtext\"><span class=\"subline\">\n",
      "          <span class=\"score\" id=\"score_38401750\">66 points</span> by <a class=\"hnuser\" href=\"user?id=nitinreddy88\">nitinreddy88</a> <span class=\"age\" title=\"2023-11-24T08:32:25\"><a href=\"item?id=38401750\">7 hours ago</a></span> <span id=\"unv_38401750\"></span> | <a href=\"hide?id=38401750&amp;goto=news\">hide</a> | <a href=\"item?id=38401750\">23 comments</a>        </span>\n",
      "              </td></tr>\n",
      "      <tr class=\"spacer\" style=\"height:5px\"></tr>\n",
      "                <tr class=\"athing\" id=\"38432127\">\n",
      "      <td align=\"right\" class=\"title\" valign=\"top\"><span class=\"rank\">17.</span></td>      <td class=\"votelinks\" valign=\"top\"><center><a href=\"vote?id=38432127&amp;how=up&amp;goto=news\" id=\"up_38432127\"><div class=\"votearrow\" title=\"upvote\"></div></a></center></td><td class=\"title\"><span class=\"titleline\"><a href=\"https://stackoverflow.com/questions/20762094/how-are-zlib-gzip-and-zip-related-what-do-they-have-in-common-and-how-are-they\" rel=\"noreferrer\">How are zlib, gzip and zip related?</a><span class=\"sitebit comhead\"> (<a href=\"from?site=stackoverflow.com\"><span class=\"sitestr\">stackoverflow.com</span></a>)</span></span></td></tr><tr><td colspan=\"2\"></td><td class=\"subtext\"><span class=\"subline\">\n",
      "          <span class=\"score\" id=\"score_38432127\">25 points</span> by <a class=\"hnuser\" href=\"user?id=damagednoob\">damagednoob</a> <span class=\"age\" title=\"2023-11-27T13:39:15\"><a href=\"item?id=38432127\">59 minutes ago</a></span> <span id=\"unv_38432127\"></span> | <a href=\"hide?id=38432127&amp;goto=news\">hide</a> | <a href=\"item?id=38432127\">4 comments</a>        </span>\n",
      "              </td></tr>\n",
      "      <tr class=\"spacer\" style=\"height:5px\"></tr>\n",
      "                <tr class=\"athing\" id=\"38431308\">\n",
      "      <td align=\"right\" class=\"title\" valign=\"top\"><span class=\"rank\">18.</span></td>      <td class=\"votelinks\" valign=\"top\"><center><a href=\"vote?id=38431308&amp;how=up&amp;goto=news\" id=\"up_38431308\"><div class=\"votearrow\" title=\"upvote\"></div></a></center></td><td class=\"title\"><span class=\"titleline\"><a href=\"https://bugzilla.mozilla.org/show_bug.cgi?id=1688774\" rel=\"noreferrer\">Support HTTP over Unix domain sockets</a><span class=\"sitebit comhead\"> (<a href=\"from?site=bugzilla.mozilla.org\"><span class=\"sitestr\">bugzilla.mozilla.org</span></a>)</span></span></td></tr><tr><td colspan=\"2\"></td><td class=\"subtext\"><span class=\"subline\">\n",
      "          <span class=\"score\" id=\"score_38431308\">36 points</span> by <a class=\"hnuser\" href=\"user?id=denysonique\">denysonique</a> <span class=\"age\" title=\"2023-11-27T12:05:14\"><a href=\"item?id=38431308\">2 hours ago</a></span> <span id=\"unv_38431308\"></span> | <a href=\"hide?id=38431308&amp;goto=news\">hide</a> | <a href=\"item?id=38431308\">22 comments</a>        </span>\n",
      "              </td></tr>\n",
      "      <tr class=\"spacer\" style=\"height:5px\"></tr>\n",
      "                <tr class=\"athing\" id=\"38421454\">\n",
      "      <td align=\"right\" class=\"title\" valign=\"top\"><span class=\"rank\">19.</span></td>      <td class=\"votelinks\" valign=\"top\"><center><a href=\"vote?id=38421454&amp;how=up&amp;goto=news\" id=\"up_38421454\"><div class=\"votearrow\" title=\"upvote\"></div></a></center></td><td class=\"title\"><span class=\"titleline\"><a href=\"https://agupubs.onlinelibrary.wiley.com/doi/10.1029/2022EF003465\" rel=\"noreferrer\">The Weight of New York City: Subsidence from Anthropogenic Sources</a><span class=\"sitebit comhead\"> (<a href=\"from?site=wiley.com\"><span class=\"sitestr\">wiley.com</span></a>)</span></span></td></tr><tr><td colspan=\"2\"></td><td class=\"subtext\"><span class=\"subline\">\n",
      "          <span class=\"score\" id=\"score_38421454\">21 points</span> by <a class=\"hnuser\" href=\"user?id=jaboutboul\">jaboutboul</a> <span class=\"age\" title=\"2023-11-26T13:31:56\"><a href=\"item?id=38421454\">5 hours ago</a></span> <span id=\"unv_38421454\"></span> | <a href=\"hide?id=38421454&amp;goto=news\">hide</a> | <a href=\"item?id=38421454\">8 comments</a>        </span>\n",
      "              </td></tr>\n",
      "      <tr class=\"spacer\" style=\"height:5px\"></tr>\n",
      "                <tr class=\"athing\" id=\"38432211\">\n",
      "      <td align=\"right\" class=\"title\" valign=\"top\"><span class=\"rank\">20.</span></td>      <td class=\"votelinks\" valign=\"top\"><center><a href=\"vote?id=38432211&amp;how=up&amp;goto=news\" id=\"up_38432211\"><div class=\"votearrow\" title=\"upvote\"></div></a></center></td><td class=\"title\"><span class=\"titleline\"><a href=\"https://influencermagazine.uk/2023/11/allegations-of-quid-pro-quo-behavior-tech-community-scrutinizing-satya-nadella-and-sam-altmans-high-stakes-friendship/\" rel=\"noreferrer\">Allegations of Quid Pro Quo Behavior: Satya Nadella and Sam Altman's Friendship</a><span class=\"sitebit comhead\"> (<a href=\"from?site=influencermagazine.uk\"><span class=\"sitestr\">influencermagazine.uk</span></a>)</span></span></td></tr><tr><td colspan=\"2\"></td><td class=\"subtext\"><span class=\"subline\">\n",
      "          <span class=\"score\" id=\"score_38432211\">11 points</span> by <a class=\"hnuser\" href=\"user?id=upwardbound\">upwardbound</a> <span class=\"age\" title=\"2023-11-27T13:51:05\"><a href=\"item?id=38432211\">47 minutes ago</a></span> <span id=\"unv_38432211\"></span> | <a href=\"hide?id=38432211&amp;goto=news\">hide</a> | <a href=\"item?id=38432211\">3 comments</a>        </span>\n",
      "              </td></tr>\n",
      "      <tr class=\"spacer\" style=\"height:5px\"></tr>\n",
      "                <tr class=\"athing\" id=\"38419890\">\n",
      "      <td align=\"right\" class=\"title\" valign=\"top\"><span class=\"rank\">21.</span></td>      <td class=\"votelinks\" valign=\"top\"><center><a href=\"vote?id=38419890&amp;how=up&amp;goto=news\" id=\"up_38419890\"><div class=\"votearrow\" title=\"upvote\"></div></a></center></td><td class=\"title\"><span class=\"titleline\"><a href=\"https://karthinks.com/software/different-strokes-for-different-folks/\" rel=\"noreferrer\">Emacs and the mouse: A modest defense of the rodent</a><span class=\"sitebit comhead\"> (<a href=\"from?site=karthinks.com\"><span class=\"sitestr\">karthinks.com</span></a>)</span></span></td></tr><tr><td colspan=\"2\"></td><td class=\"subtext\"><span class=\"subline\">\n",
      "          <span class=\"score\" id=\"score_38419890\">104 points</span> by <a class=\"hnuser\" href=\"user?id=signa11\">signa11</a> <span class=\"age\" title=\"2023-11-26T07:36:19\"><a href=\"item?id=38419890\">12 hours ago</a></span> <span id=\"unv_38419890\"></span> | <a href=\"hide?id=38419890&amp;goto=news\">hide</a> | <a href=\"item?id=38419890\">52 comments</a>        </span>\n",
      "              </td></tr>\n",
      "      <tr class=\"spacer\" style=\"height:5px\"></tr>\n",
      "                <tr class=\"athing\" id=\"38425932\">\n",
      "      <td align=\"right\" class=\"title\" valign=\"top\"><span class=\"rank\">22.</span></td>      <td class=\"votelinks\" valign=\"top\"><center><a href=\"vote?id=38425932&amp;how=up&amp;goto=news\" id=\"up_38425932\"><div class=\"votearrow\" title=\"upvote\"></div></a></center></td><td class=\"title\"><span class=\"titleline\"><a href=\"https://www.cnn.com/style/article/ice-stupa-sonam-wangchuk/index.html\" rel=\"noreferrer\">Artificial glacier growing in the desert (2017)</a><span class=\"sitebit comhead\"> (<a href=\"from?site=cnn.com\"><span class=\"sitestr\">cnn.com</span></a>)</span></span></td></tr><tr><td colspan=\"2\"></td><td class=\"subtext\"><span class=\"subline\">\n",
      "          <span class=\"score\" id=\"score_38425932\">124 points</span> by <a class=\"hnuser\" href=\"user?id=wjb3\">wjb3</a> <span class=\"age\" title=\"2023-11-26T22:53:13\"><a href=\"item?id=38425932\">14 hours ago</a></span> <span id=\"unv_38425932\"></span> | <a href=\"hide?id=38425932&amp;goto=news\">hide</a> | <a href=\"item?id=38425932\">36 comments</a>        </span>\n",
      "              </td></tr>\n",
      "      <tr class=\"spacer\" style=\"height:5px\"></tr>\n",
      "                <tr class=\"athing\" id=\"38429370\">\n",
      "      <td align=\"right\" class=\"title\" valign=\"top\"><span class=\"rank\">23.</span></td>      <td class=\"votelinks\" valign=\"top\"><center><a href=\"vote?id=38429370&amp;how=up&amp;goto=news\" id=\"up_38429370\"><div class=\"votearrow\" title=\"upvote\"></div></a></center></td><td class=\"title\"><span class=\"titleline\"><a href=\"https://tuta.com/blog/best-private-browsers\" rel=\"noreferrer\">Choose the browser that best suits your privacy needs</a><span class=\"sitebit comhead\"> (<a href=\"from?site=tuta.com\"><span class=\"sitestr\">tuta.com</span></a>)</span></span></td></tr><tr><td colspan=\"2\"></td><td class=\"subtext\"><span class=\"subline\">\n",
      "          <span class=\"score\" id=\"score_38429370\">864 points</span> by <a class=\"hnuser\" href=\"user?id=grammers\">grammers</a> <span class=\"age\" title=\"2023-11-27T07:57:20\"><a href=\"item?id=38429370\">6 hours ago</a></span> <span id=\"unv_38429370\"></span> | <a href=\"hide?id=38429370&amp;goto=news\">hide</a> | <a href=\"item?id=38429370\">547 comments</a>        </span>\n",
      "              </td></tr>\n",
      "      <tr class=\"spacer\" style=\"height:5px\"></tr>\n",
      "                <tr class=\"athing\" id=\"38421044\">\n",
      "      <td align=\"right\" class=\"title\" valign=\"top\"><span class=\"rank\">24.</span></td>      <td class=\"votelinks\" valign=\"top\"><center><a href=\"vote?id=38421044&amp;how=up&amp;goto=news\" id=\"up_38421044\"><div class=\"votearrow\" title=\"upvote\"></div></a></center></td><td class=\"title\"><span class=\"titleline\"><a href=\"https://periodictableoftools.com/index.html\" rel=\"noreferrer\">The Periodic Table of Tools</a><span class=\"sitebit comhead\"> (<a href=\"from?site=periodictableoftools.com\"><span class=\"sitestr\">periodictableoftools.com</span></a>)</span></span></td></tr><tr><td colspan=\"2\"></td><td class=\"subtext\"><span class=\"subline\">\n",
      "          <span class=\"score\" id=\"score_38421044\">343 points</span> by <a class=\"hnuser\" href=\"user?id=andyjohnson0\">andyjohnson0</a> <span class=\"age\" title=\"2023-11-26T12:14:27\"><a href=\"item?id=38421044\">1 day ago</a></span> <span id=\"unv_38421044\"></span> | <a href=\"hide?id=38421044&amp;goto=news\">hide</a> | <a href=\"item?id=38421044\">101 comments</a>        </span>\n",
      "              </td></tr>\n",
      "      <tr class=\"spacer\" style=\"height:5px\"></tr>\n",
      "                <tr class=\"athing\" id=\"38401188\">\n",
      "      <td align=\"right\" class=\"title\" valign=\"top\"><span class=\"rank\">25.</span></td>      <td class=\"votelinks\" valign=\"top\"><center><a href=\"vote?id=38401188&amp;how=up&amp;goto=news\" id=\"up_38401188\"><div class=\"votearrow\" title=\"upvote\"></div></a></center></td><td class=\"title\"><span class=\"titleline\"><a href=\"https://github.com/yairm210/Unciv\">Unciv</a><span class=\"sitebit comhead\"> (<a href=\"from?site=github.com/yairm210\"><span class=\"sitestr\">github.com/yairm210</span></a>)</span></span></td></tr><tr><td colspan=\"2\"></td><td class=\"subtext\"><span class=\"subline\">\n",
      "          <span class=\"score\" id=\"score_38401188\">477 points</span> by <a class=\"hnuser\" href=\"user?id=jcalve\">jcalve</a> <span class=\"age\" title=\"2023-11-24T06:37:06\"><a href=\"item?id=38401188\">15 hours ago</a></span> <span id=\"unv_38401188\"></span> | <a href=\"hide?id=38401188&amp;goto=news\">hide</a> | <a href=\"item?id=38401188\">102 comments</a>        </span>\n",
      "              </td></tr>\n",
      "      <tr class=\"spacer\" style=\"height:5px\"></tr>\n",
      "                <tr class=\"athing\" id=\"38432445\">\n",
      "      <td align=\"right\" class=\"title\" valign=\"top\"><span class=\"rank\">26.</span></td>      <td class=\"votelinks\" valign=\"top\"><center><a href=\"vote?id=38432445&amp;how=up&amp;goto=news\" id=\"up_38432445\"><div class=\"votearrow\" title=\"upvote\"></div></a></center></td><td class=\"title\"><span class=\"titleline\"><a href=\"https://practicalbetterments.com/download-all-of-wikipedia-on-your-phone/\" rel=\"nofollow noreferrer\">Download all of Wikipedia on your phone</a><span class=\"sitebit comhead\"> (<a href=\"from?site=practicalbetterments.com\"><span class=\"sitestr\">practicalbetterments.com</span></a>)</span></span></td></tr><tr><td colspan=\"2\"></td><td class=\"subtext\"><span class=\"subline\">\n",
      "          <span class=\"score\" id=\"score_38432445\">5 points</span> by <a class=\"hnuser\" href=\"user?id=DitheringIdiot\">DitheringIdiot</a> <span class=\"age\" title=\"2023-11-27T14:15:08\"><a href=\"item?id=38432445\">23 minutes ago</a></span> <span id=\"unv_38432445\"></span> | <a href=\"hide?id=38432445&amp;goto=news\">hide</a> | <a href=\"item?id=38432445\">1 comment</a>        </span>\n",
      "              </td></tr>\n",
      "      <tr class=\"spacer\" style=\"height:5px\"></tr>\n",
      "                <tr class=\"athing\" id=\"38424390\">\n",
      "      <td align=\"right\" class=\"title\" valign=\"top\"><span class=\"rank\">27.</span></td>      <td class=\"votelinks\" valign=\"top\"><center><a href=\"vote?id=38424390&amp;how=up&amp;goto=news\" id=\"up_38424390\"><div class=\"votearrow\" title=\"upvote\"></div></a></center></td><td class=\"title\"><span class=\"titleline\"><a href=\"https://marcthorpe.com/about/\" rel=\"noreferrer\">Marc Thorpe, Robot Wars founder, has died</a><span class=\"sitebit comhead\"> (<a href=\"from?site=marcthorpe.com\"><span class=\"sitestr\">marcthorpe.com</span></a>)</span></span></td></tr><tr><td colspan=\"2\"></td><td class=\"subtext\"><span class=\"subline\">\n",
      "          <span class=\"score\" id=\"score_38424390\">60 points</span> by <a class=\"hnuser\" href=\"user?id=batguano\">batguano</a> <span class=\"age\" title=\"2023-11-26T19:51:54\"><a href=\"item?id=38424390\">6 hours ago</a></span> <span id=\"unv_38424390\"></span> | <a href=\"hide?id=38424390&amp;goto=news\">hide</a> | <a href=\"item?id=38424390\">13 comments</a>        </span>\n",
      "              </td></tr>\n",
      "      <tr class=\"spacer\" style=\"height:5px\"></tr>\n",
      "                <tr class=\"athing\" id=\"38427448\">\n",
      "      <td align=\"right\" class=\"title\" valign=\"top\"><span class=\"rank\">28.</span></td>      <td class=\"votelinks\" valign=\"top\"><center><a href=\"vote?id=38427448&amp;how=up&amp;goto=news\" id=\"up_38427448\"><div class=\"votearrow\" title=\"upvote\"></div></a></center></td><td class=\"title\"><span class=\"titleline\"><a href=\"https://beej.us/guide/bgipc/html/\" rel=\"noreferrer\">Beej's Guide to Interprocess Communication</a><span class=\"sitebit comhead\"> (<a href=\"from?site=beej.us\"><span class=\"sitestr\">beej.us</span></a>)</span></span></td></tr><tr><td colspan=\"2\"></td><td class=\"subtext\"><span class=\"subline\">\n",
      "          <span class=\"score\" id=\"score_38427448\">236 points</span> by <a class=\"hnuser\" href=\"user?id=tentacleuno\">tentacleuno</a> <span class=\"age\" title=\"2023-11-27T02:36:18\"><a href=\"item?id=38427448\">12 hours ago</a></span> <span id=\"unv_38427448\"></span> | <a href=\"hide?id=38427448&amp;goto=news\">hide</a> | <a href=\"item?id=38427448\">33 comments</a>        </span>\n",
      "              </td></tr>\n",
      "      <tr class=\"spacer\" style=\"height:5px\"></tr>\n",
      "                <tr class=\"athing\" id=\"38429080\">\n",
      "      <td align=\"right\" class=\"title\" valign=\"top\"><span class=\"rank\">29.</span></td>      <td class=\"votelinks\" valign=\"top\"><center><a href=\"vote?id=38429080&amp;how=up&amp;goto=news\" id=\"up_38429080\"><div class=\"votearrow\" title=\"upvote\"></div></a></center></td><td class=\"title\"><span class=\"titleline\"><a href=\"https://nobsgames.stavros.io/\" rel=\"noreferrer\">No-Bullshit Games</a><span class=\"sitebit comhead\"> (<a href=\"from?site=stavros.io\"><span class=\"sitestr\">stavros.io</span></a>)</span></span></td></tr><tr><td colspan=\"2\"></td><td class=\"subtext\"><span class=\"subline\">\n",
      "          <span class=\"score\" id=\"score_38429080\">264 points</span> by <a class=\"hnuser\" href=\"user?id=doener\">doener</a> <span class=\"age\" title=\"2023-11-27T06:59:49\"><a href=\"item?id=38429080\">7 hours ago</a></span> <span id=\"unv_38429080\"></span> | <a href=\"hide?id=38429080&amp;goto=news\">hide</a> | <a href=\"item?id=38429080\">90 comments</a>        </span>\n",
      "              </td></tr>\n",
      "      <tr class=\"spacer\" style=\"height:5px\"></tr>\n",
      "                <tr class=\"athing\" id=\"38421452\">\n",
      "      <td align=\"right\" class=\"title\" valign=\"top\"><span class=\"rank\">30.</span></td>      <td class=\"votelinks\" valign=\"top\"><center><a href=\"vote?id=38421452&amp;how=up&amp;goto=news\" id=\"up_38421452\"><div class=\"votearrow\" title=\"upvote\"></div></a></center></td><td class=\"title\"><span class=\"titleline\"><a href=\"https://kokorobot.ca/site/making_a_font.html\" rel=\"noreferrer\">Making a font</a><span class=\"sitebit comhead\"> (<a href=\"from?site=kokorobot.ca\"><span class=\"sitestr\">kokorobot.ca</span></a>)</span></span></td></tr><tr><td colspan=\"2\"></td><td class=\"subtext\"><span class=\"subline\">\n",
      "          <span class=\"score\" id=\"score_38421452\">297 points</span> by <a class=\"hnuser\" href=\"user?id=todsacerdoti\">todsacerdoti</a> <span class=\"age\" title=\"2023-11-26T13:31:39\"><a href=\"item?id=38421452\">18 hours ago</a></span> <span id=\"unv_38421452\"></span> | <a href=\"hide?id=38421452&amp;goto=news\">hide</a> | <a href=\"item?id=38421452\">24 comments</a>        </span>\n",
      "              </td></tr>\n",
      "      <tr class=\"spacer\" style=\"height:5px\"></tr>\n",
      "            <tr class=\"morespace\" style=\"height:10px\"></tr><tr><td colspan=\"2\"></td>\n",
      "      <td class=\"title\"><a class=\"morelink\" href=\"?p=2\" rel=\"next\">More</a></td>    </tr>\n",
      "  </tbody></table>\n",
      "</td></tr>\n",
      "<tr><td><img height=\"10\" src=\"s.gif\" width=\"0\"/><table cellpadding=\"1\" cellspacing=\"0\" width=\"100%\"><tbody><tr><td bgcolor=\"#ff6600\"></td></tr></tbody></table><br/>\n",
      "<center><span class=\"yclinks\"><a href=\"newsguidelines.html\">Guidelines</a> | <a href=\"newsfaq.html\">FAQ</a> | <a href=\"lists\">Lists</a> | <a href=\"https://github.com/HackerNews/API\">API</a> | <a href=\"security.html\">Security</a> | <a href=\"https://www.ycombinator.com/legal/\">Legal</a> | <a href=\"https://www.ycombinator.com/apply/\">Apply to YC</a> | <a href=\"mailto:hn@ycombinator.com\">Contact</a></span><br/><br/>\n",
      "<form action=\"//hn.algolia.com/\" method=\"get\">Search: <input autocapitalize=\"off\" autocomplete=\"false\" autocorrect=\"off\" name=\"q\" size=\"17\" spellcheck=\"false\" type=\"text\"/></form></center></td></tr>      </tbody></table></center>\n",
      "      <script src=\"hn.js?GWsUy5KGFqx1M9UIO0dq\" type=\"text/javascript\"></script>\n",
      "  \n",
      "</body></html>\n"
     ]
    }
   ],
   "source": [
    "from bs4 import BeautifulSoup\n",
    "\n",
    "# Remove HTML tags using Beautiful Soup library\n",
    "soup = BeautifulSoup(r.text, \"html5lib\")\n",
    "print(soup)"
   ]
  },
  {
   "cell_type": "code",
   "execution_count": 11,
   "metadata": {
    "scrolled": true
   },
   "outputs": [
    {
     "data": {
      "text/plain": [
       "<tr class=\"athing\" id=\"38431482\">\n",
       "      <td align=\"right\" class=\"title\" valign=\"top\"><span class=\"rank\">1.</span></td>      <td class=\"votelinks\" valign=\"top\"><center><a href=\"vote?id=38431482&amp;how=up&amp;goto=news\" id=\"up_38431482\"><div class=\"votearrow\" title=\"upvote\"></div></a></center></td><td class=\"title\"><span class=\"titleline\"><a href=\"https://aimoprize.com/\" rel=\"noreferrer\">$10M AI Mathematical Olympiad Prize</a><span class=\"sitebit comhead\"> (<a href=\"from?site=aimoprize.com\"><span class=\"sitestr\">aimoprize.com</span></a>)</span></span></td></tr>"
      ]
     },
     "execution_count": 11,
     "metadata": {},
     "output_type": "execute_result"
    }
   ],
   "source": [
    "# Find all articles\n",
    "summaries = soup.find_all(\"tr\", class_=\"athing\")\n",
    "summaries[0]"
   ]
  },
  {
   "cell_type": "code",
   "execution_count": 15,
   "metadata": {},
   "outputs": [
    {
     "data": {
      "text/plain": [
       "'$10M AI Mathematical Olympiad Prize (aimoprize.com)'"
      ]
     },
     "execution_count": 15,
     "metadata": {},
     "output_type": "execute_result"
    }
   ],
   "source": [
    "# Extract title\n",
    "summaries[0].find(\"span\", class_=\"titleline\").get_text()"
   ]
  },
  {
   "cell_type": "code",
   "execution_count": 16,
   "metadata": {},
   "outputs": [
    {
     "name": "stdout",
     "output_type": "stream",
     "text": [
      "30 Article summaries found. Sample:\n",
      "$10M AI Mathematical Olympiad Prize (aimoprize.com)\n"
     ]
    }
   ],
   "source": [
    "# Find all articles, extract titles\n",
    "articles = []\n",
    "summaries = soup.find_all(\"tr\", class_=\"athing\")\n",
    "for summary in summaries:\n",
    "    title = summary.find(\"span\", class_=\"titleline\").get_text()\n",
    "    articles.append((title))\n",
    "\n",
    "print(len(articles), \"Article summaries found. Sample:\")\n",
    "print(articles[0])"
   ]
  },
  {
   "cell_type": "markdown",
   "metadata": {
    "collapsed": true
   },
   "source": [
    "## Normalization"
   ]
  },
  {
   "cell_type": "markdown",
   "metadata": {},
   "source": [
    "### Case Normalization"
   ]
  },
  {
   "cell_type": "code",
   "execution_count": null,
   "metadata": {},
   "outputs": [],
   "source": [
    "# Sample text\n",
    "text = \"The first time you see The Second Renaissance it may look boring. Look at it at least twice and definitely watch part 2. It will change your view of the matrix. Are the human people the ones who started the war ? Is AI a bad thing ?\"\n",
    "print(text)"
   ]
  },
  {
   "cell_type": "code",
   "execution_count": null,
   "metadata": {},
   "outputs": [],
   "source": [
    "# Convert to lowercase\n",
    "text = text.lower() \n",
    "print(text)"
   ]
  },
  {
   "cell_type": "markdown",
   "metadata": {},
   "source": [
    "### Punctuation Removal"
   ]
  },
  {
   "cell_type": "code",
   "execution_count": null,
   "metadata": {},
   "outputs": [],
   "source": [
    "import re\n",
    "\n",
    "# Remove punctuation characters\n",
    "text = re.sub(r\"[^a-zA-Z0-9]\", \" \", text) \n",
    "print(text)"
   ]
  },
  {
   "cell_type": "markdown",
   "metadata": {},
   "source": [
    "## Tokenization"
   ]
  },
  {
   "cell_type": "code",
   "execution_count": null,
   "metadata": {},
   "outputs": [],
   "source": [
    "# Split text into tokens (words)\n",
    "words = text.split()\n",
    "print(words)"
   ]
  },
  {
   "cell_type": "markdown",
   "metadata": {},
   "source": [
    "### NLTK: Natural Language ToolKit"
   ]
  },
  {
   "cell_type": "code",
   "execution_count": null,
   "metadata": {},
   "outputs": [],
   "source": [
    "import os\n",
    "import nltk\n",
    "nltk.data.path.append(os.path.join(os.getcwd(), \"nltk_data\"))"
   ]
  },
  {
   "cell_type": "code",
   "execution_count": null,
   "metadata": {},
   "outputs": [],
   "source": [
    "# Another sample text\n",
    "text = \"Dr. Smith graduated from the University of Washington. He later started an analytics firm called Lux, which catered to enterprise customers.\"\n",
    "print(text)"
   ]
  },
  {
   "cell_type": "code",
   "execution_count": null,
   "metadata": {},
   "outputs": [],
   "source": [
    "from nltk.tokenize import word_tokenize\n",
    "\n",
    "# Split text into words using NLTK\n",
    "words = word_tokenize(text)\n",
    "print(words)"
   ]
  },
  {
   "cell_type": "code",
   "execution_count": null,
   "metadata": {},
   "outputs": [],
   "source": [
    "from nltk.tokenize import sent_tokenize\n",
    "\n",
    "# Split text into sentences\n",
    "sentences = sent_tokenize(text)\n",
    "print(sentences)"
   ]
  },
  {
   "cell_type": "code",
   "execution_count": null,
   "metadata": {},
   "outputs": [],
   "source": [
    "# List stop words\n",
    "from nltk.corpus import stopwords\n",
    "print(stopwords.words(\"english\"))"
   ]
  },
  {
   "cell_type": "code",
   "execution_count": null,
   "metadata": {},
   "outputs": [],
   "source": [
    "# Reset text\n",
    "text = \"The first time you see The Second Renaissance it may look boring. Look at it at least twice and definitely watch part 2. It will change your view of the matrix. Are the human people the ones who started the war ? Is AI a bad thing ?\"\n",
    "\n",
    "# Normalize it\n",
    "text = re.sub(r\"[^a-zA-Z0-9]\", \" \", text.lower())\n",
    "\n",
    "# Tokenize it\n",
    "words = text.split()\n",
    "print(words)"
   ]
  },
  {
   "cell_type": "code",
   "execution_count": null,
   "metadata": {},
   "outputs": [],
   "source": [
    "# Remove stop words\n",
    "words = [w for w in words if w not in stopwords.words(\"english\")]\n",
    "print(words)"
   ]
  },
  {
   "cell_type": "markdown",
   "metadata": {},
   "source": [
    "## Part of Speech Tagging/ Sentence Parsing"
   ]
  },
  {
   "cell_type": "code",
   "execution_count": null,
   "metadata": {},
   "outputs": [],
   "source": [
    "import nltk\n",
    "\n",
    "# Define a custom grammar\n",
    "my_grammar = nltk.CFG.fromstring(\"\"\"\n",
    "S -> NP VP\n",
    "PP -> P NP\n",
    "NP -> Det N | Det N PP | 'I'\n",
    "VP -> V NP | VP PP\n",
    "Det -> 'an' | 'my'\n",
    "N -> 'elephant' | 'pajamas'\n",
    "V -> 'shot'\n",
    "P -> 'in'\n",
    "\"\"\")\n",
    "parser = nltk.ChartParser(my_grammar)\n",
    "\n",
    "# Parse a sentence\n",
    "sentence = word_tokenize(\"I shot an elephant in my pajamas\")\n",
    "for tree in parser.parse(sentence):\n",
    "    print(tree)"
   ]
  },
  {
   "cell_type": "markdown",
   "metadata": {},
   "source": [
    "## Stemming & Lemmatization\n",
    "\n",
    "### Stemming"
   ]
  },
  {
   "cell_type": "code",
   "execution_count": null,
   "metadata": {},
   "outputs": [],
   "source": [
    "from nltk.stem.porter import PorterStemmer\n",
    "\n",
    "# Reduce words to their stems\n",
    "stemmed = [PorterStemmer().stem(w) for w in words]\n",
    "print(stemmed)"
   ]
  },
  {
   "cell_type": "markdown",
   "metadata": {},
   "source": [
    "### Lemmatization"
   ]
  },
  {
   "cell_type": "code",
   "execution_count": null,
   "metadata": {},
   "outputs": [],
   "source": [
    "from nltk.stem.wordnet import WordNetLemmatizer\n",
    "\n",
    "# Reduce words to their root form\n",
    "lemmed = [WordNetLemmatizer().lemmatize(w) for w in words]\n",
    "print(lemmed)"
   ]
  },
  {
   "cell_type": "code",
   "execution_count": null,
   "metadata": {},
   "outputs": [],
   "source": [
    "# Lemmatize verbs by specifying pos\n",
    "lemmed = [WordNetLemmatizer().lemmatize(w, pos='v') for w in lemmed]\n",
    "print(lemmed)"
   ]
  },
  {
   "cell_type": "code",
   "execution_count": null,
   "metadata": {},
   "outputs": [],
   "source": []
  }
 ],
 "metadata": {
  "kernelspec": {
   "display_name": "Python 3 (ipykernel)",
   "language": "python",
   "name": "python3"
  },
  "language_info": {
   "codemirror_mode": {
    "name": "ipython",
    "version": 3
   },
   "file_extension": ".py",
   "mimetype": "text/x-python",
   "name": "python",
   "nbconvert_exporter": "python",
   "pygments_lexer": "ipython3",
   "version": "3.7.13"
  }
 },
 "nbformat": 4,
 "nbformat_minor": 2
}
