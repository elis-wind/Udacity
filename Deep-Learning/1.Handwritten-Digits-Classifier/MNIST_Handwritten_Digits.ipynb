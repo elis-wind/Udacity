{
 "cells": [
  {
   "cell_type": "code",
   "execution_count": 1,
   "metadata": {},
   "outputs": [],
   "source": [
    "#!pip install ipywidgets"
   ]
  },
  {
   "cell_type": "markdown",
   "metadata": {},
   "source": [
    "# Introduction\n",
    "\n",
    "In this project, you will build a neural network of your own design to evaluate the MNIST dataset.\n",
    "\n",
    "Some of the benchmark results on MNIST include can be found [on Yann LeCun's page](http://yann.lecun.com/exdb/mnist/) and include:\n",
    "\n",
    "88% [Lecun et al., 1998](http://yann.lecun.com/exdb/publis/pdf/lecun-98.pdf)\n",
    "95.3% [Lecun et al., 1998](http://yann.lecun.com/exdb/publis/pdf/lecun-98.pdf)\n",
    "99.65% [Ciresan et al., 2011](http://people.idsia.ch/~juergen/ijcai2011.pdf)\n",
    "\n",
    "MNIST is a great dataset for sanity checking your models, since the accuracy levels achieved by large convolutional neural networks and small linear models are both quite high. This makes it important to be familiar with the data.\n",
    "\n",
    "## Imports"
   ]
  },
  {
   "cell_type": "code",
   "execution_count": 1,
   "metadata": {},
   "outputs": [],
   "source": [
    "## This cell contains the essential imports you will need – DO NOT CHANGE THE CONTENTS! ##\n",
    "import torch\n",
    "import torch.nn as nn\n",
    "import torch.nn.functional as F\n",
    "import torch.optim as optim\n",
    "import torchvision\n",
    "import torchvision.transforms as transforms\n",
    "import matplotlib.pyplot as plt\n",
    "import numpy as np\n",
    "# Progress bar\n",
    "from tqdm import tqdm\n",
    "# Will use this to figure out the number of CPUs available\n",
    "import multiprocessing"
   ]
  },
  {
   "cell_type": "code",
   "execution_count": 2,
   "metadata": {},
   "outputs": [
    {
     "data": {
      "text/plain": [
       "device(type='cpu')"
      ]
     },
     "execution_count": 2,
     "metadata": {},
     "output_type": "execute_result"
    }
   ],
   "source": [
    "device = torch.device('cuda' if torch.cuda.is_available() else 'cpu')\n",
    "device"
   ]
  },
  {
   "cell_type": "markdown",
   "metadata": {},
   "source": [
    "## Load the Dataset\n",
    "\n",
    "Specify your transforms as a list if you intend to .\n",
    "The transforms module is already loaded as `transforms`.\n",
    "\n",
    "MNIST is fortunately included in the torchvision module.\n",
    "Then, you can create your dataset using the `MNIST` object from `torchvision.datasets` ([the documentation is available here](https://pytorch.org/vision/stable/datasets.html#mnist)).\n",
    "Make sure to specify `download=True`! \n",
    "\n",
    "Once your dataset is created, you'll also need to define a `DataLoader` from the `torch.utils.data` module for both the train and the test set."
   ]
  },
  {
   "cell_type": "code",
   "execution_count": 4,
   "metadata": {},
   "outputs": [],
   "source": [
    "# Define transforms\n",
    "## YOUR CODE HERE ##\n",
    "transform = transforms.Compose([transforms.ToTensor(),\n",
    "                              transforms.Normalize((0.5,), (0.5,)),\n",
    "                              ])\n",
    "\n",
    "# Create training set and define training dataloader\n",
    "## YOUR CODE HERE ##\n",
    "train_set = torchvision.datasets.MNIST('data_train/', download=True, train=True, transform=transform)\n",
    "test_set = torchvision.datasets.MNIST('data_test/', download=True, train=False, transform=transform)\n",
    "\n",
    "# Create test set and define test dataloader\n",
    "## YOUR CODE HERE ##\n",
    "train_loader = torch.utils.data.DataLoader(train_set, batch_size=100, shuffle=True)\n",
    "test_loader = torch.utils.data.DataLoader(test_set, batch_size=100, shuffle=True)"
   ]
  },
  {
   "cell_type": "markdown",
   "metadata": {},
   "source": [
    "## Justify your preprocessing\n",
    "\n",
    "In your own words, why did you choose the transforms you chose? If you didn't use any preprocessing steps, why not?"
   ]
  },
  {
   "cell_type": "markdown",
   "metadata": {},
   "source": [
    "**transforms.ToTensor() converts images into Torch tensors (numeric values that reflect color channels, number of pixels).**\n",
    "\n",
    "**transforms.Normalize() normalizes each tensor with a mean and standard deviation.**\n",
    "\n",
    "**I did not flatten the tensors as part of my preprocessing. I will use Flatten layer in my network architecture further down.**"
   ]
  },
  {
   "cell_type": "markdown",
   "metadata": {},
   "source": [
    "## Explore the Dataset\n",
    "Using matplotlib, numpy, and torch, explore the dimensions of your data.\n",
    "\n",
    "You can view images using the `show5` function defined below – it takes a data loader as an argument.\n",
    "Remember that normalized images will look really weird to you! You may want to try changing your transforms to view images.\n",
    "Typically using no transforms other than `toTensor()` works well for viewing – but not as well for training your network.\n",
    "If `show5` doesn't work, go back and check your code for creating your data loaders and your training/test sets."
   ]
  },
  {
   "cell_type": "code",
   "execution_count": 16,
   "metadata": {},
   "outputs": [
    {
     "data": {
      "image/png": "[encoded data removed]",
      "text/plain": [
       "<Figure size 1800x288 with 20 Axes>"
      ]
     },
     "metadata": {
      "needs_background": "light"
     },
     "output_type": "display_data"
    }
   ],
   "source": [
    "# obtain one batch of training images\n",
    "dataiter = iter(train_loader)\n",
    "images, labels = dataiter.next()\n",
    "images = images.numpy()\n",
    "\n",
    "# plot the images in the batch, along with the corresponding labels\n",
    "fig, subs = plt.subplots(2, 10, figsize=(25, 4))\n",
    "for idx, sub in zip(np.arange(20), subs.flatten()):\n",
    "    sub.imshow(np.squeeze(images[idx]), cmap='gray')\n",
    "    # print out the correct label for each image\n",
    "    # .item() gets the value contained in a Tensor\n",
    "    sub.set_title(str(labels[idx].item()))\n",
    "    sub.axis(\"off\")"
   ]
  },
  {
   "cell_type": "code",
   "execution_count": 6,
   "metadata": {},
   "outputs": [],
   "source": [
    "## This cell contains a function for showing 5 images from a dataloader – DO NOT CHANGE THE CONTENTS! ##\n",
    "def show5(img_loader):\n",
    "    dataiter = iter(img_loader)\n",
    "    \n",
    "    batch = next(dataiter)\n",
    "    labels = batch[1][0:5]\n",
    "    images = batch[0][0:5]\n",
    "    for i in range(5):\n",
    "        print(int(labels[i].detach()))\n",
    "    \n",
    "        image = images[i].numpy()\n",
    "        plt.imshow(image.T.squeeze().T)\n",
    "        plt.show()"
   ]
  },
  {
   "cell_type": "code",
   "execution_count": 7,
   "metadata": {},
   "outputs": [
    {
     "name": "stdout",
     "output_type": "stream",
     "text": [
      "9\n"
     ]
    },
    {
     "data": {
      "image/png": "[encoded data removed]",
      "text/plain": [
       "<Figure size 432x288 with 1 Axes>"
      ]
     },
     "metadata": {
      "needs_background": "light"
     },
     "output_type": "display_data"
    },
    {
     "name": "stdout",
     "output_type": "stream",
     "text": [
      "4\n"
     ]
    },
    {
     "data": {
      "image/png": "[encoded data removed]",
      "text/plain": [
       "<Figure size 432x288 with 1 Axes>"
      ]
     },
     "metadata": {
      "needs_background": "light"
     },
     "output_type": "display_data"
    },
    {
     "name": "stdout",
     "output_type": "stream",
     "text": [
      "2\n"
     ]
    },
    {
     "data": {
      "image/png": "[encoded data removed]",
      "text/plain": [
       "<Figure size 432x288 with 1 Axes>"
      ]
     },
     "metadata": {
      "needs_background": "light"
     },
     "output_type": "display_data"
    },
    {
     "name": "stdout",
     "output_type": "stream",
     "text": [
      "3\n"
     ]
    },
    {
     "data": {
      "image/png": "[encoded data removed]",
      "text/plain": [
       "<Figure size 432x288 with 1 Axes>"
      ]
     },
     "metadata": {
      "needs_background": "light"
     },
     "output_type": "display_data"
    },
    {
     "name": "stdout",
     "output_type": "stream",
     "text": [
      "7\n"
     ]
    },
    {
     "data": {
      "image/png": "[encoded data removed]",
      "text/plain": [
       "<Figure size 432x288 with 1 Axes>"
      ]
     },
     "metadata": {
      "needs_background": "light"
     },
     "output_type": "display_data"
    }
   ],
   "source": [
    "# Explore data\n",
    "## YOUR CODE HERE ##\n",
    "show5(train_loader)"
   ]
  },
  {
   "cell_type": "markdown",
   "metadata": {},
   "source": [
    "View an Image in More Detail"
   ]
  },
  {
   "cell_type": "code",
   "execution_count": 18,
   "metadata": {},
   "outputs": [
    {
     "data": {
      "image/png": "[encoded data removed]",
      "text/plain": [
       "<Figure size 864x864 with 1 Axes>"
      ]
     },
     "metadata": {
      "needs_background": "light"
     },
     "output_type": "display_data"
    }
   ],
   "source": [
    "img = np.squeeze(images[1])\n",
    "\n",
    "fig, sub = plt.subplots(figsize = (12,12)) \n",
    "sub.imshow(img, cmap='gray')\n",
    "width, height = img.shape\n",
    "thresh = img.max()/2.5\n",
    "for x in range(width):\n",
    "    for y in range(height):\n",
    "        val = round(img[x][y],2) if img[x][y] !=0 else 0\n",
    "        sub.annotate(str(val), xy=(y,x),\n",
    "                    horizontalalignment='center',\n",
    "                    verticalalignment='center',\n",
    "                    color='white' if img[x][y]<thresh else 'black')\n",
    "        sub.axis(\"off\")"
   ]
  },
  {
   "cell_type": "markdown",
   "metadata": {},
   "source": [
    "Shape of train data"
   ]
  },
  {
   "cell_type": "code",
   "execution_count": 10,
   "metadata": {},
   "outputs": [
    {
     "data": {
      "text/plain": [
       "torch.Size([100, 1, 28, 28])"
      ]
     },
     "execution_count": 10,
     "metadata": {},
     "output_type": "execute_result"
    }
   ],
   "source": [
    "images = enumerate(train_loader)\n",
    "batches, (example_img, example_class) = next(images)\n",
    "example_img.shape"
   ]
  },
  {
   "cell_type": "markdown",
   "metadata": {},
   "source": [
    "Shape of test data"
   ]
  },
  {
   "cell_type": "code",
   "execution_count": 9,
   "metadata": {},
   "outputs": [
    {
     "data": {
      "text/plain": [
       "torch.Size([100, 1, 28, 28])"
      ]
     },
     "execution_count": 9,
     "metadata": {},
     "output_type": "execute_result"
    }
   ],
   "source": [
    "images = enumerate(test_loader)\n",
    "batches, (example_img, example_class) = next(images)\n",
    "example_img.shape"
   ]
  },
  {
   "cell_type": "markdown",
   "metadata": {},
   "source": [
    "**The images are 28 x 28 pixels, we will need this info for the input layer shape**"
   ]
  },
  {
   "cell_type": "code",
   "execution_count": null,
   "metadata": {},
   "outputs": [],
   "source": []
  },
  {
   "cell_type": "markdown",
   "metadata": {},
   "source": [
    "## Build your Neural Network\n",
    "Using the layers in `torch.nn` (which has been imported as `nn`) and the `torch.nn.functional` module (imported as `F`), construct a neural network based on the parameters of the dataset.\n",
    "Use any architecture you like. \n",
    "\n",
    "*Note*: If you did not flatten your tensors in your transforms or as part of your preprocessing and you are using only `Linear` layers, make sure to use the `Flatten` layer in your network!"
   ]
  },
  {
   "cell_type": "code",
   "execution_count": 21,
   "metadata": {},
   "outputs": [
    {
     "data": {
      "text/plain": [
       "Net(\n",
       "  (fc1): Linear(in_features=784, out_features=128, bias=True)\n",
       "  (fc2): Linear(in_features=128, out_features=64, bias=True)\n",
       "  (fc3): Linear(in_features=64, out_features=10, bias=True)\n",
       ")"
      ]
     },
     "execution_count": 21,
     "metadata": {},
     "output_type": "execute_result"
    }
   ],
   "source": [
    "## YOUR CODE HERE ##\n",
    "class Net(nn.Module):\n",
    "    def __init__(self):\n",
    "        super().__init__()\n",
    "        self.activation = F.relu\n",
    "        #self.dropout = F.dropout(0.5)\n",
    "        self.fc1 = nn.Linear(28 * 28, 128)\n",
    "        self.fc2 = nn.Linear(128, 64)\n",
    "        self.fc3 = nn.Linear(64, 10)\n",
    "\n",
    "    def forward(self, x):\n",
    "        x = torch.flatten(x, 1) # flatten all dimensions except batch\n",
    "        x = self.activation(self.fc1(x))\n",
    "        x = self.activation(self.fc2(x))\n",
    "        x = self.activation(self.fc3(x))\n",
    "        return F.log_softmax(x, dim=1)\n",
    "\n",
    "# Instantiate the model\n",
    "net = Net()\n",
    "net.to(device)"
   ]
  },
  {
   "cell_type": "markdown",
   "metadata": {},
   "source": [
    "Specify a loss function and an optimizer, and instantiate the model.\n",
    "\n",
    "If you use a less common loss function, please note why you chose that loss function in a comment."
   ]
  },
  {
   "cell_type": "code",
   "execution_count": 15,
   "metadata": {},
   "outputs": [],
   "source": [
    "## YOUR CODE HERE ##\n",
    "# Choose an optimizer\n",
    "\n",
    "#optimizer = optim.Adam(net.parameters(), lr=0.001)\n",
    "optimizer = optim.SGD(net.parameters(), lr=0.05, momentum = 0.9)\n",
    "\n",
    "# Choose a loss function\n",
    "\n",
    "#criterion = nn.CrossEntropyLoss()\n",
    "criterion = nn.NLLLoss()"
   ]
  },
  {
   "cell_type": "markdown",
   "metadata": {},
   "source": [
    "## Running your Neural Network\n",
    "Use whatever method you like to train your neural network, and ensure you record the average loss at each epoch. \n",
    "Don't forget to use `torch.device()` and the `.to()` method for both your model and your data if you are using GPU!\n",
    "\n",
    "If you want to print your loss **during** each epoch, you can use the `enumerate` function and print the loss after a set number of batches. 250 batches works well for most people!"
   ]
  },
  {
   "cell_type": "code",
   "execution_count": 16,
   "metadata": {},
   "outputs": [
    {
     "name": "stdout",
     "output_type": "stream",
     "text": [
      "Epoch 1 training accuracy: 86.26% training loss: 0.43847\n",
      "Epoch 2 training accuracy: 94.46% training loss: 0.18227\n",
      "Epoch 3 training accuracy: 95.54% training loss: 0.14588\n",
      "Epoch 4 training accuracy: 96.11% training loss: 0.12562\n",
      "Epoch 5 training accuracy: 96.70% training loss: 0.10662\n",
      "Epoch 6 training accuracy: 97.05% training loss: 0.09661\n",
      "Epoch 7 training accuracy: 97.22% training loss: 0.09112\n",
      "Epoch 8 training accuracy: 97.45% training loss: 0.08207\n",
      "Epoch 9 training accuracy: 97.53% training loss: 0.07870\n",
      "Epoch 10 training accuracy: 97.72% training loss: 0.07384\n"
     ]
    }
   ],
   "source": [
    "## YOUR CODE HERE ##\n",
    "num_epochs = 10\n",
    "\n",
    "# Establish a list for our history\n",
    "train_loss_history = list()\n",
    "test_loss_history = list()\n",
    "\n",
    "for epoch in range(num_epochs):\n",
    "    net.train()\n",
    "    train_loss = 0.0\n",
    "    train_correct = 0\n",
    "    for i, data in enumerate(train_loader):\n",
    "        # data is a list of [inputs, labels]\n",
    "        inputs, labels = data\n",
    "\n",
    "        # Pass to GPU if available.\n",
    "        inputs, labels = inputs.to(device), labels.to(device)\n",
    "\n",
    "        optimizer.zero_grad()\n",
    "\n",
    "        outputs = net(inputs)\n",
    "        loss = criterion(outputs, labels)\n",
    "        loss.backward()\n",
    "        optimizer.step()\n",
    "\n",
    "        _, preds = torch.max(outputs.data, 1)\n",
    "        train_correct += (preds == labels).sum().item()\n",
    "        train_loss += loss.item()\n",
    "    print(f'Epoch {epoch + 1} training accuracy: {train_correct/len(train_loader):.2f}% training loss: {train_loss/len(train_loader):.5f}')\n",
    "    train_loss_history.append(train_loss/len(train_loader))\n",
    "\n",
    "#    test_loss = 0.0\n",
    "#    test_correct = 0\n",
    "#    net.eval()\n",
    "#    for inputs, labels in test_loader:\n",
    "#        inputs, labels = inputs.to(device), labels.to(device)\n",
    "\n",
    "#        outputs = net(inputs)\n",
    "#        loss = criterion(outputs, labels)\n",
    "\n",
    "#        _, preds = torch.max(outputs.data, 1)\n",
    "#        test_correct += (preds == labels).sum().item()\n",
    "#        test_loss += loss.item()\n",
    "#    print(f'Epoch {epoch + 1} validation accuracy: {test_correct/len(test_loader):.2f}% validation loss: {test_loss/len(test_loader):.5f}')\n",
    "#    test_loss_history.append(test_loss/len(test_loader))"
   ]
  },
  {
   "cell_type": "markdown",
   "metadata": {},
   "source": [
    "Plot the training loss (and validation loss/accuracy, if recorded)."
   ]
  },
  {
   "cell_type": "code",
   "execution_count": 17,
   "metadata": {},
   "outputs": [
    {
     "data": {
      "image/png": "[encoded data removed]",
      "text/plain": [
       "<Figure size 432x288 with 1 Axes>"
      ]
     },
     "metadata": {
      "needs_background": "light"
     },
     "output_type": "display_data"
    }
   ],
   "source": [
    "## YOUR CODE HERE ##\n",
    "plt.plot(train_loss_history, label=\"Training Loss\")\n",
    "#plt.plot(test_loss_history, label=\"Validation Loss\")\n",
    "plt.legend()\n",
    "plt.show()"
   ]
  },
  {
   "cell_type": "markdown",
   "metadata": {},
   "source": [
    "## Testing your model\n",
    "Using the previously created `DataLoader` for the test set, compute the percentage of correct predictions using the highest probability prediction. \n",
    "\n",
    "If your accuracy is over 90%, great work, but see if you can push a bit further! \n",
    "If your accuracy is under 90%, you'll need to make improvements.\n",
    "Go back and check your model architecture, loss function, and optimizer to make sure they're appropriate for an image classification task."
   ]
  },
  {
   "cell_type": "code",
   "execution_count": 18,
   "metadata": {},
   "outputs": [
    {
     "name": "stdout",
     "output_type": "stream",
     "text": [
      "Test accuracy: 96.75% test loss: 0.11617\n"
     ]
    }
   ],
   "source": [
    "## YOUR CODE HERE ##\n",
    "test_loss = 0.0\n",
    "test_correct = 0\n",
    "net.eval()\n",
    "\n",
    "for inputs, labels in test_loader:\n",
    "    inputs, labels = inputs.to(device), labels.to(device)\n",
    "\n",
    "    outputs = net(inputs)\n",
    "    loss = criterion(outputs, labels)\n",
    "\n",
    "    _, preds = torch.max(outputs.data, 1)\n",
    "    test_correct += (preds == labels).sum().item()\n",
    "    test_loss += loss.item()\n",
    "\n",
    "print(f'Test accuracy: {test_correct/len(test_loader):.2f}% test loss: {test_loss/len(test_loader):.5f}')"
   ]
  },
  {
   "cell_type": "markdown",
   "metadata": {},
   "source": [
    "## Improving your model\n",
    "\n",
    "Once your model is done training, try tweaking your hyperparameters and training again below to improve your accuracy on the test set! You can also add a validation set into your training."
   ]
  },
  {
   "cell_type": "code",
   "execution_count": 19,
   "metadata": {},
   "outputs": [],
   "source": [
    "## YOUR CODE HERE ##\n",
    "# I consistently got my accuracy between 60 and 85%. \n",
    "# Tweaking hyperparameters (batch size, optymization method, loss function,\n",
    "# as well as learning rate and momentum, cf. above)\n",
    "# allowed me to score over 90%"
   ]
  },
  {
   "cell_type": "markdown",
   "metadata": {},
   "source": [
    "## Saving your model\n",
    "Using `torch.save`, save your model for future loading."
   ]
  },
  {
   "cell_type": "code",
   "execution_count": 29,
   "metadata": {},
   "outputs": [],
   "source": [
    "## YOUR CODE HERE ##\n",
    "torch.save(net,'MNIST_model')"
   ]
  },
  {
   "cell_type": "code",
   "execution_count": null,
   "metadata": {},
   "outputs": [],
   "source": []
  },
  {
   "cell_type": "markdown",
   "metadata": {},
   "source": [
    "**The following is not a part of a project, this is copied from a posterior Udacity lesson for comparison purposes as well as for a different way to define model architecture and visualize the data**"
   ]
  },
  {
   "cell_type": "code",
   "execution_count": 6,
   "metadata": {},
   "outputs": [],
   "source": [
    "# number of subprocesses to use for data loading\n",
    "# We set this equal to the number of CPUs available\n",
    "# in this machine\n",
    "num_workers = multiprocessing.cpu_count()"
   ]
  },
  {
   "cell_type": "markdown",
   "metadata": {},
   "source": [
    "### Split train data into a proper training set and a validation set"
   ]
  },
  {
   "cell_type": "code",
   "execution_count": 7,
   "metadata": {},
   "outputs": [
    {
     "name": "stdout",
     "output_type": "stream",
     "text": [
      "Using 48000 examples for training and 12000 for validation\n",
      "Using 10000 for testing\n"
     ]
    }
   ],
   "source": [
    "# Split in train and validation\n",
    "# NOTE: we set the generator with a fixed random seed for reproducibility\n",
    "train_len = int(len(train_set) * 0.8)\n",
    "val_len = len(train_set) - train_len\n",
    "print(f\"Using {train_len} examples for training and {val_len} for validation\")\n",
    "train_subset, val_subset = torch.utils.data.random_split(\n",
    "    train_set, [train_len, val_len], generator=torch.Generator().manual_seed(42)\n",
    ")\n",
    "\n",
    "train_loader = torch.utils.data.DataLoader(\n",
    "    dataset=train_subset, shuffle=True, batch_size=100, num_workers=num_workers\n",
    ")\n",
    "val_loader = torch.utils.data.DataLoader(\n",
    "    dataset=val_subset, shuffle=False, batch_size=100, num_workers=num_workers\n",
    ")\n",
    "\n",
    "print(f\"Using {len(test_set)} for testing\")"
   ]
  },
  {
   "cell_type": "markdown",
   "metadata": {},
   "source": [
    "### Define the Network [Architecture](http://pytorch.org/docs/stable/nn.html)\n",
    "\n",
    "The architecture will be responsible for seeing as input a 784-dim Tensor of pixel values for each image, and producing a Tensor of length 10 (our number of classes) that indicates the class scores for an input image. This particular example uses two hidden layers and dropout to avoid overfitting."
   ]
  },
  {
   "cell_type": "code",
   "execution_count": 8,
   "metadata": {},
   "outputs": [
    {
     "data": {
      "text/plain": [
       "MyModel(\n",
       "  (model): Sequential(\n",
       "    (0): Linear(in_features=784, out_features=512, bias=True)\n",
       "    (1): ReLU()\n",
       "    (2): Dropout(p=0.3, inplace=False)\n",
       "    (3): Linear(in_features=512, out_features=512, bias=True)\n",
       "    (4): ReLU()\n",
       "    (5): Dropout(p=0.3, inplace=False)\n",
       "    (6): Linear(in_features=512, out_features=10, bias=True)\n",
       "  )\n",
       ")"
      ]
     },
     "execution_count": 8,
     "metadata": {},
     "output_type": "execute_result"
    }
   ],
   "source": [
    "class MyModel(nn.Module):\n",
    "    def __init__(self):\n",
    "        super(MyModel, self).__init__()\n",
    "        hidden_1 = 512\n",
    "        hidden_2 = 512\n",
    "        dropout = 0.3\n",
    "\n",
    "        self.model = nn.Sequential(\n",
    "            nn.Linear(28 * 28, hidden_1),\n",
    "            nn.ReLU(),\n",
    "            nn.Dropout(dropout),\n",
    "            nn.Linear(hidden_1, hidden_2),\n",
    "            nn.ReLU(),\n",
    "            nn.Dropout(dropout),\n",
    "            nn.Linear(hidden_2, 10)\n",
    "        )\n",
    "\n",
    "    def forward(self, x):\n",
    "        x = x.view(-1, 28 * 28)\n",
    "        return self.model(x)\n",
    "\n",
    "\n",
    "# Instantiate the model\n",
    "model = MyModel()\n",
    "\n",
    "# NOTE: this is NOT the structure of the network, but merely a\n",
    "# visualization of the layers that are present. For very simple\n",
    "# architectures the two might be similar, but for more complicated\n",
    "# network they will not. See the next cell for a possible way of\n",
    "# visualizing the real structure of the network\n",
    "model.to(device)"
   ]
  },
  {
   "cell_type": "markdown",
   "metadata": {},
   "source": [
    "### (Bonus: visualize the structure of your network)\n",
    "You can visualize your achitecture by using netron.app. Just execute the following cell (which will save the network to a file called \"mnist_network.pt\" in this directory), then download the produced `mnist_network.pt` to your computer. Finally, go to [Netron.app](https://netron.app) and click on `Open Model`, and select the file you just downloaded."
   ]
  },
  {
   "cell_type": "code",
   "execution_count": 24,
   "metadata": {},
   "outputs": [],
   "source": [
    "scripted = torch.jit.script(model)\n",
    "torch.jit.save(scripted, \"mnist_network.pt\")"
   ]
  },
  {
   "cell_type": "markdown",
   "metadata": {},
   "source": [
    "###  Specify [Loss Function](http://pytorch.org/docs/stable/nn.html#loss-functions) and [Optimizer](http://pytorch.org/docs/stable/optim.html)\n",
    "\n",
    "It's recommended that you use cross-entropy loss for classification. If you look at the documentation (linked above), you can see that PyTorch's cross entropy function applies a softmax funtion to the output layer *and* then calculates the log loss."
   ]
  },
  {
   "cell_type": "code",
   "execution_count": 9,
   "metadata": {},
   "outputs": [],
   "source": [
    "# specify loss function\n",
    "criterion = nn.CrossEntropyLoss()\n",
    "\n",
    "# specify optimizer\n",
    "optimizer = torch.optim.SGD(model.parameters(), lr=0.01, weight_decay=0.001)"
   ]
  },
  {
   "cell_type": "code",
   "execution_count": 10,
   "metadata": {
    "scrolled": false
   },
   "outputs": [
    {
     "name": "stderr",
     "output_type": "stream",
     "text": [
      "Training: 100%|███████████████████████████████| 480/480 [00:29<00:00, 16.20it/s]\n",
      "Validating: 100%|█████████████████████████████| 120/120 [00:03<00:00, 34.72it/s]"
     ]
    },
    {
     "name": "stdout",
     "output_type": "stream",
     "text": [
      "Epoch 1: training loss 1.41253, valid loss 0.63281\n"
     ]
    },
    {
     "name": "stderr",
     "output_type": "stream",
     "text": [
      "\n",
      "Training: 100%|███████████████████████████████| 480/480 [00:26<00:00, 18.42it/s]\n",
      "Validating: 100%|█████████████████████████████| 120/120 [00:04<00:00, 29.99it/s]"
     ]
    },
    {
     "name": "stdout",
     "output_type": "stream",
     "text": [
      "Epoch 2: training loss 0.48073, valid loss 0.41980\n"
     ]
    },
    {
     "name": "stderr",
     "output_type": "stream",
     "text": [
      "\n",
      "Training: 100%|███████████████████████████████| 480/480 [00:22<00:00, 21.19it/s]\n",
      "Validating: 100%|█████████████████████████████| 120/120 [00:04<00:00, 28.08it/s]"
     ]
    },
    {
     "name": "stdout",
     "output_type": "stream",
     "text": [
      "Epoch 3: training loss 0.37343, valid loss 0.36412\n"
     ]
    },
    {
     "name": "stderr",
     "output_type": "stream",
     "text": [
      "\n",
      "Training: 100%|███████████████████████████████| 480/480 [00:27<00:00, 17.57it/s]\n",
      "Validating: 100%|█████████████████████████████| 120/120 [00:03<00:00, 30.38it/s]"
     ]
    },
    {
     "name": "stdout",
     "output_type": "stream",
     "text": [
      "Epoch 4: training loss 0.33237, valid loss 0.33646\n"
     ]
    },
    {
     "name": "stderr",
     "output_type": "stream",
     "text": [
      "\n",
      "Training: 100%|███████████████████████████████| 480/480 [00:26<00:00, 17.93it/s]\n",
      "Validating: 100%|█████████████████████████████| 120/120 [00:04<00:00, 26.86it/s]"
     ]
    },
    {
     "name": "stdout",
     "output_type": "stream",
     "text": [
      "Epoch 5: training loss 0.30742, valid loss 0.31686\n"
     ]
    },
    {
     "name": "stderr",
     "output_type": "stream",
     "text": [
      "\n",
      "Training: 100%|███████████████████████████████| 480/480 [00:28<00:00, 16.63it/s]\n",
      "Validating: 100%|█████████████████████████████| 120/120 [00:03<00:00, 31.38it/s]"
     ]
    },
    {
     "name": "stdout",
     "output_type": "stream",
     "text": [
      "Epoch 6: training loss 0.28886, valid loss 0.30354\n"
     ]
    },
    {
     "name": "stderr",
     "output_type": "stream",
     "text": [
      "\n",
      "Training: 100%|███████████████████████████████| 480/480 [00:27<00:00, 17.69it/s]\n",
      "Validating: 100%|█████████████████████████████| 120/120 [00:04<00:00, 27.90it/s]\n"
     ]
    },
    {
     "name": "stdout",
     "output_type": "stream",
     "text": [
      "Epoch 7: training loss 0.27314, valid loss 0.28725\n"
     ]
    },
    {
     "name": "stderr",
     "output_type": "stream",
     "text": [
      "Training: 100%|███████████████████████████████| 480/480 [00:31<00:00, 15.40it/s]\n",
      "Validating: 100%|█████████████████████████████| 120/120 [00:04<00:00, 29.48it/s]"
     ]
    },
    {
     "name": "stdout",
     "output_type": "stream",
     "text": [
      "Epoch 8: training loss 0.25852, valid loss 0.27555\n"
     ]
    },
    {
     "name": "stderr",
     "output_type": "stream",
     "text": [
      "\n",
      "Training: 100%|███████████████████████████████| 480/480 [00:28<00:00, 17.12it/s]\n",
      "Validating: 100%|█████████████████████████████| 120/120 [00:03<00:00, 31.13it/s]"
     ]
    },
    {
     "name": "stdout",
     "output_type": "stream",
     "text": [
      "Epoch 9: training loss 0.24580, valid loss 0.26189\n"
     ]
    },
    {
     "name": "stderr",
     "output_type": "stream",
     "text": [
      "\n",
      "Training: 100%|███████████████████████████████| 480/480 [00:26<00:00, 18.06it/s]\n",
      "Validating: 100%|█████████████████████████████| 120/120 [00:03<00:00, 32.10it/s]"
     ]
    },
    {
     "name": "stdout",
     "output_type": "stream",
     "text": [
      "Epoch 10: training loss 0.23325, valid loss 0.25027\n"
     ]
    },
    {
     "name": "stderr",
     "output_type": "stream",
     "text": [
      "\n",
      "Training: 100%|███████████████████████████████| 480/480 [00:21<00:00, 22.04it/s]\n",
      "Validating: 100%|█████████████████████████████| 120/120 [00:03<00:00, 34.10it/s]"
     ]
    },
    {
     "name": "stdout",
     "output_type": "stream",
     "text": [
      "Epoch 11: training loss 0.22150, valid loss 0.23789\n"
     ]
    },
    {
     "name": "stderr",
     "output_type": "stream",
     "text": [
      "\n",
      "Training: 100%|███████████████████████████████| 480/480 [00:27<00:00, 17.64it/s]\n",
      "Validating: 100%|█████████████████████████████| 120/120 [00:03<00:00, 32.71it/s]"
     ]
    },
    {
     "name": "stdout",
     "output_type": "stream",
     "text": [
      "Epoch 12: training loss 0.21115, valid loss 0.23247\n"
     ]
    },
    {
     "name": "stderr",
     "output_type": "stream",
     "text": [
      "\n",
      "Training: 100%|███████████████████████████████| 480/480 [00:24<00:00, 19.74it/s]\n",
      "Validating: 100%|█████████████████████████████| 120/120 [00:03<00:00, 31.76it/s]"
     ]
    },
    {
     "name": "stdout",
     "output_type": "stream",
     "text": [
      "Epoch 13: training loss 0.20109, valid loss 0.22076\n"
     ]
    },
    {
     "name": "stderr",
     "output_type": "stream",
     "text": [
      "\n",
      "Training: 100%|███████████████████████████████| 480/480 [00:25<00:00, 18.63it/s]\n",
      "Validating: 100%|█████████████████████████████| 120/120 [00:03<00:00, 38.32it/s]"
     ]
    },
    {
     "name": "stdout",
     "output_type": "stream",
     "text": [
      "Epoch 14: training loss 0.19219, valid loss 0.21310\n"
     ]
    },
    {
     "name": "stderr",
     "output_type": "stream",
     "text": [
      "\n",
      "Training: 100%|███████████████████████████████| 480/480 [00:23<00:00, 20.71it/s]\n",
      "Validating: 100%|█████████████████████████████| 120/120 [00:04<00:00, 29.54it/s]"
     ]
    },
    {
     "name": "stdout",
     "output_type": "stream",
     "text": [
      "Epoch 15: training loss 0.18363, valid loss 0.20385\n"
     ]
    },
    {
     "name": "stderr",
     "output_type": "stream",
     "text": [
      "\n",
      "Training: 100%|███████████████████████████████| 480/480 [00:27<00:00, 17.70it/s]\n",
      "Validating: 100%|█████████████████████████████| 120/120 [00:03<00:00, 39.81it/s]"
     ]
    },
    {
     "name": "stdout",
     "output_type": "stream",
     "text": [
      "Epoch 16: training loss 0.17567, valid loss 0.19833\n"
     ]
    },
    {
     "name": "stderr",
     "output_type": "stream",
     "text": [
      "\n",
      "Training: 100%|███████████████████████████████| 480/480 [00:25<00:00, 18.76it/s]\n",
      "Validating: 100%|█████████████████████████████| 120/120 [00:03<00:00, 35.90it/s]"
     ]
    },
    {
     "name": "stdout",
     "output_type": "stream",
     "text": [
      "Epoch 17: training loss 0.16801, valid loss 0.19239\n"
     ]
    },
    {
     "name": "stderr",
     "output_type": "stream",
     "text": [
      "\n",
      "Training: 100%|███████████████████████████████| 480/480 [00:22<00:00, 21.06it/s]\n",
      "Validating: 100%|█████████████████████████████| 120/120 [00:03<00:00, 35.24it/s]"
     ]
    },
    {
     "name": "stdout",
     "output_type": "stream",
     "text": [
      "Epoch 18: training loss 0.16133, valid loss 0.18899\n"
     ]
    },
    {
     "name": "stderr",
     "output_type": "stream",
     "text": [
      "\n",
      "Training: 100%|███████████████████████████████| 480/480 [00:21<00:00, 22.41it/s]\n",
      "Validating: 100%|█████████████████████████████| 120/120 [00:03<00:00, 33.62it/s]"
     ]
    },
    {
     "name": "stdout",
     "output_type": "stream",
     "text": [
      "Epoch 19: training loss 0.15453, valid loss 0.18035\n"
     ]
    },
    {
     "name": "stderr",
     "output_type": "stream",
     "text": [
      "\n",
      "Training: 100%|███████████████████████████████| 480/480 [00:26<00:00, 18.22it/s]\n",
      "Validating: 100%|█████████████████████████████| 120/120 [00:03<00:00, 33.55it/s]"
     ]
    },
    {
     "name": "stdout",
     "output_type": "stream",
     "text": [
      "Epoch 20: training loss 0.14851, valid loss 0.17609\n"
     ]
    },
    {
     "name": "stderr",
     "output_type": "stream",
     "text": [
      "\n",
      "Training: 100%|███████████████████████████████| 480/480 [00:22<00:00, 21.30it/s]\n",
      "Validating: 100%|█████████████████████████████| 120/120 [00:04<00:00, 29.85it/s]"
     ]
    },
    {
     "name": "stdout",
     "output_type": "stream",
     "text": [
      "Epoch 21: training loss 0.14293, valid loss 0.17090\n"
     ]
    },
    {
     "name": "stderr",
     "output_type": "stream",
     "text": [
      "\n",
      "Training: 100%|███████████████████████████████| 480/480 [00:25<00:00, 18.69it/s]\n",
      "Validating: 100%|█████████████████████████████| 120/120 [00:04<00:00, 25.64it/s]"
     ]
    },
    {
     "name": "stdout",
     "output_type": "stream",
     "text": [
      "Epoch 22: training loss 0.13768, valid loss 0.16565\n"
     ]
    },
    {
     "name": "stderr",
     "output_type": "stream",
     "text": [
      "\n",
      "Training: 100%|███████████████████████████████| 480/480 [00:26<00:00, 18.14it/s]\n",
      "Validating: 100%|█████████████████████████████| 120/120 [00:03<00:00, 39.76it/s]"
     ]
    },
    {
     "name": "stdout",
     "output_type": "stream",
     "text": [
      "Epoch 23: training loss 0.13263, valid loss 0.16152\n"
     ]
    },
    {
     "name": "stderr",
     "output_type": "stream",
     "text": [
      "\n",
      "Training: 100%|███████████████████████████████| 480/480 [00:21<00:00, 22.42it/s]\n",
      "Validating: 100%|█████████████████████████████| 120/120 [00:03<00:00, 38.32it/s]"
     ]
    },
    {
     "name": "stdout",
     "output_type": "stream",
     "text": [
      "Epoch 24: training loss 0.12824, valid loss 0.15815\n"
     ]
    },
    {
     "name": "stderr",
     "output_type": "stream",
     "text": [
      "\n",
      "Training: 100%|███████████████████████████████| 480/480 [00:25<00:00, 19.16it/s]\n",
      "Validating: 100%|█████████████████████████████| 120/120 [00:03<00:00, 31.55it/s]"
     ]
    },
    {
     "name": "stdout",
     "output_type": "stream",
     "text": [
      "Epoch 25: training loss 0.12422, valid loss 0.15632\n"
     ]
    },
    {
     "name": "stderr",
     "output_type": "stream",
     "text": [
      "\n",
      "Training: 100%|███████████████████████████████| 480/480 [00:25<00:00, 18.95it/s]\n",
      "Validating: 100%|█████████████████████████████| 120/120 [00:03<00:00, 31.07it/s]"
     ]
    },
    {
     "name": "stdout",
     "output_type": "stream",
     "text": [
      "Epoch 26: training loss 0.11956, valid loss 0.15110\n"
     ]
    },
    {
     "name": "stderr",
     "output_type": "stream",
     "text": [
      "\n",
      "Training: 100%|███████████████████████████████| 480/480 [00:27<00:00, 17.68it/s]\n",
      "Validating: 100%|█████████████████████████████| 120/120 [00:04<00:00, 24.43it/s]"
     ]
    },
    {
     "name": "stdout",
     "output_type": "stream",
     "text": [
      "Epoch 27: training loss 0.11596, valid loss 0.14754\n"
     ]
    },
    {
     "name": "stderr",
     "output_type": "stream",
     "text": [
      "\n",
      "Training: 100%|███████████████████████████████| 480/480 [00:22<00:00, 20.91it/s]\n",
      "Validating: 100%|█████████████████████████████| 120/120 [00:03<00:00, 35.80it/s]"
     ]
    },
    {
     "name": "stdout",
     "output_type": "stream",
     "text": [
      "Epoch 28: training loss 0.11213, valid loss 0.14354\n"
     ]
    },
    {
     "name": "stderr",
     "output_type": "stream",
     "text": [
      "\n",
      "Training: 100%|███████████████████████████████| 480/480 [00:31<00:00, 15.44it/s]\n",
      "Validating: 100%|█████████████████████████████| 120/120 [00:04<00:00, 26.85it/s]"
     ]
    },
    {
     "name": "stdout",
     "output_type": "stream",
     "text": [
      "Epoch 29: training loss 0.10877, valid loss 0.13995\n"
     ]
    },
    {
     "name": "stderr",
     "output_type": "stream",
     "text": [
      "\n",
      "Training: 100%|███████████████████████████████| 480/480 [00:34<00:00, 13.73it/s]\n",
      "Validating: 100%|█████████████████████████████| 120/120 [00:05<00:00, 21.34it/s]"
     ]
    },
    {
     "name": "stdout",
     "output_type": "stream",
     "text": [
      "Epoch 30: training loss 0.10561, valid loss 0.13743\n"
     ]
    },
    {
     "name": "stderr",
     "output_type": "stream",
     "text": [
      "\n",
      "Training: 100%|███████████████████████████████| 480/480 [00:24<00:00, 19.22it/s]\n",
      "Validating: 100%|█████████████████████████████| 120/120 [00:04<00:00, 27.86it/s]\n"
     ]
    },
    {
     "name": "stdout",
     "output_type": "stream",
     "text": [
      "Epoch 31: training loss 0.10234, valid loss 0.13630\n"
     ]
    },
    {
     "name": "stderr",
     "output_type": "stream",
     "text": [
      "Training: 100%|███████████████████████████████| 480/480 [00:23<00:00, 20.40it/s]\n",
      "Validating: 100%|█████████████████████████████| 120/120 [00:03<00:00, 36.03it/s]"
     ]
    },
    {
     "name": "stdout",
     "output_type": "stream",
     "text": [
      "Epoch 32: training loss 0.09941, valid loss 0.13569\n"
     ]
    },
    {
     "name": "stderr",
     "output_type": "stream",
     "text": [
      "\n",
      "Training: 100%|███████████████████████████████| 480/480 [00:22<00:00, 20.88it/s]\n",
      "Validating: 100%|█████████████████████████████| 120/120 [00:03<00:00, 32.02it/s]"
     ]
    },
    {
     "name": "stdout",
     "output_type": "stream",
     "text": [
      "Epoch 33: training loss 0.09666, valid loss 0.12911\n"
     ]
    },
    {
     "name": "stderr",
     "output_type": "stream",
     "text": [
      "\n",
      "Training: 100%|███████████████████████████████| 480/480 [00:24<00:00, 19.87it/s]\n",
      "Validating: 100%|█████████████████████████████| 120/120 [00:03<00:00, 34.75it/s]"
     ]
    },
    {
     "name": "stdout",
     "output_type": "stream",
     "text": [
      "Epoch 34: training loss 0.09390, valid loss 0.13102\n"
     ]
    },
    {
     "name": "stderr",
     "output_type": "stream",
     "text": [
      "\n",
      "Training: 100%|███████████████████████████████| 480/480 [00:24<00:00, 19.93it/s]\n",
      "Validating: 100%|█████████████████████████████| 120/120 [00:04<00:00, 29.62it/s]"
     ]
    },
    {
     "name": "stdout",
     "output_type": "stream",
     "text": [
      "Epoch 35: training loss 0.09106, valid loss 0.12694\n"
     ]
    },
    {
     "name": "stderr",
     "output_type": "stream",
     "text": [
      "\n",
      "Training: 100%|███████████████████████████████| 480/480 [00:22<00:00, 21.31it/s]\n",
      "Validating: 100%|█████████████████████████████| 120/120 [00:03<00:00, 32.42it/s]"
     ]
    },
    {
     "name": "stdout",
     "output_type": "stream",
     "text": [
      "Epoch 36: training loss 0.08902, valid loss 0.12701\n"
     ]
    },
    {
     "name": "stderr",
     "output_type": "stream",
     "text": [
      "\n",
      "Training: 100%|███████████████████████████████| 480/480 [00:22<00:00, 21.52it/s]\n",
      "Validating: 100%|█████████████████████████████| 120/120 [00:03<00:00, 31.99it/s]"
     ]
    },
    {
     "name": "stdout",
     "output_type": "stream",
     "text": [
      "Epoch 37: training loss 0.08632, valid loss 0.12233\n"
     ]
    },
    {
     "name": "stderr",
     "output_type": "stream",
     "text": [
      "\n",
      "Training: 100%|███████████████████████████████| 480/480 [00:23<00:00, 20.57it/s]\n",
      "Validating: 100%|█████████████████████████████| 120/120 [00:04<00:00, 24.59it/s]"
     ]
    },
    {
     "name": "stdout",
     "output_type": "stream",
     "text": [
      "Epoch 38: training loss 0.08404, valid loss 0.12247\n"
     ]
    },
    {
     "name": "stderr",
     "output_type": "stream",
     "text": [
      "\n",
      "Training: 100%|███████████████████████████████| 480/480 [00:23<00:00, 20.44it/s]\n",
      "Validating: 100%|█████████████████████████████| 120/120 [00:03<00:00, 31.52it/s]"
     ]
    },
    {
     "name": "stdout",
     "output_type": "stream",
     "text": [
      "Epoch 39: training loss 0.08220, valid loss 0.11799\n"
     ]
    },
    {
     "name": "stderr",
     "output_type": "stream",
     "text": [
      "\n",
      "Training: 100%|███████████████████████████████| 480/480 [00:25<00:00, 18.71it/s]\n",
      "Validating: 100%|█████████████████████████████| 120/120 [00:04<00:00, 24.07it/s]"
     ]
    },
    {
     "name": "stdout",
     "output_type": "stream",
     "text": [
      "Epoch 40: training loss 0.07995, valid loss 0.11966\n"
     ]
    },
    {
     "name": "stderr",
     "output_type": "stream",
     "text": [
      "\n",
      "Training: 100%|███████████████████████████████| 480/480 [00:30<00:00, 15.58it/s]\n",
      "Validating: 100%|█████████████████████████████| 120/120 [00:05<00:00, 20.17it/s]"
     ]
    },
    {
     "name": "stdout",
     "output_type": "stream",
     "text": [
      "Epoch 41: training loss 0.07820, valid loss 0.11601\n"
     ]
    },
    {
     "name": "stderr",
     "output_type": "stream",
     "text": [
      "\n",
      "Training: 100%|███████████████████████████████| 480/480 [00:27<00:00, 17.42it/s]\n",
      "Validating: 100%|█████████████████████████████| 120/120 [00:04<00:00, 27.60it/s]"
     ]
    },
    {
     "name": "stdout",
     "output_type": "stream",
     "text": [
      "Epoch 42: training loss 0.07595, valid loss 0.11382\n"
     ]
    },
    {
     "name": "stderr",
     "output_type": "stream",
     "text": [
      "\n",
      "Training: 100%|███████████████████████████████| 480/480 [00:27<00:00, 17.46it/s]\n",
      "Validating: 100%|█████████████████████████████| 120/120 [00:03<00:00, 36.59it/s]"
     ]
    },
    {
     "name": "stdout",
     "output_type": "stream",
     "text": [
      "Epoch 43: training loss 0.07437, valid loss 0.11291\n"
     ]
    },
    {
     "name": "stderr",
     "output_type": "stream",
     "text": [
      "\n",
      "Training: 100%|███████████████████████████████| 480/480 [00:26<00:00, 18.44it/s]\n",
      "Validating: 100%|█████████████████████████████| 120/120 [00:03<00:00, 34.16it/s]"
     ]
    },
    {
     "name": "stdout",
     "output_type": "stream",
     "text": [
      "Epoch 44: training loss 0.07250, valid loss 0.11156\n"
     ]
    },
    {
     "name": "stderr",
     "output_type": "stream",
     "text": [
      "\n",
      "Training: 100%|███████████████████████████████| 480/480 [00:25<00:00, 18.88it/s]\n",
      "Validating: 100%|█████████████████████████████| 120/120 [00:03<00:00, 35.46it/s]"
     ]
    },
    {
     "name": "stdout",
     "output_type": "stream",
     "text": [
      "Epoch 45: training loss 0.07099, valid loss 0.10971\n"
     ]
    },
    {
     "name": "stderr",
     "output_type": "stream",
     "text": [
      "\n",
      "Training: 100%|███████████████████████████████| 480/480 [00:29<00:00, 16.04it/s]\n",
      "Validating: 100%|█████████████████████████████| 120/120 [00:04<00:00, 24.80it/s]"
     ]
    },
    {
     "name": "stdout",
     "output_type": "stream",
     "text": [
      "Epoch 46: training loss 0.06925, valid loss 0.11554\n"
     ]
    },
    {
     "name": "stderr",
     "output_type": "stream",
     "text": [
      "\n",
      "Training: 100%|███████████████████████████████| 480/480 [00:24<00:00, 19.98it/s]\n",
      "Validating: 100%|█████████████████████████████| 120/120 [00:03<00:00, 30.80it/s]"
     ]
    },
    {
     "name": "stdout",
     "output_type": "stream",
     "text": [
      "Epoch 47: training loss 0.06756, valid loss 0.10942\n"
     ]
    },
    {
     "name": "stderr",
     "output_type": "stream",
     "text": [
      "\n",
      "Training: 100%|███████████████████████████████| 480/480 [00:25<00:00, 19.08it/s]\n",
      "Validating: 100%|█████████████████████████████| 120/120 [00:03<00:00, 32.96it/s]"
     ]
    },
    {
     "name": "stdout",
     "output_type": "stream",
     "text": [
      "Epoch 48: training loss 0.06639, valid loss 0.10731\n"
     ]
    },
    {
     "name": "stderr",
     "output_type": "stream",
     "text": [
      "\n",
      "Training: 100%|███████████████████████████████| 480/480 [00:25<00:00, 19.00it/s]\n",
      "Validating: 100%|█████████████████████████████| 120/120 [00:03<00:00, 32.27it/s]"
     ]
    },
    {
     "name": "stdout",
     "output_type": "stream",
     "text": [
      "Epoch 49: training loss 0.06481, valid loss 0.10855\n"
     ]
    },
    {
     "name": "stderr",
     "output_type": "stream",
     "text": [
      "\n",
      "Training: 100%|███████████████████████████████| 480/480 [00:28<00:00, 16.58it/s]\n",
      "Validating: 100%|█████████████████████████████| 120/120 [00:04<00:00, 26.98it/s]"
     ]
    },
    {
     "name": "stdout",
     "output_type": "stream",
     "text": [
      "Epoch 50: training loss 0.06336, valid loss 0.10797\n"
     ]
    },
    {
     "name": "stderr",
     "output_type": "stream",
     "text": [
      "\n"
     ]
    }
   ],
   "source": [
    "# number of epochs to train the model\n",
    "n_epochs = 50  # suggest training between 20-50 epochs\n",
    "\n",
    "model.train() # prep model for training\n",
    "\n",
    "for epoch in range(n_epochs):\n",
    "    # monitor training loss\n",
    "    train_loss = 0.0\n",
    "    \n",
    "    ###################\n",
    "    # train the model #\n",
    "    ###################\n",
    "    for batch_idx, (data, target) in tqdm(\n",
    "            enumerate(train_loader),\n",
    "            desc=\"Training\",\n",
    "            total=len(train_loader),\n",
    "            leave=True,\n",
    "            ncols=80,\n",
    "        ):\n",
    "        # clear the gradients of all optimized variables\n",
    "        optimizer.zero_grad()\n",
    "        # forward pass: compute predicted outputs by passing inputs to the model\n",
    "        output = model(data)\n",
    "        # calculate the loss\n",
    "        loss = criterion(output, target)\n",
    "        # backward pass: compute gradient of the loss with respect to model parameters\n",
    "        loss.backward()\n",
    "        # perform a single optimization step (parameter update)\n",
    "        optimizer.step()\n",
    "        # update running training loss\n",
    "        train_loss += loss.item()*data.size(0)\n",
    "        \n",
    "    # print training statistics \n",
    "    # calculate average loss over an epoch\n",
    "    train_loss = train_loss/len(train_loader.dataset)\n",
    "    \n",
    "    # Validate\n",
    "    with torch.no_grad():\n",
    "\n",
    "        # set the model to evaluation mode\n",
    "        model.eval()\n",
    "\n",
    "        valid_loss = 0.0\n",
    "        for batch_idx, (data, target) in tqdm(\n",
    "            enumerate(val_loader),\n",
    "            desc=\"Validating\",\n",
    "            total=len(val_loader),\n",
    "            leave=True,\n",
    "            ncols=80,\n",
    "        ):\n",
    "\n",
    "            # 1. forward pass: compute predicted outputs by passing inputs to the model\n",
    "            output = model(data)  # =\n",
    "            # 2. calculate the loss\n",
    "            loss_value = criterion(output, target)  # =\n",
    "\n",
    "            # Calculate average validation loss\n",
    "            valid_loss = valid_loss + (\n",
    "                (1 / (batch_idx + 1)) * (loss_value.data.item() - valid_loss)\n",
    "            )\n",
    "    \n",
    "    print(f\"Epoch {epoch+1}: training loss {train_loss:.5f}, valid loss {valid_loss:.5f}\")"
   ]
  },
  {
   "cell_type": "markdown",
   "metadata": {},
   "source": [
    "### Test the Trained Network\n",
    "\n",
    "Finally, we test our best model on previously unseen **test data** and evaluate it's performance. Testing on unseen data is a good way to check that our model generalizes well. It may also be useful to be granular in this analysis and take a look at how this model performs on each class as well as looking at its overall loss and accuracy."
   ]
  },
  {
   "cell_type": "code",
   "execution_count": 11,
   "metadata": {},
   "outputs": [
    {
     "name": "stderr",
     "output_type": "stream",
     "text": [
      "Testing: 100%|████████████████████████████████| 100/100 [00:06<00:00, 15.47it/s]"
     ]
    },
    {
     "name": "stdout",
     "output_type": "stream",
     "text": [
      "Test Loss: 0.091163\n",
      "\n",
      "Test Accuracy of 0: 98.16%% (962/980)\n",
      "Test Accuracy of 1: 98.85%% (1122/1135)\n",
      "Test Accuracy of 2: 97.38%% (1005/1032)\n",
      "Test Accuracy of 3: 97.03%% (980/1010)\n",
      "Test Accuracy of 4: 98.07%% (963/982)\n",
      "Test Accuracy of 5: 96.52%% (861/892)\n",
      "Test Accuracy of 6: 96.87%% (928/958)\n",
      "Test Accuracy of 7: 95.62%% (983/1028)\n",
      "Test Accuracy of 8: 98.05%% (955/974)\n",
      "Test Accuracy of 9: 94.35%% (952/1009)\n",
      "\n",
      "Test Accuracy (Overall): 97.11%% (9711/10000)\n"
     ]
    },
    {
     "name": "stderr",
     "output_type": "stream",
     "text": [
      "\n"
     ]
    }
   ],
   "source": [
    "# initialize lists to monitor test loss and accuracy\n",
    "test_loss = 0.0\n",
    "class_correct = list(0.0 for i in range(10))\n",
    "class_total = list(0.0 for i in range(10))\n",
    "\n",
    "model.eval()  # prep model for *evaluation*\n",
    "\n",
    "for batch_idx, (data, target) in tqdm(\n",
    "    enumerate(test_loader),\n",
    "    desc=\"Testing\",\n",
    "    total=len(test_loader),\n",
    "    leave=True,\n",
    "    ncols=80,\n",
    "):\n",
    "    # forward pass: compute predicted outputs by passing inputs to the model\n",
    "    output = model(data)\n",
    "    # calculate the loss\n",
    "    loss = criterion(output, target)\n",
    "    # update test loss\n",
    "    test_loss += loss.item() * data.size(0)\n",
    "    # convert output probabilities to predicted class\n",
    "    _, pred = torch.max(output, 1)\n",
    "    # compare predictions to true label\n",
    "    correct = np.squeeze(pred.eq(target.data.view_as(pred)))\n",
    "    # calculate test accuracy for each object class\n",
    "    for i in range(data.shape[0]):\n",
    "        label = target.data[i]\n",
    "        class_correct[label] += correct[i].item()\n",
    "        class_total[label] += 1\n",
    "\n",
    "# calculate and print avg test loss\n",
    "test_loss = test_loss / len(test_loader.dataset)\n",
    "print(f\"Test Loss: {test_loss:.6f}\\n\")\n",
    "\n",
    "for i in range(10):\n",
    "    if class_total[i] > 0:\n",
    "        print(\n",
    "            f\"Test Accuracy of {i}: {100 * class_correct[i] / class_total[i]:.2f}%% \"\n",
    "            f\"({int(np.sum(class_correct[i]))}/{int(np.sum(class_total[i]))})\"\n",
    "        )\n",
    "    else:\n",
    "        print(f\"Test Accuracy of {classes[i]}: N/A (no training examples)\")\n",
    "\n",
    "print(\n",
    "    f\"\\nTest Accuracy (Overall): {100.0 * np.sum(class_correct) / np.sum(class_total)}%% \"\n",
    "    f\"({int(np.sum(class_correct))}/{int(np.sum(class_total))})\"\n",
    ")"
   ]
  },
  {
   "cell_type": "markdown",
   "metadata": {},
   "source": [
    "### Visualize Sample Test Results\n",
    "\n",
    "This cell displays test images and their labels in this format: `predicted (ground-truth)`. The text will be green for accurately classified examples and red for incorrect predictions."
   ]
  },
  {
   "cell_type": "code",
   "execution_count": 12,
   "metadata": {},
   "outputs": [
    {
     "data": {
      "image/png": "[encoded data removed]",
      "text/plain": [
       "<Figure size 1800x288 with 20 Axes>"
      ]
     },
     "metadata": {
      "needs_background": "light"
     },
     "output_type": "display_data"
    }
   ],
   "source": [
    "# obtain one batch of test images\n",
    "dataiter = iter(test_loader)\n",
    "images, labels = dataiter.next()\n",
    "\n",
    "# get sample outputs\n",
    "output = model(images)\n",
    "# convert output probabilities to predicted class\n",
    "_, preds = torch.max(output, 1)\n",
    "# prep images for display\n",
    "images = images.numpy()\n",
    "\n",
    "# plot the images in the batch, along with predicted and true labels\n",
    "fig, subs = plt.subplots(2, 10, figsize=(25, 4))\n",
    "for idx, sub in zip(range(20), subs.flatten()):\n",
    "    sub.imshow(np.squeeze(images[idx]), cmap='gray')\n",
    "    sub.set_title(f\"{str(preds[idx].item())} ({str(labels[idx].item())})\",\n",
    "                 color=(\"green\" if preds[idx]==labels[idx] else \"red\"))\n",
    "    sub.axis(\"off\")"
   ]
  },
  {
   "cell_type": "markdown",
   "metadata": {},
   "source": [
    "## Saving your model\n",
    "Using `torch.save`, save your model for future loading."
   ]
  },
  {
   "cell_type": "code",
   "execution_count": 13,
   "metadata": {},
   "outputs": [],
   "source": [
    "## YOUR CODE HERE ##\n",
    "torch.save(model,'MNIST_model_dropout')"
   ]
  },
  {
   "cell_type": "code",
   "execution_count": null,
   "metadata": {},
   "outputs": [],
   "source": []
  }
 ],
 "metadata": {
  "kernelspec": {
   "display_name": "Python 3 (ipykernel)",
   "language": "python",
   "name": "python3"
  },
  "language_info": {
   "codemirror_mode": {
    "name": "ipython",
    "version": 3
   },
   "file_extension": ".py",
   "mimetype": "text/x-python",
   "name": "python",
   "nbconvert_exporter": "python",
   "pygments_lexer": "ipython3",
   "version": "3.7.13"
  }
 },
 "nbformat": 4,
 "nbformat_minor": 4
}
