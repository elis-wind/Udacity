{
 "cells": [
  {
   "cell_type": "code",
   "execution_count": 2,
   "metadata": {
    "edited": true,
    "gradable": true,
    "grader_id": "0o1swp2pkr7p",
    "udacity_user_query": ""
   },
   "outputs": [
    {
     "name": "stdout",
     "output_type": "stream",
     "text": [
      "2\n",
      "0.2\n",
      "None\n",
      "None\n"
     ]
    }
   ],
   "source": [
    "def smallest_positive(in_list):\n",
    "    # TODO: Define a control structure that finds the smallest positive\n",
    "    # number in in_list and returns the correct smallest number.\n",
    "    # Initialize the smallest_positive_number to None\n",
    "    smallest = None\n",
    "    \n",
    "    # Iterate through the elements in in_list\n",
    "    for num in in_list:\n",
    "        # Check if the current number is positive and smaller than the current smallest_positive_number\n",
    "        if num > 0 and (smallest is None or num < smallest):\n",
    "            smallest = num\n",
    "    \n",
    "    return smallest\n",
    "\n",
    "# Test cases\n",
    "print(smallest_positive([4, -6, 7, 2, -4, 10]))\n",
    "# Correct output: 2\n",
    "print(smallest_positive([.2, 5, 3, -.1, 7, 7, 6]))\n",
    "# Correct output: 0.2\n",
    "print(smallest_positive([-6, -9, -7]))\n",
    "# Correct output: None\n",
    "print(smallest_positive([]))\n",
    "# Correct output: None"
   ]
  },
  {
   "cell_type": "code",
   "execution_count": 3,
   "metadata": {
    "edited": true,
    "gradable": true,
    "grader_id": "1uckdldq249j",
    "udacity_user_query": ""
   },
   "outputs": [
    {
     "name": "stdout",
     "output_type": "stream",
     "text": [
      "['spring2020', 'fall2020']\n",
      "[]\n"
     ]
    }
   ],
   "source": [
    "# This exercise uses a data structure that stores course information.\n",
    "# The data structure format is:\n",
    "#    { <semester>: { <class>: { <property>: <value>, ... },\n",
    "#                                     ... },\n",
    "#      ... }\n",
    "courses = {\n",
    "    'spring2020': { 'cs101': {'name': 'Building a Search Engine',\n",
    "                           'teacher': 'Dave',\n",
    "                           'assistant': 'Peter C.'},\n",
    "                 'cs373': {'name': 'Programming a Robotic Car',\n",
    "                           'teacher': 'Sebastian',\n",
    "                           'assistant': 'Andy'}},\n",
    "    'fall2020': { 'cs101': {'name': 'Building a Search Engine',\n",
    "                           'teacher': 'Dave',\n",
    "                           'assistant': 'Sarah'},\n",
    "                 'cs212': {'name': 'The Design of Computer Programs',\n",
    "                           'teacher': 'Peter N.',\n",
    "                           'assistant': 'Andy',\n",
    "                           'prereq': 'cs101'},\n",
    "                 'cs253': {'name': 'Web Application Engineering - Building a Blog',\n",
    "                           'teacher': 'Steve',\n",
    "                           'prereq': 'cs101'},\n",
    "                 'cs262': {'name': 'Programming Languages - Building a Web Browser',\n",
    "                           'teacher': 'Wes',\n",
    "                           'assistant': 'Peter C.',\n",
    "                           'prereq': 'cs101'},\n",
    "                 'cs373': {'name': 'Programming a Robotic Car',\n",
    "                           'teacher': 'Sebastian'},\n",
    "                 'cs387': {'name': 'Applied Cryptography',\n",
    "                           'teacher': 'Dave'}},\n",
    "    'spring2044': { 'cs001': {'name': 'Building a Quantum Holodeck',\n",
    "                           'teacher': 'Dorina'},\n",
    "                        'cs003': {'name': 'Programming a Robotic Robotics Teacher',\n",
    "                           'teacher': 'Jasper'},\n",
    "                     }\n",
    "    }\n",
    "def when_offered(courses, course):\n",
    "    # TODO: Fill out the function here.\n",
    "    semesters = []\n",
    "    for semester in courses:\n",
    "        if course in courses[semester]:\n",
    "            semesters.append(semester)\n",
    "    # TODO: Return list of semesters here.\n",
    "    return semesters\n",
    "\n",
    "print(when_offered(courses, 'cs101'))\n",
    "# Correct result: \n",
    "# ['fall2020', 'spring2020']\n",
    "print(when_offered(courses, 'bio893'))\n",
    "# Correct result: \n",
    "# []"
   ]
  },
  {
   "cell_type": "code",
   "execution_count": null,
   "metadata": {},
   "outputs": [],
   "source": []
  }
 ],
 "metadata": {
  "grader_mode": "",
  "kernelspec": {
   "display_name": "Python 3 (ipykernel)",
   "language": "python",
   "name": "python3"
  },
  "language_info": {
   "codemirror_mode": {
    "name": "ipython",
    "version": 3
   },
   "file_extension": ".py",
   "mimetype": "text/x-python",
   "name": "python",
   "nbconvert_exporter": "python",
   "pygments_lexer": "ipython3",
   "version": "3.7.13"
  },
  "showGradeBtn": true
 },
 "nbformat": 4,
 "nbformat_minor": 2
}
