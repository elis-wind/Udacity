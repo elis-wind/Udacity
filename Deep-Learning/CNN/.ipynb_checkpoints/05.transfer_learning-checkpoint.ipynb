{
 "cells": [
  {
   "cell_type": "code",
   "execution_count": 2,
   "id": "ae1f33c8",
   "metadata": {
    "scrolled": false
   },
   "outputs": [],
   "source": [
    "#!pip install -r requirements.txt\n",
    "#!pip install livelossplot\n",
    "#!pip install timm"
   ]
  },
  {
   "cell_type": "markdown",
   "id": "5fac7a04",
   "metadata": {},
   "source": [
    "> **NOTE: Wait for the previous cell to complete, then restart the kernel before running the next cell. This ensures that the dependencies we have just installed will work. Otherwise you may receive an error when running imports in the next cell!**"
   ]
  },
  {
   "cell_type": "markdown",
   "id": "751a0de6",
   "metadata": {},
   "source": [
    "# Transfer learning\n",
    "\n",
    "In many real-world situations you will not want to train a whole convolutional network from scratch, unless you happen to have a very large dataset and a lot of compute resources. Training a modern CNN on a dataset like ImageNet takes days or weeks on multiple GPUs. Instead, in most cases you will be using Transfer Learning.\n",
    "\n",
    "<center><img src=\"notebook_ims/fine_tune_quadrants.png\" width=\"80%\"></center>\n",
    "\n",
    "In this notebook, you'll be modeling a small dataset of fewer than 5000 natural images. As the diagram above suggests, in a case like this you can use the pre-trained network as a feature extractor and substitute the head. Since 5000 is small but not very small, you can also try to squeeze some more performance by fine-tuning the rest of the network. You will need to use a learning rate small enough so you do not destroy the filters that the network has learned on ImageNet.\n",
    "\n",
    "In this exercise you will load a pre-trained ResNet model, remove the head, and substitute it with your own head. Then you will fix the feature extractor part and train the head. It is relatively easy to approach an accuracy of around 90% by using this transfer learning technique! Then you will fine-tune the rest of the network. Be careful in using a small learning rate! Experimentation usually is needed to find the right learning rate. Here we will use 1/100th of the initial learning rate. \n",
    "\n",
    "Let's start by importing a few modules and functions:"
   ]
  },
  {
   "cell_type": "code",
   "execution_count": 1,
   "id": "a9dd121d",
   "metadata": {},
   "outputs": [],
   "source": [
    "import torchvision.datasets\n",
    "import torchvision.transforms as T\n",
    "import torchvision.models\n",
    "import torch.optim\n",
    "from torch import nn\n",
    "from helpers import *\n",
    "import timm\n",
    "from lr_finder import lr_finder\n",
    "import glob\n",
    "import matplotlib.pyplot as plt"
   ]
  },
  {
   "cell_type": "markdown",
   "id": "8a2c478a",
   "metadata": {},
   "source": [
    "Now let's create the data loaders. \n",
    "\n",
    "When the dataset is small it is difficult to split the dataset 3 ways (train, validation and test) because you might not have enough data to train, validate or test. Instead, you can use k-fold cross validation: you divide the dataset in k parts, then you repeat the training k times, each time taking k-1 parts as your training dataset and the remaining k-th part as your validation. You record your metrics for each iteration, and then you use the average performance as your metric.\n",
    "\n",
    "To make things faster for this exercise we won't be doing k-fold cross-validation, but we will still only split the data in train and validation (in practice we will execute only one of the k training run for k-fold cross validation).\n",
    "\n",
    "For simplicity we provide the code in the `helpers.py` file, feel free to look into it to see how the data is loaded. Note that the first time the code will compute the mean and std of the dataset, to be used in the `Normalize` transform in the data loaders (see the code in `helpers.py` for details):"
   ]
  },
  {
   "cell_type": "code",
   "execution_count": 2,
   "id": "5528765b",
   "metadata": {},
   "outputs": [
    {
     "name": "stdout",
     "output_type": "stream",
     "text": [
      "Reusing cached mean and std\n",
      "Dataset mean: tensor([0.4640, 0.4231, 0.3033]), std: tensor([0.3023, 0.2729, 0.2970])\n",
      "Reusing cached mean and std\n"
     ]
    }
   ],
   "source": [
    "## Get the data: \n",
    "## https://s3.amazonaws.com/video.udacity-data.com/topher/2018/September/5baa60a0_flower-photos/flower-photos.zip\n",
    "data_loaders = get_data_loaders2(batch_size=32, rand_augment_magnitude=15)"
   ]
  },
  {
   "cell_type": "code",
   "execution_count": 3,
   "id": "781fecad",
   "metadata": {},
   "outputs": [],
   "source": [
    "classes = [\"daisy\", \"tulip\", \"dandelion\", \"sunflower\", \"rose\"]"
   ]
  },
  {
   "cell_type": "markdown",
   "id": "1d36fe8b",
   "metadata": {},
   "source": [
    "# Create the model and substitute the head\n",
    "Let's now load a pretrained model and substitute its head. Let's use a ResNet from `torchvision` and substitute it with a fully-connected layer (`Linear`) with the right input and output dimension:"
   ]
  },
  {
   "cell_type": "code",
   "execution_count": 4,
   "id": "b63be110",
   "metadata": {},
   "outputs": [
    {
     "name": "stderr",
     "output_type": "stream",
     "text": [
      "Downloading: \"https://download.pytorch.org/models/resnet50-0676ba61.pth\" to /home/natasha/.cache/torch/hub/checkpoints/resnet50-0676ba61.pth\n"
     ]
    },
    {
     "data": {
      "application/vnd.jupyter.widget-view+json": {
       "model_id": "771db2755802498bb952121ef4a92936",
       "version_major": 2,
       "version_minor": 0
      },
      "text/plain": [
       "  0%|          | 0.00/97.8M [00:00<?, ?B/s]"
      ]
     },
     "metadata": {},
     "output_type": "display_data"
    }
   ],
   "source": [
    "model = torchvision.models.resnet50(pretrained=True)\n",
    "\n",
    "n_classes = len(classes)\n",
    "n_inputs = model.fc.in_features\n",
    "\n",
    "# Feel free to experiment with more complicated heads\n",
    "model.fc = nn.Linear(n_inputs, n_classes)"
   ]
  },
  {
   "cell_type": "markdown",
   "id": "365d151f",
   "metadata": {},
   "source": [
    "We could have done the same by using TIMM:"
   ]
  },
  {
   "cell_type": "code",
   "execution_count": 5,
   "id": "cc076c03",
   "metadata": {},
   "outputs": [],
   "source": [
    "# We can also use TIMM to get a pre-trained model\n",
    "# model = timm.create_model(\"resnet18\", pretrained=True, num_classes=n_classes)"
   ]
  },
  {
   "cell_type": "markdown",
   "id": "d6586d22",
   "metadata": {},
   "source": [
    "## Freeze the backbone and thaw the head\n",
    "Now we need to freeze all layers except the one we just added. Let's keep track of the parameters we are freezing so we will be able to free them later:"
   ]
  },
  {
   "cell_type": "code",
   "execution_count": 6,
   "id": "7f15728d",
   "metadata": {},
   "outputs": [
    {
     "name": "stdout",
     "output_type": "stream",
     "text": [
      "Froze 161 groups of parameters\n"
     ]
    }
   ],
   "source": [
    "frozen_parameters = []\n",
    "\n",
    "for p in model.parameters():\n",
    "    # Freeze only parameters that are not already frozen\n",
    "    # (if any)\n",
    "    if p.requires_grad:\n",
    "        p.requires_grad = False\n",
    "        frozen_parameters.append(p)\n",
    "\n",
    "print(f\"Froze {len(frozen_parameters)} groups of parameters\")\n",
    "\n",
    "# Now let's thaw the parameters of the head we have\n",
    "# added\n",
    "for p in model.fc.parameters():\n",
    "    p.requires_grad = True"
   ]
  },
  {
   "cell_type": "markdown",
   "id": "e285d9ea",
   "metadata": {},
   "source": [
    "## Train\n",
    "Now we can train our model. We start with the usual learning rate finder:"
   ]
  },
  {
   "cell_type": "code",
   "execution_count": 7,
   "id": "b7c7e319",
   "metadata": {},
   "outputs": [],
   "source": [
    "loss = nn.CrossEntropyLoss()"
   ]
  },
  {
   "cell_type": "code",
   "execution_count": 10,
   "id": "af214085",
   "metadata": {},
   "outputs": [
    {
     "name": "stderr",
     "output_type": "stream",
     "text": [
      "Training: 100%|█████████████████████████████████| 79/79 [08:26<00:00,  6.41s/it]\n"
     ]
    }
   ],
   "source": [
    "losses = lr_finder(1e-5, 0.1, 100, loss, model, data_loaders)"
   ]
  },
  {
   "cell_type": "code",
   "execution_count": 11,
   "id": "a4c28f4f",
   "metadata": {},
   "outputs": [
    {
     "data": {
      "image/png": "[encoded data removed]",
      "text/plain": [
       "<Figure size 432x288 with 1 Axes>"
      ]
     },
     "metadata": {
      "needs_background": "light"
     },
     "output_type": "display_data"
    }
   ],
   "source": [
    "_ = plt.plot(losses.keys(), losses.values())\n",
    "_ = plt.xscale(\"log\")\n",
    "\n",
    "#You might need to adjust this to cover the right\n",
    "# portion of the y axis to better see the decrease\n",
    "# in the loss before it shoots up again\n",
    "_ = plt.ylim([1.57, 1.75])"
   ]
  },
  {
   "cell_type": "markdown",
   "id": "ab6dd1b1",
   "metadata": {},
   "source": [
    "Looks like a good learning rate is 0.005. Let's train first the head for a few epochs, to bring its weight (that right now are randomly initialized) to a place where they interact well with the feature extraction part:"
   ]
  },
  {
   "cell_type": "code",
   "execution_count": 12,
   "id": "fc32226e",
   "metadata": {},
   "outputs": [
    {
     "data": {
      "image/png": "[encoded data removed]",
      "text/plain": [
       "<Figure size 864x576 with 2 Axes>"
      ]
     },
     "metadata": {
      "needs_background": "light"
     },
     "output_type": "display_data"
    },
    {
     "name": "stdout",
     "output_type": "stream",
     "text": [
      "Loss\n",
      "\ttraining         \t (min:    0.446, max:    1.030, cur:    0.613)\n",
      "\tvalidation       \t (min:    0.248, max:    0.496, cur:    0.248)\n"
     ]
    }
   ],
   "source": [
    "n_epochs = 5\n",
    "lr = 0.005\n",
    "\n",
    "optimizer = torch.optim.Adam(model.parameters(), lr)\n",
    "\n",
    "optimize(\n",
    "    data_loaders, \n",
    "    model, \n",
    "    optimizer, \n",
    "    loss, \n",
    "    n_epochs, \n",
    "    'initial.pt', \n",
    "    interactive_tracking=True\n",
    ")"
   ]
  },
  {
   "cell_type": "code",
   "execution_count": 13,
   "id": "c9c795da",
   "metadata": {},
   "outputs": [
    {
     "name": "stderr",
     "output_type": "stream",
     "text": [
      "Testing: 100%|██████████████████████████████████| 20/20 [01:46<00:00,  5.33s/it]"
     ]
    },
    {
     "name": "stdout",
     "output_type": "stream",
     "text": [
      "Test Loss: 0.245162\n",
      "\n",
      "\n",
      "Test Accuracy: 91% (571/626)\n"
     ]
    },
    {
     "name": "stderr",
     "output_type": "stream",
     "text": [
      "\n"
     ]
    }
   ],
   "source": [
    "_ = one_epoch_test(data_loaders['valid'], model, loss)"
   ]
  },
  {
   "cell_type": "markdown",
   "id": "5adf7c48",
   "metadata": {},
   "source": [
    "# Fine-tune the model"
   ]
  },
  {
   "cell_type": "markdown",
   "id": "df795944",
   "metadata": {},
   "source": [
    "Just by training the new head for a few epochs we reached already a very good performance. Now let's unfreeze the parameters we have frozen before:"
   ]
  },
  {
   "cell_type": "code",
   "execution_count": 14,
   "id": "29294195",
   "metadata": {},
   "outputs": [],
   "source": [
    "# Thaw parameters we had frozen before\n",
    "for p in frozen_parameters:\n",
    "    p.requires_grad = True"
   ]
  },
  {
   "cell_type": "markdown",
   "id": "2137372b",
   "metadata": {},
   "source": [
    "and let's fine-tune the model. Note how we are using a learning rate that is much smaller than what we used before. This is to avoid getting large steps, that would destroy the advantage of using a pre-trained network:"
   ]
  },
  {
   "cell_type": "code",
   "execution_count": null,
   "id": "b20d7266",
   "metadata": {},
   "outputs": [],
   "source": [
    "n_epochs = 10\n",
    "lr = 0.005 / 100\n",
    "\n",
    "optimizer = torch.optim.Adam(model.parameters(), lr)\n",
    "\n",
    "\n",
    "optimize(\n",
    "    data_loaders,\n",
    "    model,\n",
    "    optimizer,\n",
    "    loss,\n",
    "    n_epochs,\n",
    "    \"best.pt\",\n",
    "    interactive_tracking=True,\n",
    ")"
   ]
  },
  {
   "cell_type": "code",
   "execution_count": 15,
   "id": "9b109fc0",
   "metadata": {
    "scrolled": true
   },
   "outputs": [
    {
     "name": "stderr",
     "output_type": "stream",
     "text": [
      "Testing: 100%|██████████████████████████████████| 27/27 [00:06<00:00,  4.11it/s]"
     ]
    },
    {
     "name": "stdout",
     "output_type": "stream",
     "text": [
      "Test Loss: 0.185599\n",
      "\n",
      "\n",
      "Test Accuracy: 95% (826/864)\n"
     ]
    },
    {
     "name": "stderr",
     "output_type": "stream",
     "text": [
      "\n"
     ]
    }
   ],
   "source": [
    "_ = one_epoch_test(data_loaders['valid'], model, loss)"
   ]
  },
  {
   "cell_type": "markdown",
   "id": "147d70d0",
   "metadata": {},
   "source": [
    "With fine-tuning we have significantly increased our performance to 95%! "
   ]
  },
  {
   "cell_type": "markdown",
   "id": "1a0ea86d",
   "metadata": {},
   "source": [
    "# Training from scratch"
   ]
  },
  {
   "cell_type": "markdown",
   "id": "f9626563",
   "metadata": {},
   "source": [
    "Now let's see what would happen if we train from scratch. \n",
    "\n",
    "The following code does just that. We have already executed it because it takes a long time. As you can see, despite training for 10x more epochs than when using transfer learning, our performance is significantly worse!\n",
    "\n",
    "Can you explain why?"
   ]
  },
  {
   "cell_type": "code",
   "execution_count": 5,
   "id": "18cc6c2a",
   "metadata": {},
   "outputs": [],
   "source": [
    "# Let's train from scratch\n",
    "model = torchvision.models.resnet50(pretrained=False)\n",
    "n_classes = len(classes)\n",
    "n_inputs = model.fc.in_features\n",
    "model.fc = nn.Linear(n_inputs, n_classes)"
   ]
  },
  {
   "cell_type": "code",
   "execution_count": 7,
   "id": "08247c06",
   "metadata": {},
   "outputs": [],
   "source": [
    "loss = nn.CrossEntropyLoss()"
   ]
  },
  {
   "cell_type": "code",
   "execution_count": 7,
   "id": "60a12a87",
   "metadata": {},
   "outputs": [],
   "source": [
    "losses = lr_finder(1e-5, 0.2, 100, loss, model, data_loaders)"
   ]
  },
  {
   "cell_type": "code",
   "execution_count": 9,
   "id": "64a38a8b",
   "metadata": {},
   "outputs": [
    {
     "data": {
      "image/png": "[encoded data removed]",
      "text/plain": [
       "<Figure size 432x288 with 1 Axes>"
      ]
     },
     "metadata": {
      "needs_background": "light"
     },
     "output_type": "display_data"
    }
   ],
   "source": [
    "_ = plt.plot(losses.keys(), losses.values())\n",
    "_ = plt.xscale(\"log\")\n",
    "_ = plt.ylim([1.63, 1.7])"
   ]
  },
  {
   "cell_type": "code",
   "execution_count": 10,
   "id": "f7157d80",
   "metadata": {},
   "outputs": [
    {
     "data": {
      "image/png": "[encoded data removed]",
      "text/plain": [
       "<Figure size 864x576 with 2 Axes>"
      ]
     },
     "metadata": {
      "needs_background": "light"
     },
     "output_type": "display_data"
    }
   ],
   "source": [
    "optimize(data_loaders, model, torch.optim.Adam(model.parameters(), 0.001), loss, 100, 'best_scratch.pt', interactive_tracking=True)"
   ]
  },
  {
   "cell_type": "code",
   "execution_count": 11,
   "id": "bddd2b75",
   "metadata": {},
   "outputs": [
    {
     "name": "stderr",
     "output_type": "stream",
     "text": [
      "Testing: 100%|██████████████████████████████████| 27/27 [00:08<00:00,  3.31it/s]"
     ]
    },
    {
     "name": "stdout",
     "output_type": "stream",
     "text": [
      "Test Loss: 0.384210\n",
      "\n",
      "\n",
      "Test Accuracy: 87% (752/864)\n"
     ]
    },
    {
     "name": "stderr",
     "output_type": "stream",
     "text": [
      "\n"
     ]
    }
   ],
   "source": [
    "_ = one_epoch_test(data_loaders['valid'], model, loss)"
   ]
  },
  {
   "cell_type": "code",
   "execution_count": null,
   "id": "9b23bcfb",
   "metadata": {},
   "outputs": [],
   "source": []
  }
 ],
 "metadata": {
  "kernelspec": {
   "display_name": "Python 3 (ipykernel)",
   "language": "python",
   "name": "python3"
  },
  "language_info": {
   "codemirror_mode": {
    "name": "ipython",
    "version": 3
   },
   "file_extension": ".py",
   "mimetype": "text/x-python",
   "name": "python",
   "nbconvert_exporter": "python",
   "pygments_lexer": "ipython3",
   "version": "3.7.13"
  },
  "widgets": {
   "application/vnd.jupyter.widget-state+json": {
    "state": {},
    "version_major": 2,
    "version_minor": 0
   }
  }
 },
 "nbformat": 4,
 "nbformat_minor": 5
}
