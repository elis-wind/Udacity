{
 "cells": [
  {
   "cell_type": "code",
   "execution_count": 1,
   "metadata": {},
   "outputs": [],
   "source": [
    "import pandas as pd\n",
    "import scipy.stats"
   ]
  },
  {
   "cell_type": "code",
   "execution_count": 2,
   "metadata": {},
   "outputs": [
    {
     "data": {
      "text/html": [
       "<div>\n",
       "<style scoped>\n",
       "    .dataframe tbody tr th:only-of-type {\n",
       "        vertical-align: middle;\n",
       "    }\n",
       "\n",
       "    .dataframe tbody tr th {\n",
       "        vertical-align: top;\n",
       "    }\n",
       "\n",
       "    .dataframe thead th {\n",
       "        text-align: right;\n",
       "    }\n",
       "</style>\n",
       "<table border=\"1\" class=\"dataframe\">\n",
       "  <thead>\n",
       "    <tr style=\"text-align: right;\">\n",
       "      <th></th>\n",
       "      <th>name</th>\n",
       "      <th>handedness</th>\n",
       "      <th>height</th>\n",
       "      <th>weight</th>\n",
       "      <th>avg</th>\n",
       "      <th>HR</th>\n",
       "    </tr>\n",
       "  </thead>\n",
       "  <tbody>\n",
       "    <tr>\n",
       "      <th>0</th>\n",
       "      <td>Brandon Hyde</td>\n",
       "      <td>R</td>\n",
       "      <td>75</td>\n",
       "      <td>210</td>\n",
       "      <td>0.000</td>\n",
       "      <td>0</td>\n",
       "    </tr>\n",
       "    <tr>\n",
       "      <th>1</th>\n",
       "      <td>Carey Selph</td>\n",
       "      <td>R</td>\n",
       "      <td>69</td>\n",
       "      <td>175</td>\n",
       "      <td>0.277</td>\n",
       "      <td>0</td>\n",
       "    </tr>\n",
       "    <tr>\n",
       "      <th>2</th>\n",
       "      <td>Philip Nastu</td>\n",
       "      <td>L</td>\n",
       "      <td>74</td>\n",
       "      <td>180</td>\n",
       "      <td>0.040</td>\n",
       "      <td>0</td>\n",
       "    </tr>\n",
       "    <tr>\n",
       "      <th>3</th>\n",
       "      <td>Kent Hrbek</td>\n",
       "      <td>L</td>\n",
       "      <td>76</td>\n",
       "      <td>200</td>\n",
       "      <td>0.282</td>\n",
       "      <td>293</td>\n",
       "    </tr>\n",
       "    <tr>\n",
       "      <th>4</th>\n",
       "      <td>Bill Risley</td>\n",
       "      <td>R</td>\n",
       "      <td>74</td>\n",
       "      <td>215</td>\n",
       "      <td>0.000</td>\n",
       "      <td>0</td>\n",
       "    </tr>\n",
       "    <tr>\n",
       "      <th>...</th>\n",
       "      <td>...</td>\n",
       "      <td>...</td>\n",
       "      <td>...</td>\n",
       "      <td>...</td>\n",
       "      <td>...</td>\n",
       "      <td>...</td>\n",
       "    </tr>\n",
       "    <tr>\n",
       "      <th>18172</th>\n",
       "      <td>Rob Nelson</td>\n",
       "      <td>L</td>\n",
       "      <td>76</td>\n",
       "      <td>215</td>\n",
       "      <td>0.178</td>\n",
       "      <td>4</td>\n",
       "    </tr>\n",
       "    <tr>\n",
       "      <th>18173</th>\n",
       "      <td>Roger Nelson</td>\n",
       "      <td>R</td>\n",
       "      <td>75</td>\n",
       "      <td>200</td>\n",
       "      <td>0.128</td>\n",
       "      <td>0</td>\n",
       "    </tr>\n",
       "    <tr>\n",
       "      <th>18174</th>\n",
       "      <td>Fred Luderus</td>\n",
       "      <td>L</td>\n",
       "      <td>71</td>\n",
       "      <td>185</td>\n",
       "      <td>0.277</td>\n",
       "      <td>84</td>\n",
       "    </tr>\n",
       "    <tr>\n",
       "      <th>18175</th>\n",
       "      <td>Ed Glenn</td>\n",
       "      <td>R</td>\n",
       "      <td>70</td>\n",
       "      <td>160</td>\n",
       "      <td>0.202</td>\n",
       "      <td>1</td>\n",
       "    </tr>\n",
       "    <tr>\n",
       "      <th>18176</th>\n",
       "      <td>Ed Glenn</td>\n",
       "      <td>R</td>\n",
       "      <td></td>\n",
       "      <td></td>\n",
       "      <td>0.067</td>\n",
       "      <td>0</td>\n",
       "    </tr>\n",
       "  </tbody>\n",
       "</table>\n",
       "<p>18177 rows × 6 columns</p>\n",
       "</div>"
      ],
      "text/plain": [
       "               name handedness height weight    avg   HR\n",
       "0      Brandon Hyde          R     75    210  0.000    0\n",
       "1       Carey Selph          R     69    175  0.277    0\n",
       "2      Philip Nastu          L     74    180  0.040    0\n",
       "3        Kent Hrbek          L     76    200  0.282  293\n",
       "4       Bill Risley          R     74    215  0.000    0\n",
       "...             ...        ...    ...    ...    ...  ...\n",
       "18172    Rob Nelson          L     76    215  0.178    4\n",
       "18173  Roger Nelson          R     75    200  0.128    0\n",
       "18174  Fred Luderus          L     71    185  0.277   84\n",
       "18175      Ed Glenn          R     70    160  0.202    1\n",
       "18176      Ed Glenn          R                0.067    0\n",
       "\n",
       "[18177 rows x 6 columns]"
      ]
     },
     "execution_count": 2,
     "metadata": {},
     "output_type": "execute_result"
    }
   ],
   "source": [
    "data = pd.read_csv(\"baseball_stats.csv\")\n",
    "data"
   ]
  },
  {
   "cell_type": "code",
   "execution_count": 3,
   "metadata": {},
   "outputs": [
    {
     "data": {
      "text/html": [
       "<div>\n",
       "<style scoped>\n",
       "    .dataframe tbody tr th:only-of-type {\n",
       "        vertical-align: middle;\n",
       "    }\n",
       "\n",
       "    .dataframe tbody tr th {\n",
       "        vertical-align: top;\n",
       "    }\n",
       "\n",
       "    .dataframe thead th {\n",
       "        text-align: right;\n",
       "    }\n",
       "</style>\n",
       "<table border=\"1\" class=\"dataframe\">\n",
       "  <thead>\n",
       "    <tr style=\"text-align: right;\">\n",
       "      <th></th>\n",
       "      <th>name</th>\n",
       "      <th>handedness</th>\n",
       "      <th>height</th>\n",
       "      <th>weight</th>\n",
       "      <th>avg</th>\n",
       "      <th>HR</th>\n",
       "    </tr>\n",
       "  </thead>\n",
       "  <tbody>\n",
       "    <tr>\n",
       "      <th>0</th>\n",
       "      <td>Brandon Hyde</td>\n",
       "      <td>R</td>\n",
       "      <td>75</td>\n",
       "      <td>210</td>\n",
       "      <td>0.000</td>\n",
       "      <td>0</td>\n",
       "    </tr>\n",
       "    <tr>\n",
       "      <th>1</th>\n",
       "      <td>Carey Selph</td>\n",
       "      <td>R</td>\n",
       "      <td>69</td>\n",
       "      <td>175</td>\n",
       "      <td>0.277</td>\n",
       "      <td>0</td>\n",
       "    </tr>\n",
       "    <tr>\n",
       "      <th>4</th>\n",
       "      <td>Bill Risley</td>\n",
       "      <td>R</td>\n",
       "      <td>74</td>\n",
       "      <td>215</td>\n",
       "      <td>0.000</td>\n",
       "      <td>0</td>\n",
       "    </tr>\n",
       "    <tr>\n",
       "      <th>6</th>\n",
       "      <td>Steve Gajkowski</td>\n",
       "      <td>R</td>\n",
       "      <td>74</td>\n",
       "      <td>200</td>\n",
       "      <td>0.000</td>\n",
       "      <td>0</td>\n",
       "    </tr>\n",
       "    <tr>\n",
       "      <th>7</th>\n",
       "      <td>Rick Schu</td>\n",
       "      <td>R</td>\n",
       "      <td>72</td>\n",
       "      <td>170</td>\n",
       "      <td>0.246</td>\n",
       "      <td>41</td>\n",
       "    </tr>\n",
       "    <tr>\n",
       "      <th>...</th>\n",
       "      <td>...</td>\n",
       "      <td>...</td>\n",
       "      <td>...</td>\n",
       "      <td>...</td>\n",
       "      <td>...</td>\n",
       "      <td>...</td>\n",
       "    </tr>\n",
       "    <tr>\n",
       "      <th>18170</th>\n",
       "      <td>Aurelio Lopez</td>\n",
       "      <td>R</td>\n",
       "      <td>72</td>\n",
       "      <td>185</td>\n",
       "      <td>0.125</td>\n",
       "      <td>0</td>\n",
       "    </tr>\n",
       "    <tr>\n",
       "      <th>18171</th>\n",
       "      <td>Jesse Hill</td>\n",
       "      <td>R</td>\n",
       "      <td>69</td>\n",
       "      <td>165</td>\n",
       "      <td>0.289</td>\n",
       "      <td>6</td>\n",
       "    </tr>\n",
       "    <tr>\n",
       "      <th>18173</th>\n",
       "      <td>Roger Nelson</td>\n",
       "      <td>R</td>\n",
       "      <td>75</td>\n",
       "      <td>200</td>\n",
       "      <td>0.128</td>\n",
       "      <td>0</td>\n",
       "    </tr>\n",
       "    <tr>\n",
       "      <th>18175</th>\n",
       "      <td>Ed Glenn</td>\n",
       "      <td>R</td>\n",
       "      <td>70</td>\n",
       "      <td>160</td>\n",
       "      <td>0.202</td>\n",
       "      <td>1</td>\n",
       "    </tr>\n",
       "    <tr>\n",
       "      <th>18176</th>\n",
       "      <td>Ed Glenn</td>\n",
       "      <td>R</td>\n",
       "      <td></td>\n",
       "      <td></td>\n",
       "      <td>0.067</td>\n",
       "      <td>0</td>\n",
       "    </tr>\n",
       "  </tbody>\n",
       "</table>\n",
       "<p>11157 rows × 6 columns</p>\n",
       "</div>"
      ],
      "text/plain": [
       "                  name handedness height weight    avg  HR\n",
       "0         Brandon Hyde          R     75    210  0.000   0\n",
       "1          Carey Selph          R     69    175  0.277   0\n",
       "4          Bill Risley          R     74    215  0.000   0\n",
       "6      Steve Gajkowski          R     74    200  0.000   0\n",
       "7            Rick Schu          R     72    170  0.246  41\n",
       "...                ...        ...    ...    ...    ...  ..\n",
       "18170    Aurelio Lopez          R     72    185  0.125   0\n",
       "18171       Jesse Hill          R     69    165  0.289   6\n",
       "18173     Roger Nelson          R     75    200  0.128   0\n",
       "18175         Ed Glenn          R     70    160  0.202   1\n",
       "18176         Ed Glenn          R                0.067   0\n",
       "\n",
       "[11157 rows x 6 columns]"
      ]
     },
     "execution_count": 3,
     "metadata": {},
     "output_type": "execute_result"
    }
   ],
   "source": [
    "data_r = data.query(\"handedness == 'R'\")\n",
    "data_r"
   ]
  },
  {
   "cell_type": "code",
   "execution_count": 4,
   "metadata": {},
   "outputs": [
    {
     "data": {
      "text/html": [
       "<div>\n",
       "<style scoped>\n",
       "    .dataframe tbody tr th:only-of-type {\n",
       "        vertical-align: middle;\n",
       "    }\n",
       "\n",
       "    .dataframe tbody tr th {\n",
       "        vertical-align: top;\n",
       "    }\n",
       "\n",
       "    .dataframe thead th {\n",
       "        text-align: right;\n",
       "    }\n",
       "</style>\n",
       "<table border=\"1\" class=\"dataframe\">\n",
       "  <thead>\n",
       "    <tr style=\"text-align: right;\">\n",
       "      <th></th>\n",
       "      <th>name</th>\n",
       "      <th>handedness</th>\n",
       "      <th>height</th>\n",
       "      <th>weight</th>\n",
       "      <th>avg</th>\n",
       "      <th>HR</th>\n",
       "    </tr>\n",
       "  </thead>\n",
       "  <tbody>\n",
       "    <tr>\n",
       "      <th>2</th>\n",
       "      <td>Philip Nastu</td>\n",
       "      <td>L</td>\n",
       "      <td>74</td>\n",
       "      <td>180</td>\n",
       "      <td>0.040</td>\n",
       "      <td>0</td>\n",
       "    </tr>\n",
       "    <tr>\n",
       "      <th>3</th>\n",
       "      <td>Kent Hrbek</td>\n",
       "      <td>L</td>\n",
       "      <td>76</td>\n",
       "      <td>200</td>\n",
       "      <td>0.282</td>\n",
       "      <td>293</td>\n",
       "    </tr>\n",
       "    <tr>\n",
       "      <th>9</th>\n",
       "      <td>Tom Browning</td>\n",
       "      <td>L</td>\n",
       "      <td>73</td>\n",
       "      <td>190</td>\n",
       "      <td>0.153</td>\n",
       "      <td>2</td>\n",
       "    </tr>\n",
       "    <tr>\n",
       "      <th>13</th>\n",
       "      <td>Tom Brown</td>\n",
       "      <td>L</td>\n",
       "      <td>70</td>\n",
       "      <td>168</td>\n",
       "      <td>0.265</td>\n",
       "      <td>64</td>\n",
       "    </tr>\n",
       "    <tr>\n",
       "      <th>15</th>\n",
       "      <td>Floyd Bannister</td>\n",
       "      <td>L</td>\n",
       "      <td>73</td>\n",
       "      <td>190</td>\n",
       "      <td>0.175</td>\n",
       "      <td>0</td>\n",
       "    </tr>\n",
       "    <tr>\n",
       "      <th>...</th>\n",
       "      <td>...</td>\n",
       "      <td>...</td>\n",
       "      <td>...</td>\n",
       "      <td>...</td>\n",
       "      <td>...</td>\n",
       "      <td>...</td>\n",
       "    </tr>\n",
       "    <tr>\n",
       "      <th>18150</th>\n",
       "      <td>Jeff Liefer</td>\n",
       "      <td>L</td>\n",
       "      <td>75</td>\n",
       "      <td>195</td>\n",
       "      <td>0.230</td>\n",
       "      <td>31</td>\n",
       "    </tr>\n",
       "    <tr>\n",
       "      <th>18155</th>\n",
       "      <td>Rocky Nelson</td>\n",
       "      <td>L</td>\n",
       "      <td>70</td>\n",
       "      <td>175</td>\n",
       "      <td>0.249</td>\n",
       "      <td>31</td>\n",
       "    </tr>\n",
       "    <tr>\n",
       "      <th>18166</th>\n",
       "      <td>Ed Barney</td>\n",
       "      <td>L</td>\n",
       "      <td>70</td>\n",
       "      <td>178</td>\n",
       "      <td>0.224</td>\n",
       "      <td>0</td>\n",
       "    </tr>\n",
       "    <tr>\n",
       "      <th>18172</th>\n",
       "      <td>Rob Nelson</td>\n",
       "      <td>L</td>\n",
       "      <td>76</td>\n",
       "      <td>215</td>\n",
       "      <td>0.178</td>\n",
       "      <td>4</td>\n",
       "    </tr>\n",
       "    <tr>\n",
       "      <th>18174</th>\n",
       "      <td>Fred Luderus</td>\n",
       "      <td>L</td>\n",
       "      <td>71</td>\n",
       "      <td>185</td>\n",
       "      <td>0.277</td>\n",
       "      <td>84</td>\n",
       "    </tr>\n",
       "  </tbody>\n",
       "</table>\n",
       "<p>4696 rows × 6 columns</p>\n",
       "</div>"
      ],
      "text/plain": [
       "                  name handedness height weight    avg   HR\n",
       "2         Philip Nastu          L     74    180  0.040    0\n",
       "3           Kent Hrbek          L     76    200  0.282  293\n",
       "9         Tom Browning          L     73    190  0.153    2\n",
       "13           Tom Brown          L     70    168  0.265   64\n",
       "15     Floyd Bannister          L     73    190  0.175    0\n",
       "...                ...        ...    ...    ...    ...  ...\n",
       "18150      Jeff Liefer          L     75    195  0.230   31\n",
       "18155     Rocky Nelson          L     70    175  0.249   31\n",
       "18166        Ed Barney          L     70    178  0.224    0\n",
       "18172       Rob Nelson          L     76    215  0.178    4\n",
       "18174     Fred Luderus          L     71    185  0.277   84\n",
       "\n",
       "[4696 rows x 6 columns]"
      ]
     },
     "execution_count": 4,
     "metadata": {},
     "output_type": "execute_result"
    }
   ],
   "source": [
    "data_l = data.query(\"handedness == 'L'\")\n",
    "data_l"
   ]
  },
  {
   "cell_type": "markdown",
   "metadata": {},
   "source": [
    "Welsch's t-test (which does not assume equal population variance )"
   ]
  },
  {
   "cell_type": "code",
   "execution_count": 10,
   "metadata": {},
   "outputs": [],
   "source": [
    "t_value, p_value = scipy.stats.ttest_ind(data_r['avg'],data_l['avg'],equal_var=False)"
   ]
  },
  {
   "cell_type": "code",
   "execution_count": 11,
   "metadata": {},
   "outputs": [
    {
     "data": {
      "text/plain": [
       "(-9.935702226242094, 3.810274225888738e-23)"
      ]
     },
     "execution_count": 11,
     "metadata": {},
     "output_type": "execute_result"
    }
   ],
   "source": [
    "(t_value,p_value)"
   ]
  },
  {
   "cell_type": "markdown",
   "metadata": {},
   "source": [
    "Shapiro-Wilk test (to measure the likelihood that the sample is drawn from a normally distributed population)"
   ]
  },
  {
   "cell_type": "code",
   "execution_count": 13,
   "metadata": {},
   "outputs": [
    {
     "data": {
      "text/plain": [
       "(0.8317142724990845, 0.0)"
      ]
     },
     "execution_count": 13,
     "metadata": {},
     "output_type": "execute_result"
    }
   ],
   "source": [
    "w,p = scipy.stats.shapiro(data_r['avg'])\n",
    "w,p"
   ]
  },
  {
   "cell_type": "code",
   "execution_count": 14,
   "metadata": {},
   "outputs": [
    {
     "data": {
      "text/plain": [
       "(0.8488637208938599, 0.0)"
      ]
     },
     "execution_count": 14,
     "metadata": {},
     "output_type": "execute_result"
    }
   ],
   "source": [
    "w,p = scipy.stats.shapiro(data_l['avg'])\n",
    "w,p"
   ]
  },
  {
   "cell_type": "markdown",
   "metadata": {},
   "source": [
    "If the data does not come from a normal distribution, we can still perform a t-test if the sample size is large enough."
   ]
  },
  {
   "cell_type": "markdown",
   "metadata": {},
   "source": [
    "Non parametric test: a statistical test that does not assume our data is drawn from any particular underlying probability distribution."
   ]
  },
  {
   "cell_type": "markdown",
   "metadata": {},
   "source": [
    "Mann-Whitney u-test"
   ]
  },
  {
   "cell_type": "code",
   "execution_count": 16,
   "metadata": {},
   "outputs": [
    {
     "data": {
      "text/plain": [
       "(22523894.5, 7.461574079302499e-45)"
      ]
     },
     "execution_count": 16,
     "metadata": {},
     "output_type": "execute_result"
    }
   ],
   "source": [
    "u,p = scipy.stats.mannwhitneyu(data_r['avg'],data_l['avg'])\n",
    "u,p"
   ]
  },
  {
   "cell_type": "code",
   "execution_count": null,
   "metadata": {},
   "outputs": [],
   "source": []
  }
 ],
 "metadata": {
  "kernelspec": {
   "display_name": "Python 3",
   "language": "python",
   "name": "python3"
  },
  "language_info": {
   "codemirror_mode": {
    "name": "ipython",
    "version": 3
   },
   "file_extension": ".py",
   "mimetype": "text/x-python",
   "name": "python",
   "nbconvert_exporter": "python",
   "pygments_lexer": "ipython3",
   "version": "3.7.4"
  }
 },
 "nbformat": 4,
 "nbformat_minor": 2
}
