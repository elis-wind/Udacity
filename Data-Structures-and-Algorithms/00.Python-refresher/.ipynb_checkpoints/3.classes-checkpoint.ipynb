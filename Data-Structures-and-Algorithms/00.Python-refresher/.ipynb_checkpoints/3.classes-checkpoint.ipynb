{
 "cells": [
  {
   "cell_type": "code",
   "execution_count": 1,
   "metadata": {
    "grader_id": "xd8m6x8bsge"
   },
   "outputs": [],
   "source": [
    "# Person class \n",
    "class Person:\n",
    "    def __init__(self, name, age, month):\n",
    "        self.name = name\n",
    "        self.age = age\n",
    "        self.birthday_month = month\n",
    "        \n",
    "    def birthday(self):\n",
    "        self.age += 1\n",
    "\n",
    "def create_person_objects(names, ages, months):\n",
    "    my_data = zip(names, ages, months)\n",
    "    person_objects = []\n",
    "    for item in my_data:\n",
    "        person_objects.append(Person(*item))\n",
    "    return person_objects\n",
    "\n",
    "\n",
    "# Test data \n",
    "names = ['Howard', 'Richard', 'Jules', 'Trula', 'Michael', 'Elizabeth', 'Richard', 'Shirley', 'Mark', 'Brianna', 'Kenneth', 'Gwen', 'William', 'Rosa', 'Denver', 'Shelly', 'Sammy', 'Maryann', 'Kathleen', 'Andrew', 'Joseph', 'Kathleen', 'Lisa', 'Viola', 'George', 'Bonnie', 'Robert', 'William', 'Sabrina', 'John', 'Robert', 'Gil', 'Calvin', 'Robert', 'Dusty', 'Dario', 'Joeann', 'Terry', 'Alan', 'Rosa', 'Jeane', 'James', 'Rachel', 'Tu', 'Chelsea', 'Andrea', 'Ernest', 'Erica', 'Priscilla', 'Carol', 'Michael', 'Dale', 'Arthur', 'Helen', 'James', 'Donna', 'Patricia', 'Betty', 'Patricia', 'Mollie', 'Nicole', 'Ernest', 'Wendy', 'Graciela', 'Teresa', 'Nicole', 'Trang', 'Caleb', 'Robert', 'Paul', 'Nieves', 'Arleen', 'Milton', 'James', 'Lawrence', 'Edward', 'Susan', 'Patricia', 'Tana', 'Jessica', 'Suzanne', 'Darren', 'Arthur', 'Holly', 'Mary', 'Randal', 'John', 'Laura', 'Betty', 'Chelsea', 'Margaret', 'Angel', 'Jeffrey', 'Mary', 'Donald', 'David', 'Roger', 'Evan', 'Danny', 'William']\n",
    "ages  = [17, 58, 79, 8, 10, 57, 4, 98, 19, 47, 81, 68, 48, 13, 39, 21, 98, 51, 49, 12, 24, 78, 36, 59, 3, 87, 94, 85, 43, 69, 15, 52, 57, 36, 52, 5, 52, 5, 33, 10, 71, 28, 70, 9, 25, 28, 76, 71, 22, 35, 35, 100, 9, 95, 69, 52, 66, 91, 39, 84, 65, 29, 20, 98, 30, 83, 30, 15, 88, 89, 24, 98, 62, 94, 86, 63, 34, 23, 23, 19, 10, 80, 88, 67, 17, 91, 85, 97, 29, 7, 34, 38, 92, 29, 14, 52, 94, 62, 70, 22]\n",
    "months = ['January', 'March', 'January', 'October', 'April', 'February', 'August', 'January', 'June', 'August', 'February', 'May', 'March', 'June', 'February', 'August', 'June', 'March', 'August', 'April', 'April', 'June', 'April', 'June', 'February', 'September', 'March', 'July', 'September', 'December', 'June', 'June', 'August', 'November', 'April', 'November', 'August', 'June', 'January', 'August', 'May', 'March', 'March', 'March', 'May', 'September', 'August', 'April', 'February', 'April', 'May', 'March', 'March', 'January', 'August', 'October', 'February', 'November', 'August', 'June', 'September', 'September', 'January', 'September', 'July', 'July', 'December', 'June', 'April', 'February', 'August', 'September', 'August', 'February', 'April', 'July', 'May', 'November', 'December', 'February', 'August', 'August', 'September', 'December', 'February', 'March', 'June', 'December', 'February', 'May', 'April', 'July', 'March', 'June', 'December', 'March', 'July', 'May', 'September', 'November']\n",
    "people = create_person_objects(names, ages, months)"
   ]
  },
  {
   "cell_type": "code",
   "execution_count": 2,
   "metadata": {
    "edited": true,
    "gradable": true,
    "grader_id": "q6qx5bb1v6k",
    "udacity_user_query": ""
   },
   "outputs": [
    {
     "name": "stdout",
     "output_type": "stream",
     "text": [
      "{'Michael': 11, 'Andrew': 13, 'Joseph': 25, 'Lisa': 37, 'Dusty': 53, 'Erica': 72, 'Carol': 36, 'Robert': 89, 'Lawrence': 87, 'Margaret': 35}\n"
     ]
    }
   ],
   "source": [
    "def get_april_birthdays(people):\n",
    "    # TODO:\n",
    "    # Increment \"age\" for all people with birthdays in April.\n",
    "    # Return a dictionary \"april_birthdays\" with the names of\n",
    "    # all people with April birthdays as keys, and their updated ages \n",
    "    # as values. See the test below for an example expected output.\n",
    "    april_birthdays = {}\n",
    "    for person in people:\n",
    "        if person.birthday_month == 'April':\n",
    "            april_birthdays[person.name] = person.age + 1\n",
    "    \n",
    "    return april_birthdays\n",
    "\n",
    "    \n",
    "    # TODO: Modify the return statement \n",
    "    return\n",
    "\n",
    "print(get_april_birthdays(people))\n",
    "# Expected result: {'Michael': 11, 'Erica': 72, 'Carol': 36, \n",
    "#'Lisa': 37, 'Lawrence': 87, 'Joseph': 25, \n",
    "#'Margaret': 35, 'Andrew': 13, 'Dusty': 53, 'Robert': 89}"
   ]
  },
  {
   "cell_type": "code",
   "execution_count": 3,
   "metadata": {
    "edited": true,
    "gradable": true,
    "grader_id": "eis5ei4ejai",
    "udacity_user_query": ""
   },
   "outputs": [
    {
     "name": "stdout",
     "output_type": "stream",
     "text": [
      "August\n"
     ]
    }
   ],
   "source": [
    "def get_most_common_month(people):\n",
    "    # TODO:\n",
    "    # Use the \"months\" dictionary to record counts of birthday months\n",
    "    # for persons in the \"people\" data.\n",
    "    # Return the month with the largest number of birthdays.\n",
    "    months = {'January':0, 'February':0, 'March':0, 'April':0, 'May':0, \n",
    "              'June':0, 'July':0, 'August':0, 'September':0, 'October':0,\n",
    "              'November':0, 'December':0}\n",
    "    \n",
    "    for person in people:\n",
    "        months[person.birthday_month] += 1\n",
    "            \n",
    "    max_month = None\n",
    "    max_value = 0\n",
    "    for key in months.keys():\n",
    "        if months[key] > max_value:\n",
    "            max_value = months[key]\n",
    "            max_month = key\n",
    "\n",
    "    \n",
    "    # TODO: Modify the return statement.\n",
    "    return max_month\n",
    "\n",
    "print(get_most_common_month(people))\n",
    "# Expected result: August"
   ]
  },
  {
   "cell_type": "code",
   "execution_count": null,
   "metadata": {},
   "outputs": [],
   "source": []
  }
 ],
 "metadata": {
  "grader_mode": "",
  "kernelspec": {
   "display_name": "Python 3 (ipykernel)",
   "language": "python",
   "name": "python3"
  },
  "language_info": {
   "codemirror_mode": {
    "name": "ipython",
    "version": 3
   },
   "file_extension": ".py",
   "mimetype": "text/x-python",
   "name": "python",
   "nbconvert_exporter": "python",
   "pygments_lexer": "ipython3",
   "version": "3.7.13"
  },
  "showGradeBtn": true
 },
 "nbformat": 4,
 "nbformat_minor": 2
}
