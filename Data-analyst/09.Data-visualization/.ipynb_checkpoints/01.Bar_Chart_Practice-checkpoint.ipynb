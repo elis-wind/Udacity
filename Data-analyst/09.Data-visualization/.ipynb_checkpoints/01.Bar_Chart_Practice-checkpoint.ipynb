{
 "cells": [
  {
   "cell_type": "markdown",
   "metadata": {},
   "source": [
    "## Introduction\n",
    "In workspaces like this one, you will be able to practice visualization techniques you've seen in the course materials. In this particular Jupyter Notebook, you'll practice creating single-variable plots for categorical data.\n",
    "\n",
    "The cells where you are expected to contribute, are highlighted with **TO DO** markdown. "
   ]
  },
  {
   "cell_type": "code",
   "execution_count": 7,
   "metadata": {},
   "outputs": [],
   "source": [
    "# prerequisite package imports\n",
    "import numpy as np\n",
    "import pandas as pd\n",
    "import matplotlib.pyplot as plt\n",
    "import seaborn as sns\n",
    "\n",
    "%matplotlib inline\n",
    "\n",
    "# The `solutions_univ.py` is a Python file available in the Notebook server that contains solution to the TO DO tasks.\n",
    "# The solution to each task is present in a separate function in the `solutions_univ.py` file. \n",
    "# Do not refer to the file untill you attempt to write code yourself. \n",
    "from solutions_univ import bar_chart_solution_1, bar_chart_solution_2"
   ]
  },
  {
   "cell_type": "markdown",
   "metadata": {},
   "source": [
    "## About the Dataset\n",
    "In this workspace, you'll be working with the dataset comprised of attributes of creatures in the video game series Pokémon. The data was assembled from the database of information found in this [GitHub repository](https://github.com/veekun/pokedex/tree/master/pokedex/data/csv)."
   ]
  },
  {
   "cell_type": "code",
   "execution_count": 8,
   "metadata": {},
   "outputs": [
    {
     "data": {
      "text/html": [
       "<div>\n",
       "<style scoped>\n",
       "    .dataframe tbody tr th:only-of-type {\n",
       "        vertical-align: middle;\n",
       "    }\n",
       "\n",
       "    .dataframe tbody tr th {\n",
       "        vertical-align: top;\n",
       "    }\n",
       "\n",
       "    .dataframe thead th {\n",
       "        text-align: right;\n",
       "    }\n",
       "</style>\n",
       "<table border=\"1\" class=\"dataframe\">\n",
       "  <thead>\n",
       "    <tr style=\"text-align: right;\">\n",
       "      <th></th>\n",
       "      <th>id</th>\n",
       "      <th>species</th>\n",
       "      <th>generation_id</th>\n",
       "      <th>height</th>\n",
       "      <th>weight</th>\n",
       "      <th>base_experience</th>\n",
       "      <th>type_1</th>\n",
       "      <th>type_2</th>\n",
       "      <th>hp</th>\n",
       "      <th>attack</th>\n",
       "      <th>defense</th>\n",
       "      <th>speed</th>\n",
       "      <th>special-attack</th>\n",
       "      <th>special-defense</th>\n",
       "    </tr>\n",
       "  </thead>\n",
       "  <tbody>\n",
       "    <tr>\n",
       "      <th>0</th>\n",
       "      <td>1</td>\n",
       "      <td>bulbasaur</td>\n",
       "      <td>1</td>\n",
       "      <td>0.7</td>\n",
       "      <td>6.9</td>\n",
       "      <td>64</td>\n",
       "      <td>grass</td>\n",
       "      <td>poison</td>\n",
       "      <td>45</td>\n",
       "      <td>49</td>\n",
       "      <td>49</td>\n",
       "      <td>45</td>\n",
       "      <td>65</td>\n",
       "      <td>65</td>\n",
       "    </tr>\n",
       "    <tr>\n",
       "      <th>1</th>\n",
       "      <td>2</td>\n",
       "      <td>ivysaur</td>\n",
       "      <td>1</td>\n",
       "      <td>1.0</td>\n",
       "      <td>13.0</td>\n",
       "      <td>142</td>\n",
       "      <td>grass</td>\n",
       "      <td>poison</td>\n",
       "      <td>60</td>\n",
       "      <td>62</td>\n",
       "      <td>63</td>\n",
       "      <td>60</td>\n",
       "      <td>80</td>\n",
       "      <td>80</td>\n",
       "    </tr>\n",
       "    <tr>\n",
       "      <th>2</th>\n",
       "      <td>3</td>\n",
       "      <td>venusaur</td>\n",
       "      <td>1</td>\n",
       "      <td>2.0</td>\n",
       "      <td>100.0</td>\n",
       "      <td>236</td>\n",
       "      <td>grass</td>\n",
       "      <td>poison</td>\n",
       "      <td>80</td>\n",
       "      <td>82</td>\n",
       "      <td>83</td>\n",
       "      <td>80</td>\n",
       "      <td>100</td>\n",
       "      <td>100</td>\n",
       "    </tr>\n",
       "    <tr>\n",
       "      <th>3</th>\n",
       "      <td>4</td>\n",
       "      <td>charmander</td>\n",
       "      <td>1</td>\n",
       "      <td>0.6</td>\n",
       "      <td>8.5</td>\n",
       "      <td>62</td>\n",
       "      <td>fire</td>\n",
       "      <td>NaN</td>\n",
       "      <td>39</td>\n",
       "      <td>52</td>\n",
       "      <td>43</td>\n",
       "      <td>65</td>\n",
       "      <td>60</td>\n",
       "      <td>50</td>\n",
       "    </tr>\n",
       "    <tr>\n",
       "      <th>4</th>\n",
       "      <td>5</td>\n",
       "      <td>charmeleon</td>\n",
       "      <td>1</td>\n",
       "      <td>1.1</td>\n",
       "      <td>19.0</td>\n",
       "      <td>142</td>\n",
       "      <td>fire</td>\n",
       "      <td>NaN</td>\n",
       "      <td>58</td>\n",
       "      <td>64</td>\n",
       "      <td>58</td>\n",
       "      <td>80</td>\n",
       "      <td>80</td>\n",
       "      <td>65</td>\n",
       "    </tr>\n",
       "  </tbody>\n",
       "</table>\n",
       "</div>"
      ],
      "text/plain": [
       "   id     species  generation_id  height  weight  base_experience type_1  \\\n",
       "0   1   bulbasaur              1     0.7     6.9               64  grass   \n",
       "1   2     ivysaur              1     1.0    13.0              142  grass   \n",
       "2   3    venusaur              1     2.0   100.0              236  grass   \n",
       "3   4  charmander              1     0.6     8.5               62   fire   \n",
       "4   5  charmeleon              1     1.1    19.0              142   fire   \n",
       "\n",
       "   type_2  hp  attack  defense  speed  special-attack  special-defense  \n",
       "0  poison  45      49       49     45              65               65  \n",
       "1  poison  60      62       63     60              80               80  \n",
       "2  poison  80      82       83     80             100              100  \n",
       "3     NaN  39      52       43     65              60               50  \n",
       "4     NaN  58      64       58     80              80               65  "
      ]
     },
     "execution_count": 8,
     "metadata": {},
     "output_type": "execute_result"
    }
   ],
   "source": [
    "pokemon = pd.read_csv('pokemon.csv')\n",
    "pokemon.head()"
   ]
  },
  {
   "cell_type": "markdown",
   "metadata": {},
   "source": [
    "### **TO DO Task 1** \n",
    "1. Explore the `pokemon` dataframe, and try to understand the significance of each of its column.\n",
    "2. There have been quite a few Pokémon introduced over the series' history. Display the count of Pokémon introduced in each generation? Create a _bar chart_ of these frequencies using the 'generation_id' column."
   ]
  },
  {
   "cell_type": "code",
   "execution_count": 14,
   "metadata": {},
   "outputs": [
    {
     "data": {
      "text/plain": [
       "5    156\n",
       "1    151\n",
       "3    135\n",
       "4    107\n",
       "2    100\n",
       "7     86\n",
       "6     72\n",
       "Name: generation_id, dtype: int64"
      ]
     },
     "execution_count": 14,
     "metadata": {},
     "output_type": "execute_result"
    }
   ],
   "source": [
    "generations = pokemon.generation_id.value_counts()\n",
    "generations"
   ]
  },
  {
   "cell_type": "code",
   "execution_count": 26,
   "metadata": {},
   "outputs": [
    {
     "data": {
      "text/html": [
       "<svg  width=\"550\" height=\"55\"><rect x=\"0\" y=\"0\" width=\"55\" height=\"55\" style=\"fill:#1f77b4;stroke-width:2;stroke:rgb(255,255,255)\"/><rect x=\"55\" y=\"0\" width=\"55\" height=\"55\" style=\"fill:#ff7f0e;stroke-width:2;stroke:rgb(255,255,255)\"/><rect x=\"110\" y=\"0\" width=\"55\" height=\"55\" style=\"fill:#2ca02c;stroke-width:2;stroke:rgb(255,255,255)\"/><rect x=\"165\" y=\"0\" width=\"55\" height=\"55\" style=\"fill:#d62728;stroke-width:2;stroke:rgb(255,255,255)\"/><rect x=\"220\" y=\"0\" width=\"55\" height=\"55\" style=\"fill:#9467bd;stroke-width:2;stroke:rgb(255,255,255)\"/><rect x=\"275\" y=\"0\" width=\"55\" height=\"55\" style=\"fill:#8c564b;stroke-width:2;stroke:rgb(255,255,255)\"/><rect x=\"330\" y=\"0\" width=\"55\" height=\"55\" style=\"fill:#e377c2;stroke-width:2;stroke:rgb(255,255,255)\"/><rect x=\"385\" y=\"0\" width=\"55\" height=\"55\" style=\"fill:#7f7f7f;stroke-width:2;stroke:rgb(255,255,255)\"/><rect x=\"440\" y=\"0\" width=\"55\" height=\"55\" style=\"fill:#bcbd22;stroke-width:2;stroke:rgb(255,255,255)\"/><rect x=\"495\" y=\"0\" width=\"55\" height=\"55\" style=\"fill:#17becf;stroke-width:2;stroke:rgb(255,255,255)\"/></svg>"
      ],
      "text/plain": [
       "[(0.12156862745098039, 0.4666666666666667, 0.7058823529411765),\n",
       " (1.0, 0.4980392156862745, 0.054901960784313725),\n",
       " (0.17254901960784313, 0.6274509803921569, 0.17254901960784313),\n",
       " (0.8392156862745098, 0.15294117647058825, 0.1568627450980392),\n",
       " (0.5803921568627451, 0.403921568627451, 0.7411764705882353),\n",
       " (0.5490196078431373, 0.33725490196078434, 0.29411764705882354),\n",
       " (0.8901960784313725, 0.4666666666666667, 0.7607843137254902),\n",
       " (0.4980392156862745, 0.4980392156862745, 0.4980392156862745),\n",
       " (0.7372549019607844, 0.7411764705882353, 0.13333333333333333),\n",
       " (0.09019607843137255, 0.7450980392156863, 0.8117647058823529)]"
      ]
     },
     "execution_count": 26,
     "metadata": {},
     "output_type": "execute_result"
    }
   ],
   "source": [
    "sns.color_palette()"
   ]
  },
  {
   "cell_type": "code",
   "execution_count": 32,
   "metadata": {},
   "outputs": [
    {
     "name": "stderr",
     "output_type": "stream",
     "text": [
      "/home/natasha/anaconda3/lib/python3.7/site-packages/seaborn/_decorators.py:43: FutureWarning: Pass the following variables as keyword args: x, y. From version 0.12, the only valid positional argument will be `data`, and passing other arguments without an explicit keyword will result in an error or misinterpretation.\n",
      "  FutureWarning\n"
     ]
    },
    {
     "data": {
      "image/png": "[encoded data removed]",
      "text/plain": [
       "<Figure size 432x288 with 1 Axes>"
      ]
     },
     "metadata": {
      "needs_background": "light"
     },
     "output_type": "display_data"
    }
   ],
   "source": [
    "# YOUR CODE HERE\n",
    "sns.barplot(generations.index.values, generations, order=generations.index.values, color=sns.color_palette()[5])\n",
    "plt.xlabel('generation_id')\n",
    "plt.ylabel('count');"
   ]
  },
  {
   "cell_type": "markdown",
   "metadata": {},
   "source": [
    "### Expected Output: TO DO Task 1"
   ]
  },
  {
   "cell_type": "markdown",
   "metadata": {},
   "source": [
    "Once you've created your chart, run the cell below to check the output from our solution. **Your visualization does not need to be exactly the same as ours, but it should be able to come up with the same conclusions.**"
   ]
  },
  {
   "cell_type": "code",
   "execution_count": 45,
   "metadata": {},
   "outputs": [
    {
     "name": "stdout",
     "output_type": "stream",
     "text": [
      "I used seaborn's countplot function to generate this chart. I also added an additional argument so that each bar has the same color.\n"
     ]
    },
    {
     "data": {
      "image/png": "[encoded data removed]",
      "text/plain": [
       "<Figure size 432x288 with 1 Axes>"
      ]
     },
     "metadata": {
      "needs_background": "light"
     },
     "output_type": "display_data"
    }
   ],
   "source": [
    "# The function below has been defined in the `solutions_univ.py` file, that you can refer only when necessary. \n",
    "# This function contains the expected solution. \n",
    "bar_chart_solution_1()"
   ]
  },
  {
   "cell_type": "markdown",
   "metadata": {},
   "source": [
    "### **TO DO Task 2** \n",
    "1. Each Pokémon species has either `type_1`, `type_2` or both `types` that play a part in its offensive and defensive capabilities. The code below creates a new dataframe `pkmn_types` that club the rows of both `type_1` and `type_2`, so that the resulting dataframe has **new** column, `type_level`. \n",
    "\n",
    "**Display, how frequent is each type?**\n",
    "\n",
    "\n",
    "\n",
    "The function below will do the following in the pokemon dataframe *out of place*:\n",
    "1. Select the 'id', and 'species' columns from pokemon. \n",
    "2. Remove the 'type_1', 'type_2' columns from pokemon\n",
    "3. Add a new column 'type_level' that can have a value either 'type_1' or 'type_2'\n",
    "4. Add another column 'type' that will contain the actual value contained in the 'type_1', 'type_2' columns. For example, the first row in the pokemon dataframe having `id=1`\tand `species=bulbasaur` will now occur twice in the resulting dataframe after the `melt()` operation. The first occurrence will have `type=grass`, whereas, the second occurrence will have `type=poison`."
   ]
  },
  {
   "cell_type": "code",
   "execution_count": 34,
   "metadata": {},
   "outputs": [
    {
     "data": {
      "text/html": [
       "<div>\n",
       "<style scoped>\n",
       "    .dataframe tbody tr th:only-of-type {\n",
       "        vertical-align: middle;\n",
       "    }\n",
       "\n",
       "    .dataframe tbody tr th {\n",
       "        vertical-align: top;\n",
       "    }\n",
       "\n",
       "    .dataframe thead th {\n",
       "        text-align: right;\n",
       "    }\n",
       "</style>\n",
       "<table border=\"1\" class=\"dataframe\">\n",
       "  <thead>\n",
       "    <tr style=\"text-align: right;\">\n",
       "      <th></th>\n",
       "      <th>id</th>\n",
       "      <th>species</th>\n",
       "      <th>type_level</th>\n",
       "      <th>type</th>\n",
       "    </tr>\n",
       "  </thead>\n",
       "  <tbody>\n",
       "    <tr>\n",
       "      <th>0</th>\n",
       "      <td>1</td>\n",
       "      <td>bulbasaur</td>\n",
       "      <td>type_1</td>\n",
       "      <td>grass</td>\n",
       "    </tr>\n",
       "    <tr>\n",
       "      <th>1</th>\n",
       "      <td>2</td>\n",
       "      <td>ivysaur</td>\n",
       "      <td>type_1</td>\n",
       "      <td>grass</td>\n",
       "    </tr>\n",
       "    <tr>\n",
       "      <th>2</th>\n",
       "      <td>3</td>\n",
       "      <td>venusaur</td>\n",
       "      <td>type_1</td>\n",
       "      <td>grass</td>\n",
       "    </tr>\n",
       "    <tr>\n",
       "      <th>3</th>\n",
       "      <td>4</td>\n",
       "      <td>charmander</td>\n",
       "      <td>type_1</td>\n",
       "      <td>fire</td>\n",
       "    </tr>\n",
       "    <tr>\n",
       "      <th>4</th>\n",
       "      <td>5</td>\n",
       "      <td>charmeleon</td>\n",
       "      <td>type_1</td>\n",
       "      <td>fire</td>\n",
       "    </tr>\n",
       "  </tbody>\n",
       "</table>\n",
       "</div>"
      ],
      "text/plain": [
       "   id     species type_level   type\n",
       "0   1   bulbasaur     type_1  grass\n",
       "1   2     ivysaur     type_1  grass\n",
       "2   3    venusaur     type_1  grass\n",
       "3   4  charmander     type_1   fire\n",
       "4   5  charmeleon     type_1   fire"
      ]
     },
     "execution_count": 34,
     "metadata": {},
     "output_type": "execute_result"
    }
   ],
   "source": [
    "pkmn_types = pokemon.melt(id_vars = ['id','species'], \n",
    "                          value_vars = ['type_1', 'type_2'], \n",
    "                          var_name = 'type_level', value_name = 'type').dropna()\n",
    "pkmn_types.head()"
   ]
  },
  {
   "cell_type": "code",
   "execution_count": 35,
   "metadata": {},
   "outputs": [
    {
     "data": {
      "text/plain": [
       "water       131\n",
       "normal      109\n",
       "flying       98\n",
       "grass        97\n",
       "psychic      82\n",
       "bug          77\n",
       "poison       66\n",
       "ground       64\n",
       "fire         64\n",
       "rock         60\n",
       "fighting     54\n",
       "electric     48\n",
       "fairy        47\n",
       "steel        47\n",
       "dark         46\n",
       "dragon       45\n",
       "ghost        43\n",
       "ice          34\n",
       "Name: type, dtype: int64"
      ]
     },
     "execution_count": 35,
     "metadata": {},
     "output_type": "execute_result"
    }
   ],
   "source": [
    "# YOUR CODE HERE\n",
    "pkmn_types.type.value_counts()"
   ]
  },
  {
   "cell_type": "markdown",
   "metadata": {},
   "source": [
    "2. Your task is to use this dataframe to create a _relative frequency_ plot of the proportion of Pokémon with each type, _sorted_ from most frequent to least. **Hint**: The sum across bars should be greater than 100%, since many Pokémon have two types. Keep this in mind when considering a denominator to compute relative frequencies."
   ]
  },
  {
   "cell_type": "code",
   "execution_count": 37,
   "metadata": {},
   "outputs": [
    {
     "data": {
      "text/plain": [
       "water       0.108086\n",
       "normal      0.089934\n",
       "flying      0.080858\n",
       "grass       0.080033\n",
       "psychic     0.067657\n",
       "bug         0.063531\n",
       "poison      0.054455\n",
       "ground      0.052805\n",
       "fire        0.052805\n",
       "rock        0.049505\n",
       "fighting    0.044554\n",
       "electric    0.039604\n",
       "fairy       0.038779\n",
       "steel       0.038779\n",
       "dark        0.037954\n",
       "dragon      0.037129\n",
       "ghost       0.035479\n",
       "ice         0.028053\n",
       "Name: type, dtype: float64"
      ]
     },
     "execution_count": 37,
     "metadata": {},
     "output_type": "execute_result"
    }
   ],
   "source": [
    "# YOUR CODE HERE\n",
    "types_rel = pkmn_types.type.value_counts(normalize=True)\n",
    "types_rel"
   ]
  },
  {
   "cell_type": "code",
   "execution_count": 44,
   "metadata": {},
   "outputs": [
    {
     "name": "stderr",
     "output_type": "stream",
     "text": [
      "/home/natasha/anaconda3/lib/python3.7/site-packages/seaborn/_decorators.py:43: FutureWarning: Pass the following variables as keyword args: x, y. From version 0.12, the only valid positional argument will be `data`, and passing other arguments without an explicit keyword will result in an error or misinterpretation.\n",
      "  FutureWarning\n"
     ]
    },
    {
     "data": {
      "image/png": "[encoded data removed]",
      "text/plain": [
       "<Figure size 432x288 with 1 Axes>"
      ]
     },
     "metadata": {
      "needs_background": "light"
     },
     "output_type": "display_data"
    }
   ],
   "source": [
    "# YOUR CODE HERE\n",
    "sns.barplot(types_rel, types_rel.index.values,color=sns.color_palette()[0])\n",
    "plt.xlabel('proportion')\n",
    "plt.ylabel('types');"
   ]
  },
  {
   "cell_type": "markdown",
   "metadata": {},
   "source": [
    "### Expected Output: TO DO Task 2"
   ]
  },
  {
   "cell_type": "code",
   "execution_count": 36,
   "metadata": {},
   "outputs": [
    {
     "name": "stdout",
     "output_type": "stream",
     "text": [
      "I created a horizontal bar chart since there are a lot of Pokemon types. The unique() method was used to get the number of different Pokemon species. I also added an xlabel call to make sure it was clear the bar length represents a relative frequency.\n",
      "\n",
      "\n",
      "The frequency of each type is:\n",
      " type_1    807\n",
      "type_2    405\n",
      "Name: type_level, dtype: int64\n"
     ]
    },
    {
     "data": {
      "image/png": "[encoded data removed]",
      "text/plain": [
       "<Figure size 432x288 with 1 Axes>"
      ]
     },
     "metadata": {
      "needs_background": "light"
     },
     "output_type": "display_data"
    }
   ],
   "source": [
    "# The function below has been defined in the `solutions_univ.py` file, that you can refer only when necessary. \n",
    "# This function contains the expected solution. \n",
    "bar_chart_solution_2()"
   ]
  },
  {
   "cell_type": "markdown",
   "metadata": {},
   "source": [
    "If you're interested in seeing the code used to generate the solution plots, you can find it in the `solutions_univ.py` script in the workspace folder. You can navigate there by clicking on the Jupyter icon in the upper left corner of the workspace. Spoiler warning: the script contains solutions for all of the workspace exercises in this lesson, so take care not to spoil your practice!"
   ]
  },
  {
   "cell_type": "code",
   "execution_count": 49,
   "metadata": {
    "scrolled": false
   },
   "outputs": [
    {
     "name": "stdout",
     "output_type": "stream",
     "text": [
      "\u001b[33m\"\"\"\u001b[39;49;00m\r\n",
      "\u001b[33mScript with solutions for all workspace assignments in the Univariate\u001b[39;49;00m\r\n",
      "\u001b[33mExploration of Data lesson.\u001b[39;49;00m\r\n",
      "\u001b[33m\"\"\"\u001b[39;49;00m\r\n",
      "\r\n",
      "\u001b[34mimport\u001b[39;49;00m \u001b[04m\u001b[36mnumpy\u001b[39;49;00m \u001b[34mas\u001b[39;49;00m \u001b[04m\u001b[36mnp\u001b[39;49;00m\r\n",
      "\u001b[34mimport\u001b[39;49;00m \u001b[04m\u001b[36mpandas\u001b[39;49;00m \u001b[34mas\u001b[39;49;00m \u001b[04m\u001b[36mpd\u001b[39;49;00m\r\n",
      "\u001b[34mimport\u001b[39;49;00m \u001b[04m\u001b[36mmatplotlib.pyplot\u001b[39;49;00m \u001b[34mas\u001b[39;49;00m \u001b[04m\u001b[36mplt\u001b[39;49;00m\r\n",
      "\u001b[34mimport\u001b[39;49;00m \u001b[04m\u001b[36mseaborn\u001b[39;49;00m \u001b[34mas\u001b[39;49;00m \u001b[04m\u001b[36msb\u001b[39;49;00m\r\n",
      "\r\n",
      "\r\n",
      "\u001b[34mdef\u001b[39;49;00m \u001b[32mbar_chart_solution_1\u001b[39;49;00m():\r\n",
      "    \u001b[33m\"\"\"\u001b[39;49;00m\r\n",
      "\u001b[33m    Solution for Question 1 in bar chart practice: create a bar chart of\u001b[39;49;00m\r\n",
      "\u001b[33m    Pokemon species introduced by generation.\u001b[39;49;00m\r\n",
      "\u001b[33m    \"\"\"\u001b[39;49;00m\r\n",
      "    sol_string = [\u001b[33m\"\u001b[39;49;00m\u001b[33mI used seaborn\u001b[39;49;00m\u001b[33m'\u001b[39;49;00m\u001b[33ms countplot function to generate this chart.\u001b[39;49;00m\u001b[33m\"\u001b[39;49;00m,\r\n",
      "                  \u001b[33m\"\u001b[39;49;00m\u001b[33mI also added an additional argument so that each bar has the same color.\u001b[39;49;00m\u001b[33m\"\u001b[39;49;00m]\r\n",
      "    \u001b[34mprint\u001b[39;49;00m((\u001b[33m\"\u001b[39;49;00m\u001b[33m \u001b[39;49;00m\u001b[33m\"\u001b[39;49;00m).join(sol_string))\r\n",
      "\r\n",
      "    \u001b[37m# data setup\u001b[39;49;00m\r\n",
      "    pokemon = pd.read_csv(\u001b[33m'\u001b[39;49;00m\u001b[33mpokemon.csv\u001b[39;49;00m\u001b[33m'\u001b[39;49;00m)\r\n",
      "\r\n",
      "    base_color = sb.color_palette()[\u001b[34m0\u001b[39;49;00m]\r\n",
      "    sb.countplot(data = pokemon, x = \u001b[33m'\u001b[39;49;00m\u001b[33mgeneration_id\u001b[39;49;00m\u001b[33m'\u001b[39;49;00m, color = base_color)\r\n",
      "\r\n",
      "\r\n",
      "\u001b[34mdef\u001b[39;49;00m \u001b[32mbar_chart_solution_2\u001b[39;49;00m():\r\n",
      "    \u001b[33m\"\"\"\u001b[39;49;00m\r\n",
      "\u001b[33m    Solution for Question 2 in bar chart practice: create a sorted bar chart of\u001b[39;49;00m\r\n",
      "\u001b[33m    relative type frequencies.\u001b[39;49;00m\r\n",
      "\u001b[33m    \"\"\"\u001b[39;49;00m\r\n",
      "    sol_string = [\u001b[33m\"\u001b[39;49;00m\u001b[33mI created a horizontal bar chart since there are a lot of\u001b[39;49;00m\u001b[33m\"\u001b[39;49;00m,\r\n",
      "                  \u001b[33m\"\u001b[39;49;00m\u001b[33mPokemon types. The unique() method was used to get the\u001b[39;49;00m\u001b[33m\"\u001b[39;49;00m,\r\n",
      "                  \u001b[33m\"\u001b[39;49;00m\u001b[33mnumber of different Pokemon species. I also added an xlabel\u001b[39;49;00m\u001b[33m\"\u001b[39;49;00m,\r\n",
      "                  \u001b[33m\"\u001b[39;49;00m\u001b[33mcall to make sure it was clear the bar length represents\u001b[39;49;00m\u001b[33m\"\u001b[39;49;00m,\r\n",
      "                  \u001b[33m\"\u001b[39;49;00m\u001b[33ma relative frequency.\u001b[39;49;00m\u001b[33m\\n\u001b[39;49;00m\u001b[33m\\n\u001b[39;49;00m\u001b[33m\"\u001b[39;49;00m]\r\n",
      "    \u001b[34mprint\u001b[39;49;00m((\u001b[33m\"\u001b[39;49;00m\u001b[33m \u001b[39;49;00m\u001b[33m\"\u001b[39;49;00m).join(sol_string))\r\n",
      "\r\n",
      "    \u001b[37m# data setup\u001b[39;49;00m\r\n",
      "    pokemon = pd.read_csv(\u001b[33m'\u001b[39;49;00m\u001b[33mpokemon.csv\u001b[39;49;00m\u001b[33m'\u001b[39;49;00m)\r\n",
      "    pkmn_types = pokemon.melt(id_vars = [\u001b[33m'\u001b[39;49;00m\u001b[33mid\u001b[39;49;00m\u001b[33m'\u001b[39;49;00m,\u001b[33m'\u001b[39;49;00m\u001b[33mspecies\u001b[39;49;00m\u001b[33m'\u001b[39;49;00m], \r\n",
      "                          value_vars = [\u001b[33m'\u001b[39;49;00m\u001b[33mtype_1\u001b[39;49;00m\u001b[33m'\u001b[39;49;00m, \u001b[33m'\u001b[39;49;00m\u001b[33mtype_2\u001b[39;49;00m\u001b[33m'\u001b[39;49;00m], \r\n",
      "                          var_name = \u001b[33m'\u001b[39;49;00m\u001b[33mtype_level\u001b[39;49;00m\u001b[33m'\u001b[39;49;00m, value_name = \u001b[33m'\u001b[39;49;00m\u001b[33mtype\u001b[39;49;00m\u001b[33m'\u001b[39;49;00m).dropna()\r\n",
      "\r\n",
      "    \u001b[37m# Display the frequency of each type.\u001b[39;49;00m\r\n",
      "    \u001b[34mprint\u001b[39;49;00m(\u001b[33m'\u001b[39;49;00m\u001b[33mThe frequency of each type is:\u001b[39;49;00m\u001b[33m\\n\u001b[39;49;00m\u001b[33m'\u001b[39;49;00m, pkmn_types[\u001b[33m'\u001b[39;49;00m\u001b[33mtype_level\u001b[39;49;00m\u001b[33m'\u001b[39;49;00m].value_counts())\r\n",
      "    \r\n",
      "    \u001b[37m# get order of bars by frequency\u001b[39;49;00m\r\n",
      "    type_counts = pkmn_types[\u001b[33m'\u001b[39;49;00m\u001b[33mtype\u001b[39;49;00m\u001b[33m'\u001b[39;49;00m].value_counts()\r\n",
      "    type_order = type_counts.index\r\n",
      "\r\n",
      "    \u001b[37m# Compute largest proportion\u001b[39;49;00m\r\n",
      "    \u001b[37m# Returns the sum of all not-null values in `type` column\u001b[39;49;00m\r\n",
      "    n_pokemon = pkmn_types[\u001b[33m'\u001b[39;49;00m\u001b[33mtype\u001b[39;49;00m\u001b[33m'\u001b[39;49;00m].value_counts().sum()\r\n",
      "    max_type_count = type_counts[\u001b[34m0\u001b[39;49;00m]\r\n",
      "    max_prop = max_type_count / n_pokemon\r\n",
      "\r\n",
      "    \u001b[37m# establish tick locations and create plot\u001b[39;49;00m\r\n",
      "    base_color = sb.color_palette()[\u001b[34m0\u001b[39;49;00m]\r\n",
      "    tick_props = np.arange(\u001b[34m0\u001b[39;49;00m, max_prop, \u001b[34m0.02\u001b[39;49;00m)\r\n",
      "    tick_names = [\u001b[33m'\u001b[39;49;00m\u001b[33m{:0.2f}\u001b[39;49;00m\u001b[33m'\u001b[39;49;00m.format(v) \u001b[34mfor\u001b[39;49;00m v \u001b[35min\u001b[39;49;00m tick_props]\r\n",
      "\r\n",
      "    base_color = sb.color_palette()[\u001b[34m0\u001b[39;49;00m]\r\n",
      "    sb.countplot(data = pkmn_types, y = \u001b[33m'\u001b[39;49;00m\u001b[33mtype\u001b[39;49;00m\u001b[33m'\u001b[39;49;00m, color = base_color, order = type_order)\r\n",
      "    plt.xticks(tick_props * n_pokemon, tick_names)\r\n",
      "    plt.xlabel(\u001b[33m'\u001b[39;49;00m\u001b[33mproportion\u001b[39;49;00m\u001b[33m'\u001b[39;49;00m)\r\n",
      "\r\n",
      "\r\n",
      "\u001b[34mdef\u001b[39;49;00m \u001b[32mhistogram_solution_1\u001b[39;49;00m():\r\n",
      "    \u001b[33m\"\"\"\u001b[39;49;00m\r\n",
      "\u001b[33m    Solution for Question 1 in histogram practice: create a histogram of\u001b[39;49;00m\r\n",
      "\u001b[33m    Pokemon special defense values.\u001b[39;49;00m\r\n",
      "\u001b[33m    \"\"\"\u001b[39;49;00m\r\n",
      "    sol_string = [\u001b[33m\"\u001b[39;49;00m\u001b[33mI\u001b[39;49;00m\u001b[33m'\u001b[39;49;00m\u001b[33mve used matplotlib\u001b[39;49;00m\u001b[33m'\u001b[39;49;00m\u001b[33ms hist function to plot the data.\u001b[39;49;00m\u001b[33m\"\u001b[39;49;00m,\r\n",
      "                  \u001b[33m\"\u001b[39;49;00m\u001b[33mI have also used numpy\u001b[39;49;00m\u001b[33m'\u001b[39;49;00m\u001b[33ms arange function to set the bin edges.\u001b[39;49;00m\u001b[33m\"\u001b[39;49;00m,\r\n",
      "                  \u001b[33m\"\u001b[39;49;00m\u001b[33mA bin size of 5 hits the main cut points, revealing a smooth,\u001b[39;49;00m\u001b[33m\"\u001b[39;49;00m,\r\n",
      "                  \u001b[33m\"\u001b[39;49;00m\u001b[33mbut skewed curves. Are there similar characteristics among\u001b[39;49;00m\u001b[33m\"\u001b[39;49;00m,\r\n",
      "                  \u001b[33m\"\u001b[39;49;00m\u001b[33mPokemon with the highest special defenses?\u001b[39;49;00m\u001b[33m\"\u001b[39;49;00m]\r\n",
      "    \u001b[34mprint\u001b[39;49;00m((\u001b[33m\"\u001b[39;49;00m\u001b[33m \u001b[39;49;00m\u001b[33m\"\u001b[39;49;00m).join(sol_string))\r\n",
      "\r\n",
      "    \u001b[37m# data setup\u001b[39;49;00m\r\n",
      "    pokemon = pd.read_csv(\u001b[33m'\u001b[39;49;00m\u001b[33mpokemon.csv\u001b[39;49;00m\u001b[33m'\u001b[39;49;00m)\r\n",
      "\r\n",
      "    bins = np.arange(\u001b[34m20\u001b[39;49;00m, pokemon[\u001b[33m'\u001b[39;49;00m\u001b[33mspecial-defense\u001b[39;49;00m\u001b[33m'\u001b[39;49;00m].max()+\u001b[34m5\u001b[39;49;00m, \u001b[34m5\u001b[39;49;00m)\r\n",
      "    plt.hist(pokemon[\u001b[33m'\u001b[39;49;00m\u001b[33mspecial-defense\u001b[39;49;00m\u001b[33m'\u001b[39;49;00m], bins = bins)\r\n",
      "\r\n",
      "\r\n",
      "\u001b[34mdef\u001b[39;49;00m \u001b[32mscales_solution_1\u001b[39;49;00m():\r\n",
      "    \u001b[33m\"\"\"\u001b[39;49;00m\r\n",
      "\u001b[33m    Solution for Question 1 in scales and transformation practice: create a\u001b[39;49;00m\r\n",
      "\u001b[33m    histogram of Pokemon heights.\u001b[39;49;00m\r\n",
      "\u001b[33m    \"\"\"\u001b[39;49;00m\r\n",
      "    sol_string = [\u001b[33m\"\u001b[39;49;00m\u001b[33mThere\u001b[39;49;00m\u001b[33m'\u001b[39;49;00m\u001b[33ms a very long tail of Pokemon heights. Here, I\u001b[39;49;00m\u001b[33m'\u001b[39;49;00m\u001b[33mve\u001b[39;49;00m\u001b[33m\"\u001b[39;49;00m,\r\n",
      "                  \u001b[33m\"\u001b[39;49;00m\u001b[33mfocused in on Pokemon of height 6 meters or less, so that I\u001b[39;49;00m\u001b[33m\"\u001b[39;49;00m,\r\n",
      "                  \u001b[33m\"\u001b[39;49;00m\u001b[33mcan use a smaller bin size to get a more detailed look at\u001b[39;49;00m\u001b[33m\"\u001b[39;49;00m,\r\n",
      "                  \u001b[33m\"\u001b[39;49;00m\u001b[33mthe main data distribution.\u001b[39;49;00m\u001b[33m\"\u001b[39;49;00m]\r\n",
      "    \u001b[34mprint\u001b[39;49;00m((\u001b[33m\"\u001b[39;49;00m\u001b[33m \u001b[39;49;00m\u001b[33m\"\u001b[39;49;00m).join(sol_string))\r\n",
      "\r\n",
      "    \u001b[37m# data setup\u001b[39;49;00m\r\n",
      "    pokemon = pd.read_csv(\u001b[33m'\u001b[39;49;00m\u001b[33mpokemon.csv\u001b[39;49;00m\u001b[33m'\u001b[39;49;00m)\r\n",
      "\r\n",
      "    bins = np.arange(\u001b[34m0\u001b[39;49;00m, pokemon[\u001b[33m'\u001b[39;49;00m\u001b[33mheight\u001b[39;49;00m\u001b[33m'\u001b[39;49;00m].max()+\u001b[34m0.2\u001b[39;49;00m, \u001b[34m0.2\u001b[39;49;00m)\r\n",
      "    plt.hist(data = pokemon, x = \u001b[33m'\u001b[39;49;00m\u001b[33mheight\u001b[39;49;00m\u001b[33m'\u001b[39;49;00m, bins = bins)\r\n",
      "    plt.xlim((\u001b[34m0\u001b[39;49;00m,\u001b[34m6\u001b[39;49;00m))\r\n",
      "\r\n",
      "\r\n",
      "\u001b[34mdef\u001b[39;49;00m \u001b[32mscales_solution_2\u001b[39;49;00m():\r\n",
      "    \u001b[33m\"\"\"\u001b[39;49;00m\r\n",
      "\u001b[33m    Solution for Question 2 in scales and transformation practice: create a\u001b[39;49;00m\r\n",
      "\u001b[33m    histogram of Pokemon weights.\u001b[39;49;00m\r\n",
      "\u001b[33m    \"\"\"\u001b[39;49;00m\r\n",
      "    sol_string = [\u001b[33m\"\u001b[39;49;00m\u001b[33mSince Pokemon weights are so skewed, I used a log transformation\u001b[39;49;00m\u001b[33m\"\u001b[39;49;00m,\r\n",
      "                  \u001b[33m\"\u001b[39;49;00m\u001b[33mon the x-axis. Bin edges are in increments of 0.1 powers of ten,\u001b[39;49;00m\u001b[33m\"\u001b[39;49;00m,\r\n",
      "                  \u001b[33m\"\u001b[39;49;00m\u001b[33mwith custom tick marks to demonstrate the log scaling.\u001b[39;49;00m\u001b[33m\"\u001b[39;49;00m]\r\n",
      "    \u001b[34mprint\u001b[39;49;00m((\u001b[33m\"\u001b[39;49;00m\u001b[33m \u001b[39;49;00m\u001b[33m\"\u001b[39;49;00m).join(sol_string))\r\n",
      "\r\n",
      "    \u001b[37m# data setup\u001b[39;49;00m\r\n",
      "    pokemon = pd.read_csv(\u001b[33m'\u001b[39;49;00m\u001b[33mpokemon.csv\u001b[39;49;00m\u001b[33m'\u001b[39;49;00m)\r\n",
      "\r\n",
      "    bins = \u001b[34m10\u001b[39;49;00m ** np.arange(-\u001b[34m1\u001b[39;49;00m, \u001b[34m3.0\u001b[39;49;00m+\u001b[34m0.1\u001b[39;49;00m, \u001b[34m0.1\u001b[39;49;00m)\r\n",
      "    ticks = [\u001b[34m0.1\u001b[39;49;00m, \u001b[34m0.3\u001b[39;49;00m, \u001b[34m1\u001b[39;49;00m, \u001b[34m3\u001b[39;49;00m, \u001b[34m10\u001b[39;49;00m, \u001b[34m30\u001b[39;49;00m, \u001b[34m100\u001b[39;49;00m, \u001b[34m300\u001b[39;49;00m, \u001b[34m1000\u001b[39;49;00m]\r\n",
      "    labels = [\u001b[33m'\u001b[39;49;00m\u001b[33m{}\u001b[39;49;00m\u001b[33m'\u001b[39;49;00m.format(val) \u001b[34mfor\u001b[39;49;00m val \u001b[35min\u001b[39;49;00m ticks]\r\n",
      "\r\n",
      "    plt.hist(data = pokemon, x = \u001b[33m'\u001b[39;49;00m\u001b[33mweight\u001b[39;49;00m\u001b[33m'\u001b[39;49;00m, bins = bins)\r\n",
      "    plt.xscale(\u001b[33m'\u001b[39;49;00m\u001b[33mlog\u001b[39;49;00m\u001b[33m'\u001b[39;49;00m)\r\n",
      "    plt.xticks(ticks, labels)\r\n",
      "    plt.xlabel(\u001b[33m'\u001b[39;49;00m\u001b[33mWeight (kg)\u001b[39;49;00m\u001b[33m'\u001b[39;49;00m)\r\n"
     ]
    }
   ],
   "source": [
    "!pygmentize solutions_univ.py"
   ]
  },
  {
   "cell_type": "code",
   "execution_count": null,
   "metadata": {},
   "outputs": [],
   "source": []
  }
 ],
 "metadata": {
  "kernelspec": {
   "display_name": "Python 3",
   "language": "python",
   "name": "python3"
  },
  "language_info": {
   "codemirror_mode": {
    "name": "ipython",
    "version": 3
   },
   "file_extension": ".py",
   "mimetype": "text/x-python",
   "name": "python",
   "nbconvert_exporter": "python",
   "pygments_lexer": "ipython3",
   "version": "3.7.4"
  }
 },
 "nbformat": 4,
 "nbformat_minor": 2
}
