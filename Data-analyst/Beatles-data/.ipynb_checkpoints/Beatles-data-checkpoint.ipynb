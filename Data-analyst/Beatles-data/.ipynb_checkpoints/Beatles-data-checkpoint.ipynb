{
 "cells": [
  {
   "cell_type": "markdown",
   "metadata": {},
   "source": [
    "Parsing data"
   ]
  },
  {
   "cell_type": "code",
   "execution_count": 15,
   "metadata": {},
   "outputs": [
    {
     "name": "stdout",
     "output_type": "stream",
     "text": [
      "['Title', 'Released', 'Label', 'UK Chart Position', 'US Chart Position', 'BPI Certification', 'RIAA Certification']\n"
     ]
    },
    {
     "data": {
      "text/plain": [
       "[{'Title': 'Please Please Me',\n",
       "  'Released': '22 March 1963',\n",
       "  'Label': 'Parlophone(UK)',\n",
       "  'UK Chart Position': '1',\n",
       "  'US Chart Position': '-',\n",
       "  'BPI Certification': 'Gold',\n",
       "  'RIAA Certification': 'Platinum'},\n",
       " {'Title': 'With the Beatles',\n",
       "  'Released': '22 November 1963',\n",
       "  'Label': 'Parlophone(UK)',\n",
       "  'UK Chart Position': '1',\n",
       "  'US Chart Position': '-',\n",
       "  'BPI Certification': 'Platinum',\n",
       "  'RIAA Certification': 'Gold'},\n",
       " {'Title': 'Beatlemania! With the Beatles',\n",
       "  'Released': '25 November 1963',\n",
       "  'Label': 'Capitol(CAN)',\n",
       "  'UK Chart Position': '-',\n",
       "  'US Chart Position': '-',\n",
       "  'BPI Certification': '',\n",
       "  'RIAA Certification': ''},\n",
       " {'Title': 'Introducing... The Beatles',\n",
       "  'Released': '10 January 1964',\n",
       "  'Label': 'Vee-Jay(US)',\n",
       "  'UK Chart Position': '-',\n",
       "  'US Chart Position': '2',\n",
       "  'BPI Certification': '',\n",
       "  'RIAA Certification': ''},\n",
       " {'Title': 'Meet the Beatles!',\n",
       "  'Released': '20 January 1964',\n",
       "  'Label': 'Capitol(US)',\n",
       "  'UK Chart Position': '-',\n",
       "  'US Chart Position': '1',\n",
       "  'BPI Certification': '',\n",
       "  'RIAA Certification': '5xPlatinum'},\n",
       " {'Title': 'Twist and Shout',\n",
       "  'Released': '3 February 1964',\n",
       "  'Label': 'Capitol(CAN)',\n",
       "  'UK Chart Position': '-',\n",
       "  'US Chart Position': '-',\n",
       "  'BPI Certification': '',\n",
       "  'RIAA Certification': ''},\n",
       " {'Title': \"The Beatles' Second Album\",\n",
       "  'Released': '10 April 1964',\n",
       "  'Label': 'Capitol(US)',\n",
       "  'UK Chart Position': '-',\n",
       "  'US Chart Position': '1',\n",
       "  'BPI Certification': '',\n",
       "  'RIAA Certification': '2xPlatinum'},\n",
       " {'Title': \"The Beatles' Long Tall Sally\",\n",
       "  'Released': '11 May 1964',\n",
       "  'Label': 'Capitol(CAN)',\n",
       "  'UK Chart Position': '-',\n",
       "  'US Chart Position': '-',\n",
       "  'BPI Certification': '',\n",
       "  'RIAA Certification': ''},\n",
       " {'Title': \"A Hard Day's Night\",\n",
       "  'Released': '26 June 1964',\n",
       "  'Label': 'United Artists(US)[C]',\n",
       "  'UK Chart Position': '-',\n",
       "  'US Chart Position': '1',\n",
       "  'BPI Certification': '',\n",
       "  'RIAA Certification': '4xPlatinum'},\n",
       " {'Title': '',\n",
       "  'Released': '10 July 1964',\n",
       "  'Label': 'Parlophone(UK)',\n",
       "  'UK Chart Position': '1',\n",
       "  'US Chart Position': '-',\n",
       "  'BPI Certification': 'Gold',\n",
       "  'RIAA Certification': ''}]"
      ]
     },
     "execution_count": 15,
     "metadata": {},
     "output_type": "execute_result"
    }
   ],
   "source": [
    "data = []\n",
    "\n",
    "with open(\"beatles-diskography.csv\") as f:\n",
    "    header = f.readline().strip().split(\",\")\n",
    "    print(header)\n",
    "    \n",
    "    counter = 0\n",
    "    \n",
    "    for line in f.readlines():\n",
    "        if counter == 10:\n",
    "            break\n",
    "        dictionary = {}\n",
    "        for i,v in enumerate(line.split(\",\")):\n",
    "            dictionary[header[i].strip()] = v.strip()\n",
    "        \n",
    "        counter += 1\n",
    "        data.append(dictionary)\n",
    "        \n",
    "data"
   ]
  },
  {
   "cell_type": "markdown",
   "metadata": {},
   "source": [
    "parsing data with `csv`"
   ]
  },
  {
   "cell_type": "code",
   "execution_count": 16,
   "metadata": {},
   "outputs": [],
   "source": [
    "import csv"
   ]
  },
  {
   "cell_type": "code",
   "execution_count": 18,
   "metadata": {},
   "outputs": [
    {
     "data": {
      "text/plain": [
       "[OrderedDict([('Title', 'Please Please Me'),\n",
       "              ('Released', '22 March 1963'),\n",
       "              ('Label', 'Parlophone(UK)'),\n",
       "              ('UK Chart Position', '1'),\n",
       "              ('US Chart Position', '-'),\n",
       "              ('BPI Certification', 'Gold'),\n",
       "              ('RIAA Certification', 'Platinum')]),\n",
       " OrderedDict([('Title', 'With the Beatles'),\n",
       "              ('Released', '22 November 1963'),\n",
       "              ('Label', 'Parlophone(UK)'),\n",
       "              ('UK Chart Position', '1'),\n",
       "              ('US Chart Position', '-'),\n",
       "              ('BPI Certification', 'Platinum'),\n",
       "              ('RIAA Certification', 'Gold')]),\n",
       " OrderedDict([('Title', 'Beatlemania! With the Beatles'),\n",
       "              ('Released', '25 November 1963'),\n",
       "              ('Label', 'Capitol(CAN)'),\n",
       "              ('UK Chart Position', '-'),\n",
       "              ('US Chart Position', '-'),\n",
       "              ('BPI Certification', ''),\n",
       "              ('RIAA Certification', '')]),\n",
       " OrderedDict([('Title', 'Introducing... The Beatles'),\n",
       "              ('Released', '10 January 1964'),\n",
       "              ('Label', 'Vee-Jay(US)'),\n",
       "              ('UK Chart Position', '-'),\n",
       "              ('US Chart Position', '2'),\n",
       "              ('BPI Certification', ''),\n",
       "              ('RIAA Certification', '')]),\n",
       " OrderedDict([('Title', 'Meet the Beatles!'),\n",
       "              ('Released', '20 January 1964'),\n",
       "              ('Label', 'Capitol(US)'),\n",
       "              ('UK Chart Position', '-'),\n",
       "              ('US Chart Position', '1'),\n",
       "              ('BPI Certification', ''),\n",
       "              ('RIAA Certification', '5xPlatinum')]),\n",
       " OrderedDict([('Title', 'Twist and Shout'),\n",
       "              ('Released', '3 February 1964'),\n",
       "              ('Label', 'Capitol(CAN)'),\n",
       "              ('UK Chart Position', '-'),\n",
       "              ('US Chart Position', '-'),\n",
       "              ('BPI Certification', ''),\n",
       "              ('RIAA Certification', '')]),\n",
       " OrderedDict([('Title', \"The Beatles' Second Album\"),\n",
       "              ('Released', '10 April 1964'),\n",
       "              ('Label', 'Capitol(US)'),\n",
       "              ('UK Chart Position', '-'),\n",
       "              ('US Chart Position', '1'),\n",
       "              ('BPI Certification', ''),\n",
       "              ('RIAA Certification', '2xPlatinum')]),\n",
       " OrderedDict([('Title', \"The Beatles' Long Tall Sally\"),\n",
       "              ('Released', '11 May 1964'),\n",
       "              ('Label', 'Capitol(CAN)'),\n",
       "              ('UK Chart Position', '-'),\n",
       "              ('US Chart Position', '-'),\n",
       "              ('BPI Certification', ''),\n",
       "              ('RIAA Certification', '')]),\n",
       " OrderedDict([('Title', \"A Hard Day's Night\"),\n",
       "              ('Released', '26 June 1964'),\n",
       "              ('Label', 'United Artists(US)[C]'),\n",
       "              ('UK Chart Position', '-'),\n",
       "              ('US Chart Position', '1'),\n",
       "              ('BPI Certification', ''),\n",
       "              ('RIAA Certification', '4xPlatinum')]),\n",
       " OrderedDict([('Title', ''),\n",
       "              ('Released', '10 July 1964'),\n",
       "              ('Label', 'Parlophone(UK)'),\n",
       "              ('UK Chart Position', '1'),\n",
       "              ('US Chart Position', '-'),\n",
       "              ('BPI Certification', 'Gold'),\n",
       "              ('RIAA Certification', '')])]"
      ]
     },
     "execution_count": 18,
     "metadata": {},
     "output_type": "execute_result"
    }
   ],
   "source": [
    "data = []\n",
    "\n",
    "with open(\"beatles-diskography.csv\", \"r\") as f:\n",
    "    r = csv.DictReader(f)\n",
    "    for line in r:\n",
    "        data.append(line)\n",
    "\n",
    "data[:10]"
   ]
  },
  {
   "cell_type": "code",
   "execution_count": null,
   "metadata": {},
   "outputs": [],
   "source": []
  }
 ],
 "metadata": {
  "kernelspec": {
   "display_name": "Python 3",
   "language": "python",
   "name": "python3"
  },
  "language_info": {
   "codemirror_mode": {
    "name": "ipython",
    "version": 3
   },
   "file_extension": ".py",
   "mimetype": "text/x-python",
   "name": "python",
   "nbconvert_exporter": "python",
   "pygments_lexer": "ipython3",
   "version": "3.7.4"
  }
 },
 "nbformat": 4,
 "nbformat_minor": 2
}
